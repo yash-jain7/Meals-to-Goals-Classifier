{
 "cells": [
  {
   "cell_type": "code",
   "execution_count": 1,
   "id": "d328adba",
   "metadata": {},
   "outputs": [
    {
     "name": "stderr",
     "output_type": "stream",
     "text": [
      "/Users/yashjain/miniforge3/envs/tensorflow/lib/python3.9/site-packages/matplotlib/__init__.py:152: DeprecationWarning: distutils Version classes are deprecated. Use packaging.version instead.\n",
      "  if LooseVersion(module.__version__) < minver:\n",
      "/Users/yashjain/miniforge3/envs/tensorflow/lib/python3.9/site-packages/setuptools/_distutils/version.py:351: DeprecationWarning: distutils Version classes are deprecated. Use packaging.version instead.\n",
      "  other = LooseVersion(other)\n",
      "/Users/yashjain/miniforge3/envs/tensorflow/lib/python3.9/site-packages/matplotlib/__init__.py:152: DeprecationWarning: distutils Version classes are deprecated. Use packaging.version instead.\n",
      "  if LooseVersion(module.__version__) < minver:\n",
      "/Users/yashjain/miniforge3/envs/tensorflow/lib/python3.9/site-packages/setuptools/_distutils/version.py:351: DeprecationWarning: distutils Version classes are deprecated. Use packaging.version instead.\n",
      "  other = LooseVersion(other)\n",
      "/Users/yashjain/miniforge3/envs/tensorflow/lib/python3.9/site-packages/matplotlib/__init__.py:152: DeprecationWarning: distutils Version classes are deprecated. Use packaging.version instead.\n",
      "  if LooseVersion(module.__version__) < minver:\n",
      "/Users/yashjain/miniforge3/envs/tensorflow/lib/python3.9/site-packages/setuptools/_distutils/version.py:351: DeprecationWarning: distutils Version classes are deprecated. Use packaging.version instead.\n",
      "  other = LooseVersion(other)\n",
      "/Users/yashjain/miniforge3/envs/tensorflow/lib/python3.9/site-packages/matplotlib/__init__.py:152: DeprecationWarning: distutils Version classes are deprecated. Use packaging.version instead.\n",
      "  if LooseVersion(module.__version__) < minver:\n",
      "/Users/yashjain/miniforge3/envs/tensorflow/lib/python3.9/site-packages/setuptools/_distutils/version.py:351: DeprecationWarning: distutils Version classes are deprecated. Use packaging.version instead.\n",
      "  other = LooseVersion(other)\n",
      "/Users/yashjain/miniforge3/envs/tensorflow/lib/python3.9/site-packages/matplotlib/__init__.py:152: DeprecationWarning: distutils Version classes are deprecated. Use packaging.version instead.\n",
      "  if LooseVersion(module.__version__) < minver:\n",
      "/Users/yashjain/miniforge3/envs/tensorflow/lib/python3.9/site-packages/setuptools/_distutils/version.py:351: DeprecationWarning: distutils Version classes are deprecated. Use packaging.version instead.\n",
      "  other = LooseVersion(other)\n",
      "/Users/yashjain/miniforge3/envs/tensorflow/lib/python3.9/site-packages/ipykernel/pylab/backend_inline.py:164: DeprecationWarning: `configure_inline_support` is deprecated since IPython 7.23, directly use `matplotlib_inline.backend_inline.configure_inline_support()`\n",
      "  configure_inline_support(ip, backend)\n",
      "/Users/yashjain/miniforge3/envs/tensorflow/lib/python3.9/site-packages/seaborn/rcmod.py:82: DeprecationWarning: distutils Version classes are deprecated. Use packaging.version instead.\n",
      "  if LooseVersion(mpl.__version__) >= \"3.0\":\n",
      "/Users/yashjain/miniforge3/envs/tensorflow/lib/python3.9/site-packages/setuptools/_distutils/version.py:351: DeprecationWarning: distutils Version classes are deprecated. Use packaging.version instead.\n",
      "  other = LooseVersion(other)\n"
     ]
    }
   ],
   "source": [
    "import pandas as pd\n",
    "import numpy as np\n",
    "\n",
    "import re\n",
    "import string\n",
    "\n",
    "from nltk.corpus import stopwords\n",
    "import gensim\n",
    "from gensim import corpora\n",
    "import nltk\n",
    "# libraries for visualization\n",
    "import pyLDAvis\n",
    "#import pyLDAvis.gensim\n",
    "import pyLDAvis.gensim_models as gensimvis\n",
    "import matplotlib.pyplot as plt\n",
    "import seaborn as sns\n",
    "%matplotlib inline\n",
    "import warnings\n",
    "warnings.filterwarnings(\"ignore\")\n",
    "import pandas as pd\n",
    "import gensim\n",
    "import numpy as np\n",
    "from sklearn.model_selection import KFold\n",
    "import nltk\n",
    "from nltk.corpus import stopwords\n",
    "# Import textblob\n",
    "from textblob import Word, TextBlob\n",
    "from nltk.tag import pos_tag\n",
    "from sklearn.manifold import TSNE"
   ]
  },
  {
   "cell_type": "code",
   "execution_count": 2,
   "id": "7d78544b",
   "metadata": {},
   "outputs": [],
   "source": [
    "df = pd.read_excel('Meals_w_Goals_deid_snapshot.xlsx', 'all_combined', index_col=None) "
   ]
  },
  {
   "cell_type": "code",
   "execution_count": 3,
   "id": "559f5ebd",
   "metadata": {},
   "outputs": [
    {
     "data": {
      "text/plain": [
       "array(['plant_proteins', 'fruit', 'choose_whole_grain_carbs', 'water',\n",
       "       'variety_fruits_vegetables', 'lean_proteins', 'low_fat',\n",
       "       'low_fat_dairy', 'low_glycemic_index', 'no_added_sugar',\n",
       "       'vegetable_fats', 'vegetables', 'whole_grains'], dtype=object)"
      ]
     },
     "execution_count": 3,
     "metadata": {},
     "output_type": "execute_result"
    }
   ],
   "source": [
    "df['goal_short_name'].unique()"
   ]
  },
  {
   "cell_type": "code",
   "execution_count": 4,
   "id": "7cc45d10",
   "metadata": {},
   "outputs": [],
   "source": [
    "#implementing a spell check\n",
    "import re\n",
    "from collections import Counter\n",
    "\n",
    "def words(text): return re.findall(r'\\w+', text.lower())\n",
    "\n",
    "WORDS = Counter(words(open('data.txt').read()))\n",
    "\n",
    "def P(word, N=sum(WORDS.values())): \n",
    "    \"Probability of `word`.\"\n",
    "    return WORDS[word] / N\n",
    "\n",
    "def correction(word): \n",
    "    \"Most probable spelling correction for word.\"\n",
    "    return max(candidates(word), key=P)\n",
    "\n",
    "def candidates(word): \n",
    "    \"Generate possible spelling corrections for word.\"\n",
    "    return (known([word]) or known(edits1(word)) or known(edits2(word)) or [word])\n",
    "\n",
    "def known(words): \n",
    "    \"The subset of `words` that appear in the dictionary of WORDS.\"\n",
    "    return set(w for w in words if w in WORDS)\n",
    "\n",
    "def edits1(word):\n",
    "    \"All edits that are one edit away from `word`.\"\n",
    "    letters    = 'abcdefghijklmnopqrstuvwxyz'\n",
    "    splits     = [(word[:i], word[i:])    for i in range(len(word) + 1)]\n",
    "    deletes    = [L + R[1:]               for L, R in splits if R]\n",
    "    transposes = [L + R[1] + R[0] + R[2:] for L, R in splits if len(R)>1]\n",
    "    replaces   = [L + c + R[1:]           for L, R in splits if R for c in letters]\n",
    "    inserts    = [L + c + R               for L, R in splits for c in letters]\n",
    "    return set(deletes + transposes + replaces + inserts)\n",
    "\n",
    "def edits2(word): \n",
    "    \"All edits that are two edits away from `word`.\"\n",
    "    return (e2 for e1 in edits1(word) for e2 in edits1(e1))"
   ]
  },
  {
   "cell_type": "code",
   "execution_count": 5,
   "id": "30024aee",
   "metadata": {},
   "outputs": [
    {
     "data": {
      "text/plain": [
       "'corn'"
      ]
     },
     "execution_count": 5,
     "metadata": {},
     "output_type": "execute_result"
    }
   ],
   "source": [
    "correction('con')"
   ]
  },
  {
   "cell_type": "code",
   "execution_count": 6,
   "id": "f4f0272d",
   "metadata": {},
   "outputs": [
    {
     "data": {
      "text/plain": [
       "'wheat'"
      ]
     },
     "execution_count": 6,
     "metadata": {},
     "output_type": "execute_result"
    }
   ],
   "source": [
    "correction('weat')"
   ]
  },
  {
   "cell_type": "code",
   "execution_count": 7,
   "id": "8e5bd44d",
   "metadata": {
    "scrolled": true
   },
   "outputs": [
    {
     "data": {
      "text/plain": [
       "'pepper'"
      ]
     },
     "execution_count": 7,
     "metadata": {},
     "output_type": "execute_result"
    }
   ],
   "source": [
    "correction('peeper')"
   ]
  },
  {
   "cell_type": "code",
   "execution_count": 8,
   "id": "302b3df6",
   "metadata": {},
   "outputs": [
    {
     "name": "stderr",
     "output_type": "stream",
     "text": [
      "[nltk_data] Downloading package stopwords to\n",
      "[nltk_data]     /Users/yashjain/nltk_data...\n",
      "[nltk_data]   Package stopwords is already up-to-date!\n",
      "[nltk_data] Downloading package wordnet to\n",
      "[nltk_data]     /Users/yashjain/nltk_data...\n",
      "[nltk_data]   Package wordnet is already up-to-date!\n"
     ]
    }
   ],
   "source": [
    "nltk.download('stopwords')\n",
    "nltk.download('wordnet')\n",
    "stop_words = set(stopwords.words('english') + list(string.punctuation))\n",
    "stop_words.update(['oz', 'tbsp', 'lb', 'lbs', 'cup', 'tablespoon', 'tsp', 'teaspoon', 'numbers', 'half', 'bowl', 'bottle', 'tspn'])\n",
    "# Define a set\n",
    "punctuation = ['!','\"','#','$','%','&',\"'\",'(',')','*', '+',',','-','.','/',':',';','<','=','>','?','@','[','\\\\',']','^','_','`','1','2','3','4','5', '6', '7', '8', '9','0']"
   ]
  },
  {
   "cell_type": "code",
   "execution_count": 9,
   "id": "2d73b135",
   "metadata": {},
   "outputs": [],
   "source": [
    "def preprocess_meals(meal):\n",
    "    processed_meal = ''\n",
    "    for i in meal:\n",
    "        if i not in punctuation: #remove any punctuation marks\n",
    "            processed_meal += i\n",
    "    processed_meal = processed_meal.lower() #llower case\n",
    "    processed_meal = \" \".join(correction(word) for word in processed_meal.split())#spell check and correct the words\n",
    "    processed_meal = \" \".join(word for word in processed_meal.split() if word not in stop_words)#remove stop words\n",
    "    processed_meal = \" \".join(Word(word).lemmatize() for word in processed_meal.split() if len(word)>2)#lemmatization\n",
    "    processed_meal = processed_meal.replace('\\d+', '')#removing digits if any\n",
    "    return(processed_meal)"
   ]
  },
  {
   "cell_type": "code",
   "execution_count": 10,
   "id": "0c8d9b77",
   "metadata": {},
   "outputs": [],
   "source": [
    "from sklearn.preprocessing import OrdinalEncoder\n",
    "label = df['expert_assessment']\n",
    "enc = OrdinalEncoder(categories = [['not_really', 'yes']])\n",
    "df['expert_assessment'] = enc.fit_transform(label.to_numpy().reshape(-1,1))"
   ]
  },
  {
   "cell_type": "code",
   "execution_count": 11,
   "id": "0f581674",
   "metadata": {},
   "outputs": [
    {
     "data": {
      "text/plain": [
       "0                                         Pretzel Pretzel\n",
       "1            Turkey burger salad Salad with turkey burger\n",
       "2             Quinoa and vegetables Quinoa and vegetables\n",
       "3         Chicken and salad Chicken with mixed vegetables\n",
       "4       Salad and sweet potatoes Salad ,sweet potatoes...\n",
       "                              ...                        \n",
       "7245    Chicken patty,  wholewheat wrap ,mozzarella ch...\n",
       "7246    Bowl of oatmeal, 2 x hard-boiled eggs and 16 o...\n",
       "7247                                       Oatmeal Cereal\n",
       "7248    Whiting fish sandwich with 1 x tablespoon of t...\n",
       "7249    Bowl of Minestrone soup, 2 x slices of whole w...\n",
       "Name: ingredients_and_title, Length: 7250, dtype: object"
      ]
     },
     "execution_count": 11,
     "metadata": {},
     "output_type": "execute_result"
    }
   ],
   "source": [
    "#df = df[df['expert_assessment']==1]\n",
    "\n",
    "df['ingredients_and_title'] = df['meal_ingredients'].astype(str) +' '+ df['meal_title'].astype(str) #combining ingredients and title\n",
    "\n",
    "df['ingredients_and_title']"
   ]
  },
  {
   "cell_type": "code",
   "execution_count": 12,
   "id": "2ff0f090",
   "metadata": {},
   "outputs": [],
   "source": [
    "df['ingredients_and_title'] = df['ingredients_and_title'].apply(lambda x: preprocess_meals(x))"
   ]
  },
  {
   "cell_type": "code",
   "execution_count": 13,
   "id": "ee9181b9",
   "metadata": {},
   "outputs": [],
   "source": [
    "df_list = df['ingredients_and_title'].tolist()"
   ]
  },
  {
   "cell_type": "code",
   "execution_count": 14,
   "id": "c055fb44",
   "metadata": {},
   "outputs": [],
   "source": [
    "df_list = [d.split() for d in df_list]"
   ]
  },
  {
   "cell_type": "code",
   "execution_count": 15,
   "id": "6a70d674",
   "metadata": {},
   "outputs": [],
   "source": [
    "# Creating term dictionary of corpus, where each unique term is assigned an index.\n",
    "dictionary = corpora.Dictionary(df_list) #making a dictionary\n",
    "doc_term_matrix = [dictionary.doc2bow(rev) for rev in df_list] "
   ]
  },
  {
   "cell_type": "code",
   "execution_count": 16,
   "id": "883567b0",
   "metadata": {},
   "outputs": [],
   "source": [
    "# Creating the object for LDA model using gensim library\n",
    "LDA = gensim.models.ldamodel.LdaModel\n",
    "\n",
    "# Build LDA model\n",
    "lda_model = LDA(corpus=doc_term_matrix, id2word=dictionary, num_topics=8, random_state=100,\n",
    "                chunksize=50, passes=50,iterations=1000) #building the LDA model"
   ]
  },
  {
   "cell_type": "code",
   "execution_count": 17,
   "id": "14a34107",
   "metadata": {},
   "outputs": [
    {
     "data": {
      "text/plain": [
       "[(0,\n",
       "  '0.117*\"potato\" + 0.071*\"turkey\" + 0.049*\"carrot\" + 0.036*\"punch\" + 0.031*\"shrimp\" + 0.031*\"veggie\" + 0.031*\"mustard\" + 0.030*\"baker\" + 0.028*\"string\" + 0.028*\"juice\"'),\n",
       " (1,\n",
       "  '0.100*\"salad\" + 0.085*\"water\" + 0.081*\"white\" + 0.077*\"rice\" + 0.071*\"bean\" + 0.064*\"chicken\" + 0.050*\"tomato\" + 0.035*\"lettuce\" + 0.035*\"mixed\" + 0.026*\"carrot\"'),\n",
       " (2,\n",
       "  '0.116*\"chicken\" + 0.067*\"rice\" + 0.058*\"corn\" + 0.048*\"pork\" + 0.048*\"broccoli\" + 0.044*\"vegetable\" + 0.043*\"fried\" + 0.042*\"sauce\" + 0.034*\"white\" + 0.029*\"roast\"'),\n",
       " (3,\n",
       "  '0.109*\"onion\" + 0.053*\"pepper\" + 0.048*\"green\" + 0.042*\"breast\" + 0.037*\"yogurt\" + 0.037*\"fish\" + 0.032*\"tomato\" + 0.032*\"water\" + 0.028*\"olive\" + 0.028*\"oil\"'),\n",
       " (4,\n",
       "  '0.116*\"egg\" + 0.089*\"cut\" + 0.071*\"coffee\" + 0.060*\"white\" + 0.052*\"black\" + 0.049*\"cheese\" + 0.049*\"banana\" + 0.036*\"sugar\" + 0.031*\"bread\" + 0.030*\"hardboiled\"'),\n",
       " (5,\n",
       "  '0.107*\"cheese\" + 0.057*\"butter\" + 0.049*\"hot\" + 0.039*\"cream\" + 0.030*\"large\" + 0.028*\"white\" + 0.024*\"boiled\" + 0.022*\"chip\" + 0.020*\"peanut\" + 0.020*\"wrap\"'),\n",
       " (6,\n",
       "  '0.141*\"water\" + 0.082*\"bread\" + 0.080*\"sandwich\" + 0.066*\"wheat\" + 0.055*\"beef\" + 0.050*\"whole\" + 0.038*\"ham\" + 0.028*\"almond\" + 0.021*\"baked\" + 0.020*\"tuna\"'),\n",
       " (7,\n",
       "  '0.095*\"soup\" + 0.069*\"water\" + 0.064*\"one\" + 0.055*\"pea\" + 0.052*\"orange\" + 0.051*\"organic\" + 0.042*\"cheddar\" + 0.034*\"cracker\" + 0.032*\"cereal\" + 0.028*\"bagel\"')]"
      ]
     },
     "execution_count": 17,
     "metadata": {},
     "output_type": "execute_result"
    }
   ],
   "source": [
    "lda_model.print_topics()"
   ]
  },
  {
   "cell_type": "code",
   "execution_count": 18,
   "id": "f5aae68c",
   "metadata": {
    "scrolled": false
   },
   "outputs": [
    {
     "data": {
      "text/html": [
       "\n",
       "<link rel=\"stylesheet\" type=\"text/css\" href=\"https://cdn.jsdelivr.net/gh/bmabey/pyLDAvis@3.3.1/pyLDAvis/js/ldavis.v1.0.0.css\">\n",
       "\n",
       "\n",
       "<div id=\"ldavis_el89960947310724684830179\"></div>\n",
       "<script type=\"text/javascript\">\n",
       "\n",
       "var ldavis_el89960947310724684830179_data = {\"mdsDat\": {\"x\": [-0.1663641604396312, -0.03429634568575672, 0.18976464510711102, -0.1873967503807796, 0.24236446408754922, -0.04506084166994466, -0.2219982688742568, 0.222987257855709], \"y\": [-0.264150129313499, 0.09545262717526906, 0.04174005344698335, 0.23411388212081827, -0.12914162421472325, 0.23476458404204678, -0.19012995872477456, -0.022649434532121065], \"topics\": [1, 2, 3, 4, 5, 6, 7, 8], \"cluster\": [1, 1, 1, 1, 1, 1, 1, 1], \"Freq\": [20.785013064182785, 19.42846365070313, 11.954767681272283, 11.910054144519682, 11.785335250179301, 8.731784708325343, 8.167810634433193, 7.236770866384283]}, \"tinfo\": {\"Term\": [\"egg\", \"water\", \"chicken\", \"salad\", \"cut\", \"cheese\", \"onion\", \"rice\", \"potato\", \"coffee\", \"bread\", \"bean\", \"sandwich\", \"soup\", \"black\", \"wheat\", \"white\", \"banana\", \"tomato\", \"turkey\", \"corn\", \"carrot\", \"beef\", \"pepper\", \"whole\", \"green\", \"one\", \"pork\", \"broccoli\", \"sugar\", \"egg\", \"cut\", \"coffee\", \"black\", \"banana\", \"sugar\", \"hardboiled\", \"fry\", \"oatmeal\", \"sausage\", \"milk\", \"bacon\", \"slice\", \"top\", \"roll\", \"raw\", \"sweet\", \"breakfast\", \"grit\", \"pancake\", \"apple\", \"grain\", \"lightly\", \"smeared\", \"spice\", \"french\", \"omelette\", \"buttered\", \"jack\", \"paste\", \"cheese\", \"white\", \"bread\", \"pepper\", \"salad\", \"bean\", \"mixed\", \"yellow\", \"spinach\", \"steak\", \"strawberry\", \"cucumber\", \"tangerine\", \"meatball\", \"mushroom\", \"dressing\", \"pasta\", \"lettucetomato\", \"noodle\", \"feta\", \"pumpkin\", \"cherry\", \"asparagus\", \"romaine\", \"ziti\", \"kidney\", \"shredded\", \"lobster\", \"table\", \"leek\", \"parmesan\", \"strip\", \"greenred\", \"gouda\", \"lettuce\", \"tomato\", \"red\", \"rice\", \"white\", \"chicken\", \"water\", \"carrot\", \"rib\", \"cheese\", \"pepper\", \"onion\", \"green\", \"breast\", \"yogurt\", \"fish\", \"olive\", \"oil\", \"fruit\", \"salmon\", \"herb\", \"garlic\", \"greek\", \"grape\", \"bun\", \"spaghetti\", \"plantain\", \"ground\", \"lite\", \"seasoning\", \"stir\", \"cauliflower\", \"food\", \"chilled\", \"vinegar\", \"kale\", \"pear\", \"pickle\", \"lamb\", \"baby\", \"beer\", \"pepper\", \"tomato\", \"salt\", \"water\", \"red\", \"lettuce\", \"corn\", \"pork\", \"broccoli\", \"vegetable\", \"fried\", \"roast\", \"cap\", \"chop\", \"dinner\", \"toasted\", \"granule\", \"free\", \"fat\", \"lemon\", \"honey\", \"stuffing\", \"cilantro\", \"ginger\", \"salsa\", \"plain\", \"chinese\", \"hummus\", \"oat\", \"taco\", \"squash\", \"soy\", \"hash\", \"lime\", \"maca\", \"wing\", \"sauce\", \"chicken\", \"avocado\", \"rice\", \"white\", \"cabbage\", \"sandwich\", \"wheat\", \"whole\", \"ham\", \"almond\", \"baked\", \"tuna\", \"tea\", \"brown\", \"blueberry\", \"seed\", \"whipping\", \"coconut\", \"date\", \"pineapple\", \"mayo\", \"minestrone\", \"low\", \"stew\", \"muffin\", \"dried\", \"zucchini\", \"swiss\", \"zest\", \"raisin\", \"fig\", \"blackberry\", \"walnut\", \"salami\", \"tartar\", \"beef\", \"tablespoon\", \"bread\", \"water\", \"bow\", \"potato\", \"turkey\", \"punch\", \"shrimp\", \"veggie\", \"mustard\", \"baker\", \"string\", \"juice\", \"burger\", \"small\", \"glass\", \"meat\", \"celery\", \"bit\", \"crab\", \"macaroni\", \"quiche\", \"cashew\", \"beet\", \"mayonnaise\", \"plum\", \"dog\", \"patty\", \"sprout\", \"mango\", \"kieasa\", \"cane\", \"leg\", \"broccolisausage\", \"piece\", \"carrot\", \"cabbage\", \"sauce\", \"butter\", \"hot\", \"cream\", \"large\", \"boiled\", \"chip\", \"peanut\", \"wrap\", \"chocolate\", \"protein\", \"bar\", \"turnip\", \"pizza\", \"sour\", \"cake\", \"smoothy\", \"italian\", \"syrup\", \"shaken\", \"boil\", \"ice\", \"flour\", \"vanilla\", \"crumbled\", \"flavored\", \"stick\", \"burrito\", \"spanish\", \"whipped\", \"rind\", \"cheese\", \"tb\", \"white\", \"soup\", \"one\", \"pea\", \"orange\", \"organic\", \"cheddar\", \"cracker\", \"cereal\", \"bagel\", \"toast\", \"powder\", \"mix\", \"stevia\", \"veg\", \"shoot\", \"cornflakes\", \"chick\", \"flake\", \"lentil\", \"spray\", \"pam\", \"bran\", \"muesli\", \"lemonade\", \"sodium\", \"sesame\", \"flax\", \"lipton\", \"nonfat\", \"form\", \"cinnamon\", \"water\"], \"Freq\": [1782.0, 3084.0, 1944.0, 1437.0, 1370.0, 1718.0, 963.0, 1692.0, 754.0, 1090.0, 1194.0, 1016.0, 693.0, 508.0, 797.0, 573.0, 2563.0, 746.0, 997.0, 456.0, 513.0, 693.0, 571.0, 817.0, 431.0, 426.0, 341.0, 420.0, 418.0, 558.0, 1781.411095559195, 1369.3644372653976, 1089.9765728470109, 796.3425233475031, 745.2992423198103, 557.2392261871945, 455.6077836455069, 358.2059884417063, 351.6721577049085, 319.33987177104433, 297.28849971866015, 263.9226448722557, 260.1662898763887, 252.4588424810002, 231.08253251680458, 195.80400888605905, 195.72688134858763, 154.56529681912855, 152.87304133403077, 151.00904263621686, 147.48562507088596, 128.07653090477118, 124.34692163347584, 124.34318436422903, 120.77792935347482, 119.13258943537234, 118.01252841566394, 111.84426537450473, 102.58935314855957, 87.3098059885016, 754.1129784698012, 922.4256633050792, 480.4191718298216, 203.4241725008321, 1436.665711595207, 1015.8115395728456, 495.48287113380786, 373.8694997641487, 369.1166988901514, 280.0237292971208, 245.45150229761612, 236.5519307280013, 207.52977588904295, 177.44076153470823, 142.74234713732918, 136.79491267422026, 134.90147503580636, 128.35230375252928, 127.48752540813607, 111.04739014383752, 110.64804116309618, 88.7496409369056, 72.6210808113992, 54.88514137174419, 50.98119874988923, 46.93718198302482, 45.1350048734308, 43.81726723764499, 41.04033114636201, 37.48568054852079, 37.2016089024342, 36.837033456525546, 36.125872668954, 36.060742291548365, 498.11013969115805, 713.5758682326792, 370.9460694906546, 1104.8444821513758, 1154.712611118118, 922.4905721468507, 1213.7540199071761, 376.49975500547225, 108.59223591715741, 320.22284223561155, 144.34215640761226, 962.2149467451205, 425.4526401141131, 365.64096040614254, 326.26121835500976, 322.3305164816447, 248.35506821611034, 245.1866812984238, 244.38629818016454, 207.95290064325192, 198.35022304096074, 195.962627264757, 168.46891417967296, 137.43184277548247, 135.2363517464397, 121.67647223519386, 114.26802219275632, 102.54590784312997, 99.56897752931911, 98.10827587719237, 94.01377424824027, 93.44527874790795, 91.84672768464307, 90.8117741275164, 88.98085138994695, 88.32290391189537, 85.46911261794953, 80.71780391495419, 75.76556258916489, 74.34233838675122, 73.86648635449245, 468.8259621416322, 282.71819764757277, 107.90090868815402, 281.9822678666484, 124.1931962033928, 127.872984581886, 512.5248910763024, 419.7169133626964, 417.9364942047321, 386.53205287314904, 381.00159153435357, 254.1174321345567, 227.90995049602182, 218.2275318025143, 194.17616339686964, 161.68008082712606, 138.97635266814163, 133.13751551221085, 103.9198304621408, 94.80837456364408, 94.50202581400906, 85.10247294703886, 80.18815021806832, 79.49687115852635, 75.04587230557131, 73.37131838253961, 71.9779955541902, 71.27103941615837, 66.0751014305196, 64.49261969239355, 63.429108102628675, 57.033305543195894, 56.52817748681729, 54.25363201785885, 53.63156341822975, 51.93005685373804, 372.8693563643461, 1021.5011062416777, 160.11958214562068, 586.7396575331106, 295.5738723374354, 72.38074444131712, 692.2244530879954, 572.3433195156672, 431.1142186280399, 330.6895446920238, 247.3742057283644, 180.08174788566535, 174.90764972433453, 167.76485137346262, 162.27054664330933, 159.20038115019375, 141.50525984407767, 138.56055644481341, 132.14878184513822, 130.40663649771093, 104.85348099612743, 102.48213257178749, 88.90001975342425, 84.81152619646456, 84.17239097339089, 82.25710437769936, 80.47006217087493, 75.13688790962998, 74.75420911202289, 69.99277221232099, 66.6817076904332, 60.88787353450357, 59.823237243587144, 56.606600902831005, 50.371777030932954, 48.82926943895514, 477.38232888849683, 115.47709217308417, 713.3192962613932, 1221.241162867975, 87.30392871819186, 753.2000261272851, 455.396740860139, 233.69261343782415, 201.22467204632835, 199.2047784557213, 197.98906225176245, 193.42246511499746, 182.54268178781516, 179.83341453619965, 176.58632317057592, 163.20190343127842, 161.165302836439, 159.48079576408057, 149.9165032536508, 141.33609029734427, 118.61010614421265, 117.64525867238574, 114.91409493817876, 89.94995348742593, 80.64165327032563, 76.04264286745845, 71.47435585436867, 69.51629855381677, 60.94940460810857, 54.74208137922963, 52.1146472875127, 51.626440818785674, 51.335836023144125, 42.483895297011564, 42.43508663507733, 111.04805341001818, 315.98980618421723, 100.26076983797604, 70.73478327856304, 340.73718897904723, 292.78518735543065, 237.08740930774846, 182.8540258102744, 146.37975725717692, 133.95737574350736, 120.71758890730827, 118.77203598759102, 114.54663388262401, 114.04193273308816, 112.3141953720091, 106.228061620507, 102.65087072561046, 102.42266271121761, 97.21786974628921, 92.01269561254134, 90.17171187410968, 84.9549793564534, 83.84341260291315, 73.53640032346348, 69.85112564654878, 69.68635421348046, 66.79706092927094, 66.70710508787342, 60.22383826986256, 57.51276383045573, 55.73502608893885, 52.82173037994967, 50.06122170791043, 48.01245051404724, 643.17153046947, 97.2695181213289, 170.61998653681903, 508.11521888190646, 340.9436376933606, 293.35706975919265, 278.1541161275088, 270.1721880193289, 225.43700825767672, 181.04501141467824, 168.9255985220738, 147.05157620211324, 138.1377698919265, 132.24152976378014, 130.50892783901102, 128.58870269715217, 119.77490118074272, 84.06056504132972, 79.4381444169169, 65.89699571281824, 51.62429128173293, 51.55996559197311, 48.71500899513981, 48.5127644971164, 47.301805575168686, 46.97753496554871, 44.52960276379644, 34.76727296238751, 30.71981037164628, 30.617188249386622, 28.957737427495235, 27.072570581190316, 26.328414925627325, 80.3286370435093, 366.6029527066689], \"Total\": [1782.0, 3084.0, 1944.0, 1437.0, 1370.0, 1718.0, 963.0, 1692.0, 754.0, 1090.0, 1194.0, 1016.0, 693.0, 508.0, 797.0, 573.0, 2563.0, 746.0, 997.0, 456.0, 513.0, 693.0, 571.0, 817.0, 431.0, 426.0, 341.0, 420.0, 418.0, 558.0, 1782.272338441059, 1370.2262130761587, 1090.8374571584036, 797.203893117815, 746.1611157246106, 558.1005559155255, 456.46886075133597, 359.0680655137966, 352.53311698105944, 320.20114003348203, 298.1506852662938, 264.7837888921956, 261.0288330343876, 253.319607582992, 231.94480432866902, 196.66482464057162, 196.5893757516302, 155.4270934425429, 153.73435427581995, 151.86985754195146, 148.34787879940524, 128.93779916596696, 125.20774204053826, 125.20400214508422, 121.63927804723218, 119.99361052700554, 118.87375050511802, 112.70503718786405, 103.45044018019675, 88.17204767000602, 1718.1379717054788, 2563.1162117640256, 1194.4850549330447, 817.2250088028003, 1437.5137568312487, 1016.6595905278846, 496.3309112124267, 374.7171848969313, 369.9650193726979, 280.8715991772899, 246.30061474124707, 237.40000790620118, 208.37880508947808, 178.28924531434342, 143.59095847839677, 137.64273029825404, 135.74987636131453, 129.20190797777045, 128.33685138471617, 111.89501756966791, 111.49613589944286, 89.59879008675969, 73.4697460959965, 55.73307898317621, 51.82887888222064, 47.78500311931976, 45.983918452112285, 44.66647274366219, 41.89202564704012, 38.333215393026215, 38.05001475923478, 37.69408627291812, 36.97359797968484, 36.90839102947825, 626.7130791730839, 997.0239428585721, 495.8692225997862, 1692.3155698425946, 2563.1162117640256, 1944.7231349854721, 3084.051534497163, 693.2020452511663, 157.67377347707708, 1718.1379717054788, 817.2250088028003, 963.0555112871264, 426.2932118473477, 366.4819781408282, 327.1014653223157, 323.1714490693323, 249.19518433491376, 246.02730255325807, 245.2269723425713, 208.7934130584062, 199.19122322853812, 196.8031591689505, 169.3091999345126, 138.2722009121643, 136.07732696009396, 122.51695693195431, 115.10891147206137, 103.38677208141233, 100.41108799149501, 98.94995477029, 94.85527384071419, 94.28572527330573, 92.68847270748857, 91.65221529609056, 89.82081791616842, 89.16366140355095, 86.30945343062257, 81.55787934364591, 76.6062457794278, 75.18316651325382, 74.70718249440164, 817.2250088028003, 997.0239428585721, 170.85623882099816, 3084.051534497163, 495.8692225997862, 626.7130791730839, 513.3668689641543, 420.5585750385901, 418.778327022839, 387.3739917694645, 381.8437512235832, 254.9593029446652, 228.7530989928908, 219.06923105024003, 195.01796236088063, 162.5222248521373, 139.81823470521292, 133.98127250244613, 104.76220272187436, 95.65097754329256, 95.34466956590086, 85.9439007373897, 81.031498686447, 80.34114544692177, 75.88791737294935, 74.21465718690906, 72.81965195266393, 72.11415587651328, 66.91777868727773, 65.33488766258122, 64.27098280714375, 57.87670399519654, 57.37064496239498, 55.09615002532173, 54.47411493439581, 52.772032647574015, 444.31097093519963, 1944.7231349854721, 245.26659161473304, 1692.3155698425946, 2563.1162117640256, 173.34859673556176, 693.0679261093027, 573.1867116492417, 431.9576709448403, 331.53322496005177, 248.2178883380346, 180.9262721360207, 175.75142829105314, 168.6092133683953, 163.1150526930951, 160.04424279520447, 142.3490535730072, 139.40373143856849, 132.994064616237, 131.2499068006672, 105.69808176878108, 103.32586228460278, 89.74332720079546, 85.65740930644566, 85.0161658774232, 83.10093935613497, 81.31360347171884, 75.9819667246234, 75.59753159268439, 70.83582659446314, 67.52589557185391, 61.73140173915955, 60.666724256997696, 57.45030322824602, 51.215145621631535, 49.672945407572996, 571.5476419722602, 126.92742093758666, 1194.4850549330447, 3084.051534497163, 141.51776073644893, 754.0228656874137, 456.2193353176751, 234.51561566675767, 202.04724172654812, 200.02746977940959, 198.81217785389146, 194.245973873917, 183.36598368367393, 180.65701013628214, 177.40913686576502, 164.0254387051599, 161.9882262066681, 160.3034864126558, 150.73964532746248, 142.15901231001328, 119.43362071953514, 118.46788393143682, 115.73692142088231, 90.77254748790884, 81.46486521100277, 76.86516183885621, 72.29802964757542, 70.33902357874285, 61.77295504429086, 55.565669321348125, 52.937717720691516, 52.44980420257861, 52.158245374295404, 43.306943948719955, 43.25749718985173, 155.22423245228364, 693.2020452511663, 173.34859673556176, 444.31097093519963, 341.5754032454481, 293.6236177923291, 237.92493506676072, 183.6924644174492, 147.21814395848224, 134.79541124872722, 121.55502965908886, 119.61000399501891, 115.38403289479825, 114.87960351607441, 113.15180711242753, 107.067417359854, 103.48836279339893, 103.2603113645661, 98.05633315689998, 92.85169547898776, 91.00985549383994, 85.79294692527627, 84.6809528347504, 74.37437881897927, 70.68984897975334, 70.524570394151, 67.63471784714206, 67.54537668166807, 61.061433779892894, 58.35072977165661, 56.57279149148438, 53.65997192205516, 50.900030762385065, 48.84989200718008, 1718.1379717054788, 182.01881507420558, 2563.1162117640256, 508.9296320542208, 341.758711955286, 294.17185857081427, 278.96823199953826, 270.9862458238156, 226.2515057349061, 181.85906721789434, 169.73962382026477, 147.8655622167582, 138.95193938035757, 133.05561584174544, 131.32346925754464, 129.40261917603945, 120.58935837639024, 84.87615163104542, 80.2527419325875, 66.7110106257571, 52.43870556902324, 52.374364079708315, 49.52901739821892, 49.32677914375401, 48.11580238711384, 47.791591643704976, 45.343443219803454, 35.58218146695417, 31.534046193075444, 31.43458580156604, 29.772236479217813, 27.886991965582858, 27.14312665036527, 122.6543124410854, 3084.051534497163], \"Category\": [\"Default\", \"Default\", \"Default\", \"Default\", \"Default\", \"Default\", \"Default\", \"Default\", \"Default\", \"Default\", \"Default\", \"Default\", \"Default\", \"Default\", \"Default\", \"Default\", \"Default\", \"Default\", \"Default\", \"Default\", \"Default\", \"Default\", \"Default\", \"Default\", \"Default\", \"Default\", \"Default\", \"Default\", \"Default\", \"Default\", \"Topic1\", \"Topic1\", \"Topic1\", \"Topic1\", \"Topic1\", \"Topic1\", \"Topic1\", \"Topic1\", \"Topic1\", \"Topic1\", \"Topic1\", \"Topic1\", \"Topic1\", \"Topic1\", \"Topic1\", \"Topic1\", \"Topic1\", \"Topic1\", \"Topic1\", \"Topic1\", \"Topic1\", \"Topic1\", \"Topic1\", \"Topic1\", \"Topic1\", \"Topic1\", \"Topic1\", \"Topic1\", \"Topic1\", \"Topic1\", \"Topic1\", \"Topic1\", \"Topic1\", \"Topic1\", \"Topic2\", \"Topic2\", \"Topic2\", \"Topic2\", \"Topic2\", \"Topic2\", \"Topic2\", \"Topic2\", \"Topic2\", \"Topic2\", \"Topic2\", \"Topic2\", \"Topic2\", \"Topic2\", \"Topic2\", \"Topic2\", \"Topic2\", \"Topic2\", \"Topic2\", \"Topic2\", \"Topic2\", \"Topic2\", \"Topic2\", \"Topic2\", \"Topic2\", \"Topic2\", \"Topic2\", \"Topic2\", \"Topic2\", \"Topic2\", \"Topic2\", \"Topic2\", \"Topic2\", \"Topic2\", \"Topic2\", \"Topic2\", \"Topic2\", \"Topic2\", \"Topic2\", \"Topic2\", \"Topic2\", \"Topic3\", \"Topic3\", \"Topic3\", \"Topic3\", \"Topic3\", \"Topic3\", \"Topic3\", \"Topic3\", \"Topic3\", \"Topic3\", \"Topic3\", \"Topic3\", \"Topic3\", \"Topic3\", \"Topic3\", \"Topic3\", \"Topic3\", \"Topic3\", \"Topic3\", \"Topic3\", \"Topic3\", \"Topic3\", \"Topic3\", \"Topic3\", \"Topic3\", \"Topic3\", \"Topic3\", \"Topic3\", \"Topic3\", \"Topic3\", \"Topic3\", \"Topic3\", \"Topic3\", \"Topic3\", \"Topic3\", \"Topic3\", \"Topic4\", \"Topic4\", \"Topic4\", \"Topic4\", \"Topic4\", \"Topic4\", \"Topic4\", \"Topic4\", \"Topic4\", \"Topic4\", \"Topic4\", \"Topic4\", \"Topic4\", \"Topic4\", \"Topic4\", \"Topic4\", \"Topic4\", \"Topic4\", \"Topic4\", \"Topic4\", \"Topic4\", \"Topic4\", \"Topic4\", \"Topic4\", \"Topic4\", \"Topic4\", \"Topic4\", \"Topic4\", \"Topic4\", \"Topic4\", \"Topic4\", \"Topic4\", \"Topic4\", \"Topic4\", \"Topic4\", \"Topic4\", \"Topic5\", \"Topic5\", \"Topic5\", \"Topic5\", \"Topic5\", \"Topic5\", \"Topic5\", \"Topic5\", \"Topic5\", \"Topic5\", \"Topic5\", \"Topic5\", \"Topic5\", \"Topic5\", \"Topic5\", \"Topic5\", \"Topic5\", \"Topic5\", \"Topic5\", \"Topic5\", \"Topic5\", \"Topic5\", \"Topic5\", \"Topic5\", \"Topic5\", \"Topic5\", \"Topic5\", \"Topic5\", \"Topic5\", \"Topic5\", \"Topic5\", \"Topic5\", \"Topic5\", \"Topic5\", \"Topic5\", \"Topic6\", \"Topic6\", \"Topic6\", \"Topic6\", \"Topic6\", \"Topic6\", \"Topic6\", \"Topic6\", \"Topic6\", \"Topic6\", \"Topic6\", \"Topic6\", \"Topic6\", \"Topic6\", \"Topic6\", \"Topic6\", \"Topic6\", \"Topic6\", \"Topic6\", \"Topic6\", \"Topic6\", \"Topic6\", \"Topic6\", \"Topic6\", \"Topic6\", \"Topic6\", \"Topic6\", \"Topic6\", \"Topic6\", \"Topic6\", \"Topic6\", \"Topic6\", \"Topic6\", \"Topic6\", \"Topic7\", \"Topic7\", \"Topic7\", \"Topic7\", \"Topic7\", \"Topic7\", \"Topic7\", \"Topic7\", \"Topic7\", \"Topic7\", \"Topic7\", \"Topic7\", \"Topic7\", \"Topic7\", \"Topic7\", \"Topic7\", \"Topic7\", \"Topic7\", \"Topic7\", \"Topic7\", \"Topic7\", \"Topic7\", \"Topic7\", \"Topic7\", \"Topic7\", \"Topic7\", \"Topic7\", \"Topic7\", \"Topic7\", \"Topic7\", \"Topic7\", \"Topic7\", \"Topic7\", \"Topic8\", \"Topic8\", \"Topic8\", \"Topic8\", \"Topic8\", \"Topic8\", \"Topic8\", \"Topic8\", \"Topic8\", \"Topic8\", \"Topic8\", \"Topic8\", \"Topic8\", \"Topic8\", \"Topic8\", \"Topic8\", \"Topic8\", \"Topic8\", \"Topic8\", \"Topic8\", \"Topic8\", \"Topic8\", \"Topic8\", \"Topic8\", \"Topic8\", \"Topic8\", \"Topic8\", \"Topic8\", \"Topic8\", \"Topic8\", \"Topic8\", \"Topic8\"], \"logprob\": [30.0, 29.0, 28.0, 27.0, 26.0, 25.0, 24.0, 23.0, 22.0, 21.0, 20.0, 19.0, 18.0, 17.0, 16.0, 15.0, 14.0, 13.0, 12.0, 11.0, 10.0, 9.0, 8.0, 7.0, 6.0, 5.0, 4.0, 3.0, 2.0, 1.0, -2.1515, -2.4146, -2.6428, -2.9566, -3.0229, -3.3137, -3.515, -3.7556, -3.774, -3.8704, -3.942, -4.061, -4.0753, -4.1054, -4.1939, -4.3596, -4.36, -4.5961, -4.6071, -4.6193, -4.6429, -4.784, -4.8136, -4.8136, -4.8427, -4.8564, -4.8659, -4.9196, -5.0059, -5.1672, -3.0111, -2.8097, -3.462, -4.3214, -2.2991, -2.6457, -3.3636, -3.6453, -3.6581, -3.9343, -4.0661, -4.103, -4.2339, -4.3905, -4.6081, -4.6507, -4.6646, -4.7144, -4.7212, -4.8592, -4.8628, -5.0834, -5.2839, -5.5639, -5.6377, -5.7204, -5.7595, -5.7891, -5.8546, -5.9452, -5.9528, -5.9627, -5.9822, -5.984, -3.3584, -2.9989, -3.6531, -2.5617, -2.5176, -2.7421, -2.4677, -3.6383, -4.8816, -3.8002, -4.597, -2.2143, -3.0304, -3.1819, -3.2959, -3.308, -3.5687, -3.5815, -3.5848, -3.7463, -3.7935, -3.8056, -3.9568, -4.1604, -4.1765, -4.2822, -4.345, -4.4533, -4.4827, -4.4975, -4.5401, -4.5462, -4.5634, -4.5748, -4.5951, -4.6026, -4.6354, -4.6926, -4.7559, -4.7749, -4.7813, -2.9333, -3.4391, -4.4024, -3.4417, -4.2617, -4.2325, -2.8405, -3.0402, -3.0445, -3.1226, -3.137, -3.542, -3.6509, -3.6943, -3.8111, -3.9942, -4.1455, -4.1884, -4.4362, -4.528, -4.5312, -4.636, -4.6954, -4.7041, -4.7617, -4.7843, -4.8035, -4.8133, -4.889, -4.9133, -4.9299, -5.0362, -5.0451, -5.0862, -5.0977, -5.1299, -3.1586, -2.1508, -4.0039, -2.7052, -3.3909, -4.7979, -2.5294, -2.7196, -3.0029, -3.2681, -3.5584, -3.8759, -3.905, -3.9467, -3.98, -3.9991, -4.117, -4.138, -4.1854, -4.1986, -4.4167, -4.4396, -4.5818, -4.6289, -4.6364, -4.6594, -4.6814, -4.75, -4.7551, -4.8209, -4.8694, -4.9603, -4.9779, -5.0332, -5.1499, -5.181, -2.901, -4.3202, -2.4994, -1.9617, -4.5999, -2.1451, -2.6482, -3.3154, -3.465, -3.4751, -3.4812, -3.5045, -3.5624, -3.5774, -3.5956, -3.6744, -3.687, -3.6975, -3.7593, -3.8183, -3.9936, -4.0017, -4.0252, -4.2702, -4.3794, -4.4381, -4.5001, -4.5278, -4.6594, -4.7668, -4.816, -4.8254, -4.831, -5.0203, -5.0214, -4.0594, -3.0137, -4.1616, -4.5105, -2.8715, -3.0232, -3.2342, -3.494, -3.7164, -3.8051, -3.9092, -3.9254, -3.9617, -3.9661, -3.9813, -4.0371, -4.0713, -4.0735, -4.1257, -4.1807, -4.2009, -4.2605, -4.2737, -4.4049, -4.4563, -4.4586, -4.501, -4.5023, -4.6046, -4.6506, -4.682, -4.7357, -4.7894, -4.8312, -2.2362, -4.1252, -3.5632, -2.3509, -2.7499, -2.9002, -2.9534, -2.9826, -3.1636, -3.3829, -3.4522, -3.5908, -3.6534, -3.697, -3.7102, -3.725, -3.796, -4.1501, -4.2066, -4.3935, -4.6376, -4.6389, -4.6956, -4.6998, -4.7251, -4.7319, -4.7855, -5.0329, -5.1567, -5.1601, -5.2158, -5.2831, -5.311, -4.1955, -2.6773], \"loglift\": [30.0, 29.0, 28.0, 27.0, 26.0, 25.0, 24.0, 23.0, 22.0, 21.0, 20.0, 19.0, 18.0, 17.0, 16.0, 15.0, 14.0, 13.0, 12.0, 11.0, 10.0, 9.0, 8.0, 7.0, 6.0, 5.0, 4.0, 3.0, 2.0, 1.0, 1.5705, 1.5703, 1.5701, 1.5699, 1.5698, 1.5694, 1.569, 1.5685, 1.5685, 1.5682, 1.568, 1.5677, 1.5676, 1.5675, 1.5672, 1.5666, 1.5665, 1.5654, 1.5653, 1.5653, 1.5651, 1.5642, 1.564, 1.564, 1.5638, 1.5637, 1.5637, 1.5633, 1.5626, 1.5611, 0.7475, 0.549, 0.6601, 0.1803, 1.6378, 1.6376, 1.6367, 1.6362, 1.6361, 1.6354, 1.635, 1.6349, 1.6343, 1.6337, 1.6325, 1.6323, 1.6322, 1.6318, 1.6318, 1.6308, 1.6308, 1.6289, 1.6268, 1.6231, 1.6219, 1.6205, 1.6198, 1.6192, 1.6179, 1.6161, 1.6159, 1.6154, 1.6152, 1.6152, 1.4088, 1.3039, 1.3482, 1.212, 0.8411, 0.8926, 0.7059, 1.028, 1.2655, -0.0415, -0.0953, 2.1232, 2.1221, 2.1217, 2.1215, 2.1214, 2.1207, 2.1206, 2.1206, 2.12, 2.1198, 2.1198, 2.1191, 2.1179, 2.1178, 2.1172, 2.1167, 2.1159, 2.1156, 2.1155, 2.1151, 2.1151, 2.1149, 2.1148, 2.1146, 2.1146, 2.1143, 2.1137, 2.113, 2.1128, 2.1127, 1.5684, 0.8637, 1.6644, -0.2681, 0.7396, 0.5346, 2.1261, 2.1258, 2.1258, 2.1256, 2.1256, 2.1245, 2.1241, 2.1239, 2.1235, 2.1226, 2.1217, 2.1215, 2.1197, 2.1189, 2.1189, 2.1179, 2.1173, 2.1172, 2.1166, 2.1164, 2.1162, 2.116, 2.1151, 2.1148, 2.1146, 2.1131, 2.113, 2.1124, 2.1122, 2.1117, 1.9525, 1.4839, 1.7014, 1.0685, -0.0323, 1.2544, 2.1371, 2.1368, 2.1364, 2.1358, 2.1349, 2.1336, 2.1335, 2.1333, 2.1331, 2.133, 2.1324, 2.1322, 2.1319, 2.1319, 2.1303, 2.1301, 2.1289, 2.1284, 2.1283, 2.1281, 2.1279, 2.1271, 2.1271, 2.1263, 2.1257, 2.1246, 2.1243, 2.1235, 2.1217, 2.1212, 1.9583, 2.0438, 1.6228, 1.2119, 1.6553, 2.4371, 2.4364, 2.4347, 2.4341, 2.4341, 2.4341, 2.434, 2.4337, 2.4336, 2.4336, 2.4332, 2.4331, 2.4331, 2.4327, 2.4324, 2.4313, 2.4312, 2.4311, 2.4291, 2.428, 2.4274, 2.4267, 2.4264, 2.4248, 2.4233, 2.4225, 2.4224, 2.4223, 2.419, 2.419, 2.1033, 1.6526, 1.8907, 0.6006, 2.5025, 2.5021, 2.5014, 2.5004, 2.4993, 2.4987, 2.4981, 2.4979, 2.4977, 2.4977, 2.4975, 2.4971, 2.4968, 2.4968, 2.4964, 2.4959, 2.4957, 2.4952, 2.495, 2.4936, 2.493, 2.493, 2.4925, 2.4925, 2.4912, 2.4905, 2.49, 2.4892, 2.4884, 2.4877, 1.5224, 1.8783, -0.2046, 2.6244, 2.6236, 2.6232, 2.6231, 2.623, 2.6224, 2.6215, 2.6212, 2.6205, 2.6201, 2.6199, 2.6198, 2.6197, 2.6192, 2.6163, 2.6158, 2.6137, 2.6103, 2.6103, 2.6094, 2.6094, 2.6089, 2.6088, 2.6079, 2.6028, 2.5998, 2.5996, 2.5983, 2.5964, 2.5955, 2.2028, 0.4963]}, \"token.table\": {\"Topic\": [5, 1, 2, 3, 4, 3, 1, 8, 5, 6, 1, 7, 2, 1, 5, 3, 6, 6, 1, 5, 5, 7, 7, 1, 5, 8, 1, 5, 1, 3, 4, 6, 5, 3, 6, 7, 7, 1, 4, 6, 7, 6, 4, 2, 6, 6, 3, 6, 8, 8, 1, 2, 7, 2, 8, 2, 4, 3, 4, 7, 7, 4, 4, 1, 8, 5, 1, 4, 8, 6, 8, 7, 7, 2, 1, 5, 4, 6, 2, 5, 1, 4, 2, 5, 3, 8, 7, 8, 7, 3, 8, 4, 1, 4, 3, 1, 3, 4, 6, 2, 1, 4, 3, 3, 3, 2, 1, 3, 5, 1, 4, 3, 4, 7, 4, 7, 7, 1, 6, 3, 2, 6, 3, 7, 2, 6, 4, 8, 8, 2, 3, 2, 1, 4, 8, 3, 2, 5, 4, 6, 6, 5, 6, 6, 2, 1, 5, 8, 2, 8, 5, 2, 6, 8, 2, 4, 1, 3, 3, 1, 8, 3, 8, 8, 8, 1, 2, 2, 1, 6, 8, 7, 3, 1, 2, 3, 3, 2, 6, 5, 7, 4, 3, 6, 4, 6, 8, 7, 2, 6, 6, 5, 1, 2, 3, 2, 6, 2, 4, 7, 4, 1, 2, 2, 5, 3, 4, 1, 3, 5, 4, 6, 1, 3, 5, 8, 7, 8, 2, 6, 1, 6, 1, 7, 8, 8, 7, 4, 3, 7, 1, 2, 8, 6, 4, 2, 8, 5, 7, 3, 2, 6, 2, 4, 1, 1, 5, 7, 2, 5, 7, 4, 2, 5, 1, 7, 5, 8, 4, 2, 3, 1, 5, 6, 7, 7, 8, 4, 6, 3, 5, 2, 3, 5, 8, 5, 7, 5, 1, 2, 4, 7, 8, 5, 4, 7, 2, 3, 5, 2, 5], \"Freq\": [0.9950934707156318, 0.9909140675935931, 0.9936062648782981, 0.34248447555363737, 0.6523513820069283, 0.9842628800019317, 0.9970398909409264, 0.9941462893470127, 0.9948803889833957, 0.993585587134353, 0.9984438806845584, 0.9898206918491094, 0.999351217915977, 0.16271609428582634, 0.8345760964982706, 0.9905339423762283, 0.9942936723727619, 0.9918470711692497, 0.9984898554457546, 0.9890100501524806, 0.9934752867271789, 0.9949662931654129, 0.9917255854086452, 0.374511296138319, 0.6147638257364859, 0.9768100638094592, 0.4018468025344242, 0.5969099379313425, 0.9972521300303361, 0.9986848517264798, 0.9981414343278645, 0.9709299596245077, 0.9931640110787746, 0.9920829796986688, 0.9976938230296752, 0.9898751418060995, 0.9983154429739935, 0.9937444039285587, 0.41534804062956393, 0.5768722786521722, 0.9892272826966746, 0.9777936284860876, 0.9967078085665007, 0.5424104019539712, 0.45585555057833743, 0.9914891945936436, 0.9863635214177034, 0.9950932262985248, 0.9956425977410676, 0.9944685197526488, 0.43884717782679317, 0.1862481391307345, 0.37424235456581967, 0.9933169846804865, 0.9893419299289917, 0.47410347694911736, 0.525524678353577, 0.9928838021646992, 0.9887440830780578, 0.9940991222078064, 0.9966716981096648, 0.9951192093699602, 0.9872703985096166, 0.34242579134894974, 0.6522396025694281, 0.9925254963888392, 0.9992322805263901, 0.9992853668860741, 0.9843900419796273, 0.9963693580005131, 0.9952761925427395, 0.9961124920912506, 0.9919257733325205, 0.9983150467865223, 0.9991051017237469, 0.9904768938040812, 0.9947801610243631, 0.9951801494889487, 0.9953304450088913, 0.9838452188116874, 0.9992861144654402, 0.9927244492567813, 0.9920012741486844, 0.9881518689264497, 0.9963751467751689, 0.9916339359588923, 0.9826169528917544, 0.9861749156069876, 0.9925618774957542, 0.9925721862991389, 0.9578852257851478, 0.9926760473003552, 0.9917194713731702, 0.9977903233433061, 0.9949965848746146, 0.9970254511153246, 0.9959189721733024, 0.9833068667435441, 0.9938993948522697, 0.9753879536836831, 0.9927267320209193, 0.9941478684311953, 0.9907993009168022, 0.9922674022733614, 0.9969663794510272, 0.9736677512364422, 0.9952232259388007, 0.9962589790393324, 0.9983916394499646, 0.998972852714281, 0.9935394666969855, 0.9940197002195654, 0.9963850148364862, 0.9978761320461279, 0.9845501086025171, 0.9902411875296138, 0.988903888613379, 0.9956458360214597, 0.9963632181458859, 0.9869491518715874, 0.9835721865004466, 0.9914241013971888, 0.992086209508643, 0.9962303058013553, 0.965220361001369, 0.969821376676509, 0.9931942405607103, 0.9924257357753224, 0.9928521503547313, 0.7946219993638648, 0.2042401926075797, 0.9906974440503058, 0.9903540945563315, 0.9801047800106188, 0.9740618586125747, 0.9959059502320119, 0.9850789036446412, 0.9923251320373965, 0.9912965096364247, 0.9960505420042144, 0.9822863969006168, 0.9871681469161051, 0.9887444218140076, 0.9918686334163667, 0.9927687993065968, 0.9961405915761485, 0.9917171869599585, 0.9975368511099089, 0.9973185002538415, 0.9834365917417768, 0.9867517820536683, 0.9958844311323009, 0.9959148485638122, 0.9681933438114246, 0.9895832617810711, 0.9862849797874086, 0.9984877534751209, 0.9958244367897515, 0.9952038225052237, 0.9926497607637911, 0.9977799777189432, 0.9989039974593825, 0.9965292392162421, 0.9963605318018361, 0.9933752183007597, 0.9942723489965006, 0.9724043534311656, 0.9944760438726393, 0.9867072649328442, 0.9874871609471061, 0.9960164151101756, 0.9954339227208822, 0.9848283892601042, 0.2484016003100374, 0.17620606130367186, 0.5738933524404313, 0.9931597124871863, 0.27701860283456914, 0.715094532898539, 0.9933955114690902, 0.9952809883138852, 0.983633190087371, 0.9903664150943646, 0.9820461269290075, 0.9986718258246455, 0.9986434553460375, 0.9920663563498066, 0.9923432577311139, 0.995550196466985, 0.9978013589189286, 0.9936327888124614, 0.992211942286729, 0.9966195040633897, 0.7481811394844975, 0.25006593341260835, 0.6913007635721146, 0.30442602432533483, 0.6529515060260174, 0.34686202175318753, 0.9826019675323916, 0.9962374271752955, 0.9959265984361942, 0.9868466089340318, 0.9996426073637158, 0.9762737056219889, 0.9962000091536208, 0.988299621287725, 0.36287817423486574, 0.6321103680220241, 0.9984591321152347, 0.839502115410065, 0.15979798979655394, 0.9962487952623891, 0.9903996442191884, 0.9975479038023376, 0.9830644570694923, 0.9919586068418569, 0.9896772931594021, 0.978602988061208, 0.9948168472006885, 0.99605854639724, 0.9937482946959029, 0.9903836768437398, 0.9908273567370613, 0.9836383986885444, 0.9981733583669151, 0.9877948134388583, 0.9848522128131328, 0.9957805274886037, 0.9877008522663072, 0.9947444768047378, 0.9973915929286121, 0.9893190411195611, 0.9898198054975863, 0.9802246246808213, 0.9968968055871689, 0.9968886319411222, 0.9880473805547957, 0.993989282173006, 0.9909833812493082, 0.9947194011569421, 0.9980040808206537, 0.9815863351112242, 0.9890172457929983, 0.998028032934459, 0.9970019959146988, 0.9920958848775134, 0.9907574345713185, 0.9787065525416256, 0.9060295966822515, 0.08666370055221535, 0.979568532060923, 0.9981821323463516, 0.9864524762513801, 0.46149075284197855, 0.5329119407818085, 0.9963868322719457, 0.993149146499123, 0.9967867480733025, 0.7161312475133618, 0.28384473816005795, 0.9947907404579424, 0.99572448259249, 0.9973273046026732, 0.9900304183459809, 0.9906155024025302, 0.9951126833716895, 0.9990345460009946, 0.9948633566152555, 0.9908616071951771, 0.9921618650739406, 0.3936380395789773, 0.09143816075887282, 0.39590778115809827, 0.11899930850534157, 0.9979296246316891, 0.9823176774374333, 0.997103869212092, 0.35971837553375996, 0.4506233446220095, 0.11548442424945006, 0.06671566400897283, 0.007412851556552537, 0.9977829518740909, 0.9853704204890144, 0.9949000587355191, 0.9980860635011213, 0.9966326493792061, 0.9882005104669948, 0.9840073931735193, 0.9870763186720043], \"Term\": [\"almond\", \"apple\", \"asparagus\", \"avocado\", \"avocado\", \"baby\", \"bacon\", \"bagel\", \"baked\", \"baker\", \"banana\", \"bar\", \"bean\", \"beef\", \"beef\", \"beer\", \"beet\", \"bit\", \"black\", \"blackberry\", \"blueberry\", \"boil\", \"boiled\", \"bow\", \"bow\", \"bran\", \"bread\", \"bread\", \"breakfast\", \"breast\", \"broccoli\", \"broccolisausage\", \"brown\", \"bun\", \"burger\", \"burrito\", \"butter\", \"buttered\", \"cabbage\", \"cabbage\", \"cake\", \"cane\", \"cap\", \"carrot\", \"carrot\", \"cashew\", \"cauliflower\", \"celery\", \"cereal\", \"cheddar\", \"cheese\", \"cheese\", \"cheese\", \"cherry\", \"chick\", \"chicken\", \"chicken\", \"chilled\", \"chinese\", \"chip\", \"chocolate\", \"chop\", \"cilantro\", \"cinnamon\", \"cinnamon\", \"coconut\", \"coffee\", \"corn\", \"cornflakes\", \"crab\", \"cracker\", \"cream\", \"crumbled\", \"cucumber\", \"cut\", \"date\", \"dinner\", \"dog\", \"dressing\", \"dried\", \"egg\", \"fat\", \"feta\", \"fig\", \"fish\", \"flake\", \"flavored\", \"flax\", \"flour\", \"food\", \"form\", \"free\", \"french\", \"fried\", \"fruit\", \"fry\", \"garlic\", \"ginger\", \"glass\", \"gouda\", \"grain\", \"granule\", \"grape\", \"greek\", \"green\", \"greenred\", \"grit\", \"ground\", \"ham\", \"hardboiled\", \"hash\", \"herb\", \"honey\", \"hot\", \"hummus\", \"ice\", \"italian\", \"jack\", \"juice\", \"kale\", \"kidney\", \"kieasa\", \"lamb\", \"large\", \"leek\", \"leg\", \"lemon\", \"lemonade\", \"lentil\", \"lettuce\", \"lettuce\", \"lettucetomato\", \"lightly\", \"lime\", \"lipton\", \"lite\", \"lobster\", \"low\", \"maca\", \"macaroni\", \"mango\", \"mayo\", \"mayonnaise\", \"meat\", \"meatball\", \"milk\", \"minestrone\", \"mix\", \"mixed\", \"muesli\", \"muffin\", \"mushroom\", \"mustard\", \"nonfat\", \"noodle\", \"oat\", \"oatmeal\", \"oil\", \"olive\", \"omelette\", \"one\", \"onion\", \"orange\", \"organic\", \"pam\", \"pancake\", \"parmesan\", \"pasta\", \"paste\", \"patty\", \"pea\", \"peanut\", \"pear\", \"pepper\", \"pepper\", \"pepper\", \"pickle\", \"piece\", \"piece\", \"pineapple\", \"pizza\", \"plain\", \"plantain\", \"plum\", \"pork\", \"potato\", \"powder\", \"protein\", \"pumpkin\", \"punch\", \"quiche\", \"raisin\", \"raw\", \"red\", \"red\", \"rib\", \"rib\", \"rice\", \"rice\", \"rind\", \"roast\", \"roll\", \"romaine\", \"salad\", \"salami\", \"salmon\", \"salsa\", \"salt\", \"salt\", \"sandwich\", \"sauce\", \"sauce\", \"sausage\", \"seasoning\", \"seed\", \"sesame\", \"shaken\", \"shoot\", \"shredded\", \"shrimp\", \"slice\", \"small\", \"smeared\", \"smoothy\", \"sodium\", \"soup\", \"sour\", \"soy\", \"spaghetti\", \"spanish\", \"spice\", \"spinach\", \"spray\", \"sprout\", \"squash\", \"steak\", \"stevia\", \"stew\", \"stick\", \"stir\", \"strawberry\", \"string\", \"strip\", \"stuffing\", \"sugar\", \"sweet\", \"swiss\", \"syrup\", \"table\", \"tablespoon\", \"tablespoon\", \"taco\", \"tangerine\", \"tartar\", \"tb\", \"tb\", \"tea\", \"toast\", \"toasted\", \"tomato\", \"tomato\", \"top\", \"tuna\", \"turkey\", \"turnip\", \"vanilla\", \"veg\", \"vegetable\", \"veggie\", \"vinegar\", \"walnut\", \"water\", \"water\", \"water\", \"water\", \"wheat\", \"whipped\", \"whipping\", \"white\", \"white\", \"white\", \"white\", \"white\", \"whole\", \"wing\", \"wrap\", \"yellow\", \"yogurt\", \"zest\", \"ziti\", \"zucchini\"]}, \"R\": 30, \"lambda.step\": 0.01, \"plot.opts\": {\"xlab\": \"PC1\", \"ylab\": \"PC2\"}, \"topic.order\": [5, 2, 4, 3, 7, 1, 6, 8]};\n",
       "\n",
       "function LDAvis_load_lib(url, callback){\n",
       "  var s = document.createElement('script');\n",
       "  s.src = url;\n",
       "  s.async = true;\n",
       "  s.onreadystatechange = s.onload = callback;\n",
       "  s.onerror = function(){console.warn(\"failed to load library \" + url);};\n",
       "  document.getElementsByTagName(\"head\")[0].appendChild(s);\n",
       "}\n",
       "\n",
       "if(typeof(LDAvis) !== \"undefined\"){\n",
       "   // already loaded: just create the visualization\n",
       "   !function(LDAvis){\n",
       "       new LDAvis(\"#\" + \"ldavis_el89960947310724684830179\", ldavis_el89960947310724684830179_data);\n",
       "   }(LDAvis);\n",
       "}else if(typeof define === \"function\" && define.amd){\n",
       "   // require.js is available: use it to load d3/LDAvis\n",
       "   require.config({paths: {d3: \"https://d3js.org/d3.v5\"}});\n",
       "   require([\"d3\"], function(d3){\n",
       "      window.d3 = d3;\n",
       "      LDAvis_load_lib(\"https://cdn.jsdelivr.net/gh/bmabey/pyLDAvis@3.3.1/pyLDAvis/js/ldavis.v3.0.0.js\", function(){\n",
       "        new LDAvis(\"#\" + \"ldavis_el89960947310724684830179\", ldavis_el89960947310724684830179_data);\n",
       "      });\n",
       "    });\n",
       "}else{\n",
       "    // require.js not available: dynamically load d3 & LDAvis\n",
       "    LDAvis_load_lib(\"https://d3js.org/d3.v5.js\", function(){\n",
       "         LDAvis_load_lib(\"https://cdn.jsdelivr.net/gh/bmabey/pyLDAvis@3.3.1/pyLDAvis/js/ldavis.v3.0.0.js\", function(){\n",
       "                 new LDAvis(\"#\" + \"ldavis_el89960947310724684830179\", ldavis_el89960947310724684830179_data);\n",
       "            })\n",
       "         });\n",
       "}\n",
       "</script>"
      ],
      "text/plain": [
       "PreparedData(topic_coordinates=              x         y  topics  cluster       Freq\n",
       "topic                                                \n",
       "4     -0.166364 -0.264150       1        1  20.785013\n",
       "1     -0.034296  0.095453       2        1  19.428464\n",
       "3      0.189765  0.041740       3        1  11.954768\n",
       "2     -0.187397  0.234114       4        1  11.910054\n",
       "6      0.242364 -0.129142       5        1  11.785335\n",
       "0     -0.045061  0.234765       6        1   8.731785\n",
       "5     -0.221998 -0.190130       7        1   8.167811\n",
       "7      0.222987 -0.022649       8        1   7.236771, topic_info=          Term         Freq        Total Category  logprob  loglift\n",
       "14         egg  1782.000000  1782.000000  Default  30.0000  30.0000\n",
       "66       water  3084.000000  3084.000000  Default  29.0000  29.0000\n",
       "7      chicken  1944.000000  1944.000000  Default  28.0000  28.0000\n",
       "2        salad  1437.000000  1437.000000  Default  27.0000  27.0000\n",
       "52         cut  1370.000000  1370.000000  Default  26.0000  26.0000\n",
       "...        ...          ...          ...      ...      ...      ...\n",
       "1119    lipton    28.957737    29.772236   Topic8  -5.2158   2.5983\n",
       "551     nonfat    27.072571    27.886992   Topic8  -5.2831   2.5964\n",
       "246       form    26.328415    27.143127   Topic8  -5.3110   2.5955\n",
       "243   cinnamon    80.328637   122.654312   Topic8  -4.1955   2.2028\n",
       "66       water   366.602953  3084.051534   Topic8  -2.6773   0.4963\n",
       "\n",
       "[311 rows x 6 columns], token_table=      Topic      Freq       Term\n",
       "term                            \n",
       "200       5  0.995093     almond\n",
       "119       1  0.990914      apple\n",
       "147       2  0.993606  asparagus\n",
       "9         3  0.342484    avocado\n",
       "9         4  0.652351    avocado\n",
       "...     ...       ...        ...\n",
       "117       2  0.998086     yellow\n",
       "128       3  0.996633     yogurt\n",
       "298       5  0.988201       zest\n",
       "948       2  0.984007       ziti\n",
       "543       5  0.987076   zucchini\n",
       "\n",
       "[291 rows x 3 columns], R=30, lambda_step=0.01, plot_opts={'xlab': 'PC1', 'ylab': 'PC2'}, topic_order=[5, 2, 4, 3, 7, 1, 6, 8])"
      ]
     },
     "execution_count": 18,
     "metadata": {},
     "output_type": "execute_result"
    }
   ],
   "source": [
    "pyLDAvis.enable_notebook()\n",
    "vis = gensimvis.prepare(lda_model, doc_term_matrix, dictionary)\n",
    "vis"
   ]
  },
  {
   "cell_type": "code",
   "execution_count": 19,
   "id": "246a6d63",
   "metadata": {},
   "outputs": [],
   "source": [
    "from gensim.models.coherencemodel import CoherenceModel\n",
    "def compute_coherence_values(dictionary, corpus, texts, limit, start=2, step=3):\n",
    "    coherence_values = []\n",
    "    model_list = []\n",
    "    for num_topics in range(start, limit, step):\n",
    "        model = gensim.models.ldamodel.LdaModel(corpus=corpus, num_topics=num_topics, id2word=dictionary)\n",
    "        model_list.append(model)\n",
    "        coherencemodel = CoherenceModel(model=model, texts=texts, dictionary=dictionary, coherence='c_v')\n",
    "        coherence_values.append(coherencemodel.get_coherence())\n",
    "\n",
    "    return model_list, coherence_values"
   ]
  },
  {
   "cell_type": "code",
   "execution_count": 20,
   "id": "8ee89f31",
   "metadata": {},
   "outputs": [],
   "source": [
    "model_list, coherence_values = compute_coherence_values(dictionary=dictionary, corpus=doc_term_matrix, texts=df_list, start=2, limit=15, step=1)"
   ]
  },
  {
   "cell_type": "code",
   "execution_count": 21,
   "id": "7fe1447d",
   "metadata": {},
   "outputs": [
    {
     "data": {
      "image/png": "[encoded data removed]",
      "text/plain": [
       "<Figure size 432x288 with 1 Axes>"
      ]
     },
     "metadata": {
      "needs_background": "light"
     },
     "output_type": "display_data"
    }
   ],
   "source": [
    "# Show graph\n",
    "limit=15; start=2; step=1;\n",
    "x = range(start, limit, step)\n",
    "plt.plot(x, coherence_values)\n",
    "plt.xlabel(\"Num Topics\")\n",
    "plt.ylabel(\"Coherence score\")\n",
    "plt.legend((\"coherence_values\"), loc='best')\n",
    "plt.show()# Print the coherence scores"
   ]
  },
  {
   "cell_type": "code",
   "execution_count": 44,
   "id": "18142f77",
   "metadata": {},
   "outputs": [],
   "source": [
    "bow = dictionary.doc2bow(df_list[10])\n",
    "top_topics = lda_model.get_document_topics(bow, minimum_probability=0.0) #Topic probabilities for the 10th item in the dataset"
   ]
  },
  {
   "cell_type": "code",
   "execution_count": 45,
   "id": "63fb218b",
   "metadata": {},
   "outputs": [
    {
     "data": {
      "text/plain": [
       "[(0, 0.12568821),\n",
       " (1, 0.19649455),\n",
       " (2, 0.47936988),\n",
       " (3, 0.0136979595),\n",
       " (4, 0.14366208),\n",
       " (5, 0.013697287),\n",
       " (6, 0.013694584),\n",
       " (7, 0.01369542)]"
      ]
     },
     "execution_count": 45,
     "metadata": {},
     "output_type": "execute_result"
    }
   ],
   "source": [
    "top_topics "
   ]
  },
  {
   "cell_type": "markdown",
   "id": "ee9692ee",
   "metadata": {},
   "source": [
    "## For all"
   ]
  },
  {
   "cell_type": "code",
   "execution_count": 24,
   "id": "9836df61",
   "metadata": {},
   "outputs": [],
   "source": [
    "train_vec = [] #making features out of the probability of a meal being in a cluster\n",
    "for d in df_list:\n",
    "    bow = dictionary.doc2bow(d)\n",
    "    top_topics = lda_model.get_document_topics(bow, minimum_probability=0.0)\n",
    "    topic_vec = [top_topics[i][1] for i in range(8)] #8 is number of topics\n",
    "    train_vec.append(topic_vec)"
   ]
  },
  {
   "cell_type": "code",
   "execution_count": 25,
   "id": "4057e3a9",
   "metadata": {},
   "outputs": [],
   "source": [
    "train = pd.DataFrame(train_vec, columns = ['Topic 0', 'Topic 1','Topic 2', 'Topic 3', 'Topic 4', 'Topic 5', 'Topic 6', 'Topic 7'])"
   ]
  },
  {
   "cell_type": "code",
   "execution_count": 26,
   "id": "ee68b1eb",
   "metadata": {},
   "outputs": [
    {
     "data": {
      "text/html": [
       "<div>\n",
       "<style scoped>\n",
       "    .dataframe tbody tr th:only-of-type {\n",
       "        vertical-align: middle;\n",
       "    }\n",
       "\n",
       "    .dataframe tbody tr th {\n",
       "        vertical-align: top;\n",
       "    }\n",
       "\n",
       "    .dataframe thead th {\n",
       "        text-align: right;\n",
       "    }\n",
       "</style>\n",
       "<table border=\"1\" class=\"dataframe\">\n",
       "  <thead>\n",
       "    <tr style=\"text-align: right;\">\n",
       "      <th></th>\n",
       "      <th>Topic 0</th>\n",
       "      <th>Topic 1</th>\n",
       "      <th>Topic 2</th>\n",
       "      <th>Topic 3</th>\n",
       "      <th>Topic 4</th>\n",
       "      <th>Topic 5</th>\n",
       "      <th>Topic 6</th>\n",
       "      <th>Topic 7</th>\n",
       "    </tr>\n",
       "  </thead>\n",
       "  <tbody>\n",
       "    <tr>\n",
       "      <th>0</th>\n",
       "      <td>0.708295</td>\n",
       "      <td>0.041672</td>\n",
       "      <td>0.041672</td>\n",
       "      <td>0.041672</td>\n",
       "      <td>0.041672</td>\n",
       "      <td>0.041672</td>\n",
       "      <td>0.041672</td>\n",
       "      <td>0.041672</td>\n",
       "    </tr>\n",
       "    <tr>\n",
       "      <th>1</th>\n",
       "      <td>0.515624</td>\n",
       "      <td>0.390608</td>\n",
       "      <td>0.015630</td>\n",
       "      <td>0.015625</td>\n",
       "      <td>0.015633</td>\n",
       "      <td>0.015629</td>\n",
       "      <td>0.015625</td>\n",
       "      <td>0.015626</td>\n",
       "    </tr>\n",
       "    <tr>\n",
       "      <th>2</th>\n",
       "      <td>0.025001</td>\n",
       "      <td>0.025001</td>\n",
       "      <td>0.425013</td>\n",
       "      <td>0.025001</td>\n",
       "      <td>0.025001</td>\n",
       "      <td>0.025001</td>\n",
       "      <td>0.424982</td>\n",
       "      <td>0.025001</td>\n",
       "    </tr>\n",
       "    <tr>\n",
       "      <th>3</th>\n",
       "      <td>0.017857</td>\n",
       "      <td>0.570106</td>\n",
       "      <td>0.322742</td>\n",
       "      <td>0.017857</td>\n",
       "      <td>0.017863</td>\n",
       "      <td>0.017860</td>\n",
       "      <td>0.017857</td>\n",
       "      <td>0.017858</td>\n",
       "    </tr>\n",
       "    <tr>\n",
       "      <th>4</th>\n",
       "      <td>0.265631</td>\n",
       "      <td>0.265630</td>\n",
       "      <td>0.140595</td>\n",
       "      <td>0.015648</td>\n",
       "      <td>0.265619</td>\n",
       "      <td>0.015625</td>\n",
       "      <td>0.015625</td>\n",
       "      <td>0.015625</td>\n",
       "    </tr>\n",
       "    <tr>\n",
       "      <th>...</th>\n",
       "      <td>...</td>\n",
       "      <td>...</td>\n",
       "      <td>...</td>\n",
       "      <td>...</td>\n",
       "      <td>...</td>\n",
       "      <td>...</td>\n",
       "      <td>...</td>\n",
       "      <td>...</td>\n",
       "    </tr>\n",
       "    <tr>\n",
       "      <th>7245</th>\n",
       "      <td>0.010417</td>\n",
       "      <td>0.315970</td>\n",
       "      <td>0.010440</td>\n",
       "      <td>0.010417</td>\n",
       "      <td>0.107044</td>\n",
       "      <td>0.524877</td>\n",
       "      <td>0.010417</td>\n",
       "      <td>0.010418</td>\n",
       "    </tr>\n",
       "    <tr>\n",
       "      <th>7246</th>\n",
       "      <td>0.011364</td>\n",
       "      <td>0.011373</td>\n",
       "      <td>0.011364</td>\n",
       "      <td>0.011367</td>\n",
       "      <td>0.639253</td>\n",
       "      <td>0.011364</td>\n",
       "      <td>0.292544</td>\n",
       "      <td>0.011371</td>\n",
       "    </tr>\n",
       "    <tr>\n",
       "      <th>7247</th>\n",
       "      <td>0.041667</td>\n",
       "      <td>0.041667</td>\n",
       "      <td>0.041667</td>\n",
       "      <td>0.041667</td>\n",
       "      <td>0.374997</td>\n",
       "      <td>0.041667</td>\n",
       "      <td>0.041667</td>\n",
       "      <td>0.375000</td>\n",
       "    </tr>\n",
       "    <tr>\n",
       "      <th>7248</th>\n",
       "      <td>0.008932</td>\n",
       "      <td>0.008952</td>\n",
       "      <td>0.120709</td>\n",
       "      <td>0.158964</td>\n",
       "      <td>0.008942</td>\n",
       "      <td>0.112730</td>\n",
       "      <td>0.571838</td>\n",
       "      <td>0.008932</td>\n",
       "    </tr>\n",
       "    <tr>\n",
       "      <th>7249</th>\n",
       "      <td>0.008333</td>\n",
       "      <td>0.008335</td>\n",
       "      <td>0.008333</td>\n",
       "      <td>0.008334</td>\n",
       "      <td>0.080211</td>\n",
       "      <td>0.008333</td>\n",
       "      <td>0.726031</td>\n",
       "      <td>0.152088</td>\n",
       "    </tr>\n",
       "  </tbody>\n",
       "</table>\n",
       "<p>7250 rows × 8 columns</p>\n",
       "</div>"
      ],
      "text/plain": [
       "       Topic 0   Topic 1   Topic 2   Topic 3   Topic 4   Topic 5   Topic 6  \\\n",
       "0     0.708295  0.041672  0.041672  0.041672  0.041672  0.041672  0.041672   \n",
       "1     0.515624  0.390608  0.015630  0.015625  0.015633  0.015629  0.015625   \n",
       "2     0.025001  0.025001  0.425013  0.025001  0.025001  0.025001  0.424982   \n",
       "3     0.017857  0.570106  0.322742  0.017857  0.017863  0.017860  0.017857   \n",
       "4     0.265631  0.265630  0.140595  0.015648  0.265619  0.015625  0.015625   \n",
       "...        ...       ...       ...       ...       ...       ...       ...   \n",
       "7245  0.010417  0.315970  0.010440  0.010417  0.107044  0.524877  0.010417   \n",
       "7246  0.011364  0.011373  0.011364  0.011367  0.639253  0.011364  0.292544   \n",
       "7247  0.041667  0.041667  0.041667  0.041667  0.374997  0.041667  0.041667   \n",
       "7248  0.008932  0.008952  0.120709  0.158964  0.008942  0.112730  0.571838   \n",
       "7249  0.008333  0.008335  0.008333  0.008334  0.080211  0.008333  0.726031   \n",
       "\n",
       "       Topic 7  \n",
       "0     0.041672  \n",
       "1     0.015626  \n",
       "2     0.025001  \n",
       "3     0.017858  \n",
       "4     0.015625  \n",
       "...        ...  \n",
       "7245  0.010418  \n",
       "7246  0.011371  \n",
       "7247  0.375000  \n",
       "7248  0.008932  \n",
       "7249  0.152088  \n",
       "\n",
       "[7250 rows x 8 columns]"
      ]
     },
     "execution_count": 26,
     "metadata": {},
     "output_type": "execute_result"
    }
   ],
   "source": [
    "train"
   ]
  },
  {
   "cell_type": "code",
   "execution_count": 27,
   "id": "885606ea",
   "metadata": {},
   "outputs": [],
   "source": [
    "data_X = train\n",
    "data_y = df['expert_assessment']"
   ]
  },
  {
   "cell_type": "code",
   "execution_count": 28,
   "id": "4a2e1700",
   "metadata": {},
   "outputs": [
    {
     "data": {
      "text/plain": [
       "0.0    4261\n",
       "1.0    2989\n",
       "Name: expert_assessment, dtype: int64"
      ]
     },
     "execution_count": 28,
     "metadata": {},
     "output_type": "execute_result"
    }
   ],
   "source": [
    "data_y.value_counts()"
   ]
  },
  {
   "cell_type": "code",
   "execution_count": 29,
   "id": "0a1c611f",
   "metadata": {},
   "outputs": [],
   "source": [
    "from sklearn.model_selection import train_test_split\n",
    "X_dev, X_test, y_dev, y_test = train_test_split(data_X, data_y, test_size = 0.3)"
   ]
  },
  {
   "cell_type": "code",
   "execution_count": 30,
   "id": "56db9c62",
   "metadata": {},
   "outputs": [
    {
     "name": "stdout",
     "output_type": "stream",
     "text": [
      "Development accuracy: 0.6228571428571429\n",
      "Test accuracy: 0.5963218390804598\n"
     ]
    }
   ],
   "source": [
    "#Checking if probability of being in a particular cluster fullfils goals or not \n",
    "from sklearn import svm\n",
    "from sklearn.metrics import accuracy_score\n",
    "clf = svm.SVC(kernel='rbf')\n",
    "clf.fit(X_dev, y_dev)\n",
    "y_pred_dev = clf.predict(X_dev)\n",
    "y_pred_test = clf.predict(X_test)\n",
    "print('Development accuracy:', accuracy_score(y_dev, y_pred_dev))\n",
    "print('Test accuracy:', accuracy_score(y_test, y_pred_test))"
   ]
  },
  {
   "cell_type": "code",
   "execution_count": 31,
   "id": "e25c2768",
   "metadata": {},
   "outputs": [
    {
     "name": "stdout",
     "output_type": "stream",
     "text": [
      "Development accuracy: 0.594088669950739\n",
      "Test accuracy: 0.5696551724137932\n"
     ]
    }
   ],
   "source": [
    "from sklearn.linear_model import LogisticRegression\n",
    "lr = LogisticRegression()\n",
    "lr.fit(X_dev, y_dev)\n",
    "y_pred_dev = lr.predict(X_dev)\n",
    "y_pred_test = lr.predict(X_test)\n",
    "print('Development accuracy:', accuracy_score(y_dev, y_pred_dev))\n",
    "print('Test accuracy:', accuracy_score(y_test, y_pred_test))"
   ]
  },
  {
   "cell_type": "markdown",
   "id": "26e82e49",
   "metadata": {},
   "source": [
    "## For a goal"
   ]
  },
  {
   "cell_type": "code",
   "execution_count": 32,
   "id": "b51311a3",
   "metadata": {},
   "outputs": [],
   "source": [
    "df_plant_proteins = df[df['goal_short_name'] == 'plant_proteins']"
   ]
  },
  {
   "cell_type": "code",
   "execution_count": 33,
   "id": "1c1c111d",
   "metadata": {},
   "outputs": [],
   "source": [
    "df_plant_proteins_list = df_plant_proteins['ingredients_and_title'].tolist()"
   ]
  },
  {
   "cell_type": "code",
   "execution_count": 34,
   "id": "74ac5a64",
   "metadata": {},
   "outputs": [],
   "source": [
    "df_plant_proteins_list = [d.split() for d in df_plant_proteins_list]"
   ]
  },
  {
   "cell_type": "code",
   "execution_count": 35,
   "id": "1968f2a8",
   "metadata": {},
   "outputs": [],
   "source": [
    "train_vec = []\n",
    "for d in df_plant_proteins_list:\n",
    "    bow = dictionary.doc2bow(d)\n",
    "    top_topics = lda_model.get_document_topics(bow, minimum_probability=0.0)\n",
    "    topic_vec = [top_topics[i][1] for i in range(8)] #6 is number of topics\n",
    "    train_vec.append(topic_vec)"
   ]
  },
  {
   "cell_type": "code",
   "execution_count": 36,
   "id": "5284d181",
   "metadata": {},
   "outputs": [],
   "source": [
    "train = pd.DataFrame(train_vec, columns = ['Topic 0', 'Topic 1','Topic 2', 'Topic 3', 'Topic 4', 'Topic 5', 'Topic 6', 'Topic 7'])"
   ]
  },
  {
   "cell_type": "code",
   "execution_count": 37,
   "id": "fcc73c61",
   "metadata": {},
   "outputs": [
    {
     "data": {
      "text/html": [
       "<div>\n",
       "<style scoped>\n",
       "    .dataframe tbody tr th:only-of-type {\n",
       "        vertical-align: middle;\n",
       "    }\n",
       "\n",
       "    .dataframe tbody tr th {\n",
       "        vertical-align: top;\n",
       "    }\n",
       "\n",
       "    .dataframe thead th {\n",
       "        text-align: right;\n",
       "    }\n",
       "</style>\n",
       "<table border=\"1\" class=\"dataframe\">\n",
       "  <thead>\n",
       "    <tr style=\"text-align: right;\">\n",
       "      <th></th>\n",
       "      <th>Topic 0</th>\n",
       "      <th>Topic 1</th>\n",
       "      <th>Topic 2</th>\n",
       "      <th>Topic 3</th>\n",
       "      <th>Topic 4</th>\n",
       "      <th>Topic 5</th>\n",
       "      <th>Topic 6</th>\n",
       "      <th>Topic 7</th>\n",
       "    </tr>\n",
       "  </thead>\n",
       "  <tbody>\n",
       "    <tr>\n",
       "      <th>0</th>\n",
       "      <td>0.708295</td>\n",
       "      <td>0.041672</td>\n",
       "      <td>0.041672</td>\n",
       "      <td>0.041672</td>\n",
       "      <td>0.041672</td>\n",
       "      <td>0.041672</td>\n",
       "      <td>0.041672</td>\n",
       "      <td>0.041672</td>\n",
       "    </tr>\n",
       "    <tr>\n",
       "      <th>1</th>\n",
       "      <td>0.515624</td>\n",
       "      <td>0.390608</td>\n",
       "      <td>0.015630</td>\n",
       "      <td>0.015625</td>\n",
       "      <td>0.015633</td>\n",
       "      <td>0.015629</td>\n",
       "      <td>0.015625</td>\n",
       "      <td>0.015626</td>\n",
       "    </tr>\n",
       "    <tr>\n",
       "      <th>2</th>\n",
       "      <td>0.025001</td>\n",
       "      <td>0.025001</td>\n",
       "      <td>0.425013</td>\n",
       "      <td>0.025001</td>\n",
       "      <td>0.025001</td>\n",
       "      <td>0.025001</td>\n",
       "      <td>0.424982</td>\n",
       "      <td>0.025001</td>\n",
       "    </tr>\n",
       "    <tr>\n",
       "      <th>3</th>\n",
       "      <td>0.017857</td>\n",
       "      <td>0.569881</td>\n",
       "      <td>0.322967</td>\n",
       "      <td>0.017857</td>\n",
       "      <td>0.017863</td>\n",
       "      <td>0.017860</td>\n",
       "      <td>0.017857</td>\n",
       "      <td>0.017858</td>\n",
       "    </tr>\n",
       "    <tr>\n",
       "      <th>4</th>\n",
       "      <td>0.265631</td>\n",
       "      <td>0.265630</td>\n",
       "      <td>0.140590</td>\n",
       "      <td>0.015653</td>\n",
       "      <td>0.265619</td>\n",
       "      <td>0.015625</td>\n",
       "      <td>0.015625</td>\n",
       "      <td>0.015625</td>\n",
       "    </tr>\n",
       "    <tr>\n",
       "      <th>...</th>\n",
       "      <td>...</td>\n",
       "      <td>...</td>\n",
       "      <td>...</td>\n",
       "      <td>...</td>\n",
       "      <td>...</td>\n",
       "      <td>...</td>\n",
       "      <td>...</td>\n",
       "      <td>...</td>\n",
       "    </tr>\n",
       "    <tr>\n",
       "      <th>482</th>\n",
       "      <td>0.005208</td>\n",
       "      <td>0.963531</td>\n",
       "      <td>0.005211</td>\n",
       "      <td>0.005210</td>\n",
       "      <td>0.005210</td>\n",
       "      <td>0.005211</td>\n",
       "      <td>0.005210</td>\n",
       "      <td>0.005209</td>\n",
       "    </tr>\n",
       "    <tr>\n",
       "      <th>483</th>\n",
       "      <td>0.008929</td>\n",
       "      <td>0.708766</td>\n",
       "      <td>0.008932</td>\n",
       "      <td>0.008930</td>\n",
       "      <td>0.169396</td>\n",
       "      <td>0.008929</td>\n",
       "      <td>0.077188</td>\n",
       "      <td>0.008931</td>\n",
       "    </tr>\n",
       "    <tr>\n",
       "      <th>484</th>\n",
       "      <td>0.075889</td>\n",
       "      <td>0.040904</td>\n",
       "      <td>0.004475</td>\n",
       "      <td>0.049518</td>\n",
       "      <td>0.780107</td>\n",
       "      <td>0.040176</td>\n",
       "      <td>0.004466</td>\n",
       "      <td>0.004464</td>\n",
       "    </tr>\n",
       "    <tr>\n",
       "      <th>485</th>\n",
       "      <td>0.017857</td>\n",
       "      <td>0.017857</td>\n",
       "      <td>0.017857</td>\n",
       "      <td>0.017857</td>\n",
       "      <td>0.875000</td>\n",
       "      <td>0.017857</td>\n",
       "      <td>0.017857</td>\n",
       "      <td>0.017857</td>\n",
       "    </tr>\n",
       "    <tr>\n",
       "      <th>486</th>\n",
       "      <td>0.443389</td>\n",
       "      <td>0.158352</td>\n",
       "      <td>0.226734</td>\n",
       "      <td>0.065930</td>\n",
       "      <td>0.006948</td>\n",
       "      <td>0.006946</td>\n",
       "      <td>0.084752</td>\n",
       "      <td>0.006948</td>\n",
       "    </tr>\n",
       "  </tbody>\n",
       "</table>\n",
       "<p>487 rows × 8 columns</p>\n",
       "</div>"
      ],
      "text/plain": [
       "      Topic 0   Topic 1   Topic 2   Topic 3   Topic 4   Topic 5   Topic 6  \\\n",
       "0    0.708295  0.041672  0.041672  0.041672  0.041672  0.041672  0.041672   \n",
       "1    0.515624  0.390608  0.015630  0.015625  0.015633  0.015629  0.015625   \n",
       "2    0.025001  0.025001  0.425013  0.025001  0.025001  0.025001  0.424982   \n",
       "3    0.017857  0.569881  0.322967  0.017857  0.017863  0.017860  0.017857   \n",
       "4    0.265631  0.265630  0.140590  0.015653  0.265619  0.015625  0.015625   \n",
       "..        ...       ...       ...       ...       ...       ...       ...   \n",
       "482  0.005208  0.963531  0.005211  0.005210  0.005210  0.005211  0.005210   \n",
       "483  0.008929  0.708766  0.008932  0.008930  0.169396  0.008929  0.077188   \n",
       "484  0.075889  0.040904  0.004475  0.049518  0.780107  0.040176  0.004466   \n",
       "485  0.017857  0.017857  0.017857  0.017857  0.875000  0.017857  0.017857   \n",
       "486  0.443389  0.158352  0.226734  0.065930  0.006948  0.006946  0.084752   \n",
       "\n",
       "      Topic 7  \n",
       "0    0.041672  \n",
       "1    0.015626  \n",
       "2    0.025001  \n",
       "3    0.017858  \n",
       "4    0.015625  \n",
       "..        ...  \n",
       "482  0.005209  \n",
       "483  0.008931  \n",
       "484  0.004464  \n",
       "485  0.017857  \n",
       "486  0.006948  \n",
       "\n",
       "[487 rows x 8 columns]"
      ]
     },
     "execution_count": 37,
     "metadata": {},
     "output_type": "execute_result"
    }
   ],
   "source": [
    "train"
   ]
  },
  {
   "cell_type": "code",
   "execution_count": 38,
   "id": "e592f86e",
   "metadata": {},
   "outputs": [],
   "source": [
    "data_X = train\n",
    "data_y = df_plant_proteins['expert_assessment']"
   ]
  },
  {
   "cell_type": "code",
   "execution_count": 39,
   "id": "ce9609e0",
   "metadata": {},
   "outputs": [
    {
     "data": {
      "text/plain": [
       "0.0    404\n",
       "1.0     83\n",
       "Name: expert_assessment, dtype: int64"
      ]
     },
     "execution_count": 39,
     "metadata": {},
     "output_type": "execute_result"
    }
   ],
   "source": [
    "data_y.value_counts()"
   ]
  },
  {
   "cell_type": "code",
   "execution_count": 40,
   "id": "9c129cc0",
   "metadata": {},
   "outputs": [],
   "source": [
    "from sklearn.model_selection import train_test_split\n",
    "X_dev, X_test, y_dev, y_test = train_test_split(data_X, data_y, test_size = 0.33)"
   ]
  },
  {
   "cell_type": "code",
   "execution_count": 41,
   "id": "019ca614",
   "metadata": {},
   "outputs": [
    {
     "name": "stdout",
     "output_type": "stream",
     "text": [
      "Development accuracy: 0.8251533742331288\n",
      "Test accuracy: 0.8385093167701864\n"
     ]
    }
   ],
   "source": [
    "#Checking if probability of being in a particular cluster fullfils goals or not per goalwise\n",
    "from sklearn import svm\n",
    "clf = svm.SVC(kernel='rbf')\n",
    "clf.fit(X_dev, y_dev)\n",
    "y_pred_dev = clf.predict(X_dev)\n",
    "y_pred_test = clf.predict(X_test)\n",
    "print('Development accuracy:', accuracy_score(y_dev, y_pred_dev))\n",
    "print('Test accuracy:', accuracy_score(y_test, y_pred_test))"
   ]
  },
  {
   "cell_type": "code",
   "execution_count": 42,
   "id": "c9548d48",
   "metadata": {},
   "outputs": [
    {
     "name": "stdout",
     "output_type": "stream",
     "text": [
      "Development accuracy: 0.8251533742331288\n",
      "Test accuracy: 0.8385093167701864\n"
     ]
    }
   ],
   "source": [
    "from sklearn.linear_model import LogisticRegression\n",
    "lr = LogisticRegression()\n",
    "lr.fit(X_dev, y_dev)\n",
    "y_pred_dev = lr.predict(X_dev)\n",
    "y_pred_test = lr.predict(X_test)\n",
    "print('Development accuracy:', accuracy_score(y_dev, y_pred_dev))\n",
    "print('Test accuracy:', accuracy_score(y_test, y_pred_test))"
   ]
  },
  {
   "cell_type": "code",
   "execution_count": 43,
   "id": "1b2dcd94",
   "metadata": {
    "scrolled": true
   },
   "outputs": [
    {
     "data": {
      "text/plain": [
       "array([0., 0., 0., 0., 0., 0., 0., 0., 0., 0., 0., 0., 0., 0., 0., 0., 0.,\n",
       "       0., 0., 0., 0., 0., 0., 0., 0., 0., 0., 0., 0., 0., 0., 0., 0., 0.,\n",
       "       0., 0., 0., 0., 0., 0., 0., 0., 0., 0., 0., 0., 0., 0., 0., 0., 0.,\n",
       "       0., 0., 0., 0., 0., 0., 0., 0., 0., 0., 0., 0., 0., 0., 0., 0., 0.,\n",
       "       0., 0., 0., 0., 0., 0., 0., 0., 0., 0., 0., 0., 0., 0., 0., 0., 0.,\n",
       "       0., 0., 0., 0., 0., 0., 0., 0., 0., 0., 0., 0., 0., 0., 0., 0., 0.,\n",
       "       0., 0., 0., 0., 0., 0., 0., 0., 0., 0., 0., 0., 0., 0., 0., 0., 0.,\n",
       "       0., 0., 0., 0., 0., 0., 0., 0., 0., 0., 0., 0., 0., 0., 0., 0., 0.,\n",
       "       0., 0., 0., 0., 0., 0., 0., 0., 0., 0., 0., 0., 0., 0., 0., 0., 0.,\n",
       "       0., 0., 0., 0., 0., 0., 0., 0.])"
      ]
     },
     "execution_count": 43,
     "metadata": {},
     "output_type": "execute_result"
    }
   ],
   "source": [
    "lr.predict(X_test)"
   ]
  }
 ],
 "metadata": {
  "kernelspec": {
   "display_name": "Python 3.9 (tensorflow)",
   "language": "python",
   "name": "tensorflow"
  },
  "language_info": {
   "codemirror_mode": {
    "name": "ipython",
    "version": 3
   },
   "file_extension": ".py",
   "mimetype": "text/x-python",
   "name": "python",
   "nbconvert_exporter": "python",
   "pygments_lexer": "ipython3",
   "version": "3.9.7"
  }
 },
 "nbformat": 4,
 "nbformat_minor": 5
}
