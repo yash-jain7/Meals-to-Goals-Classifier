{
 "cells": [
  {
   "cell_type": "code",
   "execution_count": 45,
   "id": "ddbf3eb6",
   "metadata": {},
   "outputs": [],
   "source": [
    "import pandas as pd\n",
    "import gensim\n",
    "import numpy as np\n",
    "from sklearn.model_selection import KFold"
   ]
  },
  {
   "cell_type": "code",
   "execution_count": 1,
   "id": "0483b42f",
   "metadata": {},
   "outputs": [],
   "source": [
    "import pandas as pd\n",
    "import gensim\n",
    "import numpy as np\n",
    "from sklearn.model_selection import KFold\n",
    "import nltk\n",
    "from nltk.corpus import stopwords\n",
    "# Import textblob\n",
    "from textblob import Word, TextBlob\n",
    "import matplotlib.pyplot as plt\n",
    "%matplotlib inline\n",
    "from sklearn.model_selection import train_test_split\n",
    "from sklearn.linear_model import LogisticRegression\n",
    "from sklearn.metrics import accuracy_score\n",
    "from sklearn.feature_extraction.text import TfidfVectorizer\n",
    "from sklearn.feature_extraction.text import CountVectorizer\n",
    "from sklearn.model_selection import cross_val_score, cross_val_predict\n",
    "from sklearn.model_selection import KFold\n",
    "import warnings\n",
    "warnings.filterwarnings(\"ignore\")"
   ]
  },
  {
   "cell_type": "markdown",
   "id": "a681a501",
   "metadata": {},
   "source": [
    "# low_glycemic_index"
   ]
  },
  {
   "cell_type": "markdown",
   "id": "a35db19e",
   "metadata": {},
   "source": [
    "## Data Preprocessing"
   ]
  },
  {
   "cell_type": "code",
   "execution_count": 2,
   "id": "30db71f8",
   "metadata": {},
   "outputs": [],
   "source": [
    "df = pd.read_excel('Meals_w_Goals_deid_snapshot.xlsx', 'low_glycemic_index_1')"
   ]
  },
  {
   "cell_type": "code",
   "execution_count": 3,
   "id": "24f10815",
   "metadata": {
    "scrolled": true
   },
   "outputs": [
    {
     "data": {
      "text/plain": [
       "0"
      ]
     },
     "execution_count": 3,
     "metadata": {},
     "output_type": "execute_result"
    }
   ],
   "source": [
    "df['meal_ingredients'].isnull().sum()"
   ]
  },
  {
   "cell_type": "code",
   "execution_count": 4,
   "id": "1e347279",
   "metadata": {},
   "outputs": [],
   "source": [
    "df = df.dropna(axis=0, subset=['meal_ingredients'])"
   ]
  },
  {
   "cell_type": "code",
   "execution_count": 5,
   "id": "5485bdca",
   "metadata": {},
   "outputs": [
    {
     "data": {
      "text/plain": [
       "0"
      ]
     },
     "execution_count": 5,
     "metadata": {},
     "output_type": "execute_result"
    }
   ],
   "source": [
    "df['meal_ingredients'].isnull().sum()"
   ]
  },
  {
   "cell_type": "code",
   "execution_count": 6,
   "id": "8ddbbb4a",
   "metadata": {},
   "outputs": [],
   "source": [
    "df['meal_ingredients'] = df['meal_ingredients'].astype(str)"
   ]
  },
  {
   "cell_type": "code",
   "execution_count": 7,
   "id": "a00514e7",
   "metadata": {},
   "outputs": [
    {
     "name": "stderr",
     "output_type": "stream",
     "text": [
      "[nltk_data] Downloading package stopwords to\n",
      "[nltk_data]     /Users/yashjain/nltk_data...\n",
      "[nltk_data]   Package stopwords is already up-to-date!\n",
      "[nltk_data] Downloading package wordnet to\n",
      "[nltk_data]     /Users/yashjain/nltk_data...\n",
      "[nltk_data]   Package wordnet is already up-to-date!\n"
     ]
    }
   ],
   "source": [
    "nltk.download('stopwords')\n",
    "nltk.download('wordnet')\n",
    "stop_words = stopwords.words('english')"
   ]
  },
  {
   "cell_type": "code",
   "execution_count": 8,
   "id": "6014c635",
   "metadata": {},
   "outputs": [],
   "source": [
    "def preprocess_meals(meal):\n",
    "    processed_meal = meal\n",
    "    processed_meal.replace('[^\\w\\s]', '')\n",
    "    processed_meal = \" \".join(word for word in processed_meal.split() if word not in stop_words)\n",
    "    #processed_meal = \" \".join(word for word in processed_meal.split() if word not in custom_stopwords)\n",
    "    processed_meal = \" \".join(Word(word).lemmatize() for word in processed_meal.split())\n",
    "    return(processed_meal)"
   ]
  },
  {
   "cell_type": "code",
   "execution_count": 9,
   "id": "0f6ce2d4",
   "metadata": {},
   "outputs": [],
   "source": [
    "from sklearn.preprocessing import OrdinalEncoder\n",
    "label = df['expert_assessment']\n",
    "enc = OrdinalEncoder(categories = [['not_really', 'yes']])\n",
    "df['expert_assessment'] = enc.fit_transform(label.to_numpy().reshape(-1,1))"
   ]
  },
  {
   "cell_type": "code",
   "execution_count": 10,
   "id": "7433d3be",
   "metadata": {
    "scrolled": true
   },
   "outputs": [
    {
     "name": "stdout",
     "output_type": "stream",
     "text": [
      "Total observations: 152\n",
      "Total negative labels: 79\n",
      "Total positive labels: 73\n"
     ]
    }
   ],
   "source": [
    "total = df['expert_assessment'].count()\n",
    "negative = df['expert_assessment'][df['expert_assessment']==0].count()\n",
    "positive = df['expert_assessment'][df['expert_assessment']==1].count()\n",
    "print('Total observations:', total)\n",
    "print('Total negative labels:', negative)\n",
    "print('Total positive labels:', positive)"
   ]
  },
  {
   "cell_type": "markdown",
   "id": "32bddb3d",
   "metadata": {},
   "source": [
    "# TFIDF\n"
   ]
  },
  {
   "cell_type": "markdown",
   "id": "cb1d4dc6",
   "metadata": {},
   "source": [
    "## Meal Ingredients"
   ]
  },
  {
   "cell_type": "code",
   "execution_count": 11,
   "id": "beb85b6b",
   "metadata": {},
   "outputs": [],
   "source": [
    "df['meal_ingredients'] = df['meal_ingredients'].apply(lambda x: preprocess_meals(x))"
   ]
  },
  {
   "cell_type": "code",
   "execution_count": 12,
   "id": "9b6ae7a9",
   "metadata": {},
   "outputs": [
    {
     "data": {
      "text/plain": [
       "0                          Egg, turkey bacon, bread, tea\n",
       "1                                     Raisin Bread 2 egg\n",
       "2      Chicken enchilada, cheese, sour cream, rice, corn\n",
       "3           Muffin bagel cream cheese jelly orange apple\n",
       "4      Kraft deluxe Mac n cheese and. Mussels butter ...\n",
       "                             ...                        \n",
       "147    Lettuce, tomato, feta, rice/leaf thing, cucumb...\n",
       "148                                    Soymilk, espresso\n",
       "149    Spinach, kale, carrots, mushrooms, kidney bean...\n",
       "150                                           Whole milk\n",
       "151                           Frozen mango lil pineapple\n",
       "Name: meal_ingredients, Length: 152, dtype: object"
      ]
     },
     "execution_count": 12,
     "metadata": {},
     "output_type": "execute_result"
    }
   ],
   "source": [
    "df['meal_ingredients']"
   ]
  },
  {
   "cell_type": "code",
   "execution_count": 13,
   "id": "a841d1e9",
   "metadata": {},
   "outputs": [],
   "source": [
    "document = []\n",
    "for i in df['meal_ingredients']:\n",
    "    if i != '':\n",
    "        document.append(i)"
   ]
  },
  {
   "cell_type": "code",
   "execution_count": 14,
   "id": "e93f48a5",
   "metadata": {},
   "outputs": [
    {
     "data": {
      "text/plain": [
       "['Egg, turkey bacon, bread, tea',\n",
       " 'Raisin Bread 2 egg',\n",
       " 'Chicken enchilada, cheese, sour cream, rice, corn',\n",
       " 'Muffin bagel cream cheese jelly orange apple',\n",
       " 'Kraft deluxe Mac n cheese and. Mussels butter garlic sauce',\n",
       " 'Mashed potatoes, curry chicken Irish potato, fried plantain, iced tea',\n",
       " 'Cheeses noddle meat tomato sauce corn cob butter',\n",
       " 'Bun cheese meat fry',\n",
       " 'White rice; tofu; eggplant; string beans; carrot',\n",
       " 'Chicken rice bean',\n",
       " 'Oatmeal bread saltfish seasoning',\n",
       " '1 slice cheddar potato bread fair amount cream cheese',\n",
       " 'Corn rice cheese',\n",
       " '99% fat free yogurt peach bottom',\n",
       " 'Spaghetti meat sauce',\n",
       " 'Corn',\n",
       " 'Salt egg pepper waffle',\n",
       " '2 Hungry jack pancake 1 egg tea',\n",
       " 'Strawberry, whole grain wheat, oats, barley, banana',\n",
       " 'Chicken, bread',\n",
       " 'Fried chicken thigh, wheat pasta macaroni cheese, mashed potato, biscuit, cob corn',\n",
       " 'Chicken, bismati rice, lettuce, corn, olives, onions, chick pea',\n",
       " 'Chicken, rice, chickpeas, broccoli, beets, pita hummus',\n",
       " 'Skim milk, coffee, sugar',\n",
       " 'Turkey hot dog',\n",
       " 'Butter bread codfish cocoa tea',\n",
       " 'Chicken, white rice, pastry, potatoes, pea',\n",
       " 'Noodles, sesame sauce, chili oil, chicken, shiitake mushrooms, bamboo shoot',\n",
       " 'Steak fry',\n",
       " 'Beef, white rice, green beans, potatoes, carrots, onion',\n",
       " 'Bread, cheese, \\uf8ffüçÖ sauce',\n",
       " 'grilled bbq chicken white rice',\n",
       " 'white bread, Turkey, cheese, tomato, spinach, honey mustard',\n",
       " 'Steak egg cheese',\n",
       " 'Pineapples',\n",
       " 'Corn, chicken, pepper',\n",
       " 'Water',\n",
       " 'Sugar water',\n",
       " 'Cheddar potato bread fried codfish batter',\n",
       " 'Duck soft blue corn tortilla orange sauce Pinot Noir',\n",
       " 'Chocolate hazelnut',\n",
       " 'Bread roll; salami; ham; cheese; mayonnaise',\n",
       " 'Chicken, pasta, cheese, salad, madhed potatoes, corn, grit',\n",
       " 'Gelato',\n",
       " 'Delicious food',\n",
       " 'Shoes',\n",
       " 'Fat free yogurt strawberry',\n",
       " 'Bun,mayo,lettuce,tomato,bacon,tortilla,cheese, honey mustard, 2oz beef patty and, half grilled chicken',\n",
       " 'Cinnamon raisin bread, egg, turkey, milk',\n",
       " 'Homemade alfredo sauce',\n",
       " 'Tomatoe sauce, spaghetti, chicken, parmesan cheese',\n",
       " 'Beer',\n",
       " 'Egg, syrup, potato bread dipped egg mixture',\n",
       " 'Water',\n",
       " 'Fish, chicken, zucchini, carrots, string beans, white rice',\n",
       " 'Toast, eggs, chicken sausage, orange juice Apple sauce tea',\n",
       " 'Bbq pork Alfredo pasta',\n",
       " 'Meat bun Frieds bacon cheese',\n",
       " 'Almond milk. Sandwich: cheese, ham, cheddar bread, homemade Guava jelly',\n",
       " 'Sweet potato',\n",
       " 'Garlic ,olive oil',\n",
       " 'Chicken Alfredo sauce noodle',\n",
       " 'Pancake, eggs, oj',\n",
       " 'Fruit tea, butter bread, 1/2 egg, 4 slice turkey bacon (reduced fat)',\n",
       " 'Earl grey tea,Pancake egg turkey bacon',\n",
       " 'Water',\n",
       " 'And syrup',\n",
       " 'Chocolate milk, eggs, chicken sausage, waffle syrup',\n",
       " 'Salt French fry shrimp',\n",
       " 'Whole wheat bread lettuce, fried whiting, tomato, sauce, fries, small salad carrot',\n",
       " 'Spinach eggs, raisin bagel',\n",
       " 'White rice, street stew chicken, beans, coleslaw, soursop juice (100% fruit juice)',\n",
       " 'Flour tortilla, chicken, brown rice, salsa, pinto beans, lettuce, cheese, corn',\n",
       " 'Pasta, turkey meatball',\n",
       " 'Test',\n",
       " 'Kidney beans, macaroni pie, stew beef, croissant',\n",
       " 'ChickenChicken, cheese, lettuce, tomato, panini bread',\n",
       " 'Strawberry pineapple smoothie, cheese pepperoni pasta sauce....handful puff pastry Guava filling',\n",
       " 'Multigrain bread different healthy seed fried codfish batter 1 peach',\n",
       " 'Grapes',\n",
       " 'Oatmeal brown sugar milk',\n",
       " 'Oatmeal; almond',\n",
       " 'Strawberrys',\n",
       " 'Handful grape 1 banana',\n",
       " 'Stewed chicken white rice salad',\n",
       " 'Lettuce; spinach; beets; tofu; chickpeas; broccoli; mushrooms; egg whites; avocado',\n",
       " 'Bread 2 egg (double picture)',\n",
       " 'Almonds',\n",
       " 'White brown rice, chicken, eggs, sausage, peas, eggplant',\n",
       " 'Turkey, Parmesan cheese, asparagus, sweet potato',\n",
       " 'Beef, veggies, barley',\n",
       " 'Bread, egg spinach',\n",
       " 'see',\n",
       " 'Lettuce, broccoli, beets, pumpkin, egg whites, tomatoes, chickpeas, pumpkin seed',\n",
       " 'Bananas!',\n",
       " 'Nothing',\n",
       " 'Eggs potato blackberry',\n",
       " 'Chicken, carrots, string beans, rice',\n",
       " 'Peanuts dried cherry',\n",
       " '2 egg load spinach, 1 purple plum, hot chocolate finally vitamin havent taken since April! P.s. Hii Betsy!!',\n",
       " 'Guac, med spice corn chip',\n",
       " 'Whole wheat bagel orange',\n",
       " 'See',\n",
       " 'Grilled chicken, brown rice, tomato corn lettuce',\n",
       " 'See',\n",
       " 'Stew chicken, rice, green bean',\n",
       " 'Kind bar',\n",
       " 'Grapes',\n",
       " 'Turkey meatballs, sweet potato brussel sprout',\n",
       " 'OrangEs',\n",
       " 'Apple',\n",
       " 'Apple',\n",
       " 'Whole milk',\n",
       " 'Yogurt orange',\n",
       " 'Bakee chicken, rice, black beans, carrots, broccoli, cauliflower',\n",
       " 'Quinoa, chicken, kale, almonds, tahini dressing',\n",
       " 'Arugula, red onion, radish lemon oil',\n",
       " 'Rice, avocado, fake crab, tomatoes, zucchini, cauliflower, broccoli bean water',\n",
       " 'Soy, tapioca, sugar',\n",
       " 'Rice pea spinach-pineapple smoothie',\n",
       " 'Almonds, orange',\n",
       " 'Red Plum',\n",
       " 'It grape bowl svc I pancake 1 egg also I ate I remembered :)',\n",
       " 'Corn, rice, flax buckwheat cereal',\n",
       " 'Skinless chicken, baked Brussel sprouts, brown rice risotto, cooked carrot radish',\n",
       " 'Pumpkin soup cracker',\n",
       " 'Green tea peach flavored oatmeal',\n",
       " 'Banana And blueberry',\n",
       " 'Ketchup previously mentioned',\n",
       " '2 eggs, spinach, mushrooms, feta, potatoes, peppers, strawberries, kiwi, blueberry',\n",
       " 'Wheat, spelt, barley quinoa cereal. Skim milk. Blackberries',\n",
       " 'Blueberries',\n",
       " 'Mango, strawberry, peach, pineapple',\n",
       " 'Chocolate',\n",
       " 'Lettuce, romaine, strawberries,blackberries, cheese chicken',\n",
       " 'Plain yogurt , honey, blueberry',\n",
       " 'Whole wheat bread',\n",
       " 'Carrot, tomato, anchovies, feta, kalamata olives, cucumber, balsamic vinegar olive oil',\n",
       " 'Organic Whole milk goat yogurt, organic whole milk, 1/4 cup blueberries, 1/4 cup walnuts, cinnamon, daily good green packet, tablespoon cacao powder, tablespoon flax meal...dopeness',\n",
       " 'Fried breadfruit cheese',\n",
       " 'Apple',\n",
       " 'Brown rice, spinach, yams, cannellini beans, broccoli miso lemon tahini sauce',\n",
       " 'See',\n",
       " 'Grapes',\n",
       " 'Whole milk stevia',\n",
       " 'Kale, cranberries, almonds, tahini dressing. Salmon, avocado rice',\n",
       " 'Almonds',\n",
       " 'Lettuce, tomato, feta, rice/leaf thing, cucumber, kalamata olive, green pepper',\n",
       " 'Soymilk, espresso',\n",
       " 'Spinach, kale, carrots, mushrooms, kidney beans, chicken, 1 egg, mushrooms, broccoli, balsamic dressing',\n",
       " 'Whole milk',\n",
       " 'Frozen mango lil pineapple']"
      ]
     },
     "execution_count": 14,
     "metadata": {},
     "output_type": "execute_result"
    }
   ],
   "source": [
    "document"
   ]
  },
  {
   "cell_type": "code",
   "execution_count": 15,
   "id": "c5fdc9bb",
   "metadata": {},
   "outputs": [],
   "source": [
    "data_X = np.squeeze(pd.DataFrame(df['meal_ingredients']))\n",
    "data_y = np.squeeze(pd.DataFrame(df['expert_assessment']))"
   ]
  },
  {
   "cell_type": "code",
   "execution_count": 16,
   "id": "2fc54845",
   "metadata": {},
   "outputs": [],
   "source": [
    "X_train, X_test, y_train, y_test = train_test_split(data_X, data_y, test_size=0.2, shuffle = True)"
   ]
  },
  {
   "cell_type": "code",
   "execution_count": 17,
   "id": "6ae9e48a",
   "metadata": {
    "scrolled": true
   },
   "outputs": [
    {
     "name": "stdout",
     "output_type": "stream",
     "text": [
      "(121,) (31,)\n"
     ]
    }
   ],
   "source": [
    "print(X_train.shape, X_test.shape)"
   ]
  },
  {
   "cell_type": "code",
   "execution_count": 23,
   "id": "97d799ad",
   "metadata": {},
   "outputs": [],
   "source": [
    "train_accuracy = []\n",
    "test_accuracy = []\n",
    "for i in range(1000):\n",
    "    data_X = np.squeeze(pd.DataFrame(df['meal_ingredients']))\n",
    "    data_y = np.squeeze(pd.DataFrame(df['expert_assessment']))\n",
    "    X_train, X_test, y_train, y_test = train_test_split(data_X, data_y, test_size=0.2, shuffle = True)\n",
    "    tfidf = TfidfVectorizer(max_features=40, lowercase=True, analyzer='word',\n",
    "                        stop_words= 'english',ngram_range=(1,3),dtype=np.float32)\n",
    "    train = tfidf.fit_transform(X_train)\n",
    "    test = tfidf.transform(X_test)\n",
    "    lr = LogisticRegression()\n",
    "    #scores = cross_val_score(lr, train, y_train, cv=3)\n",
    "    y_pred_train = cross_val_predict(lr, train, y_train, cv=3)\n",
    "    #y_pred_test = cross_val_predict(lr, test, y_test, cv=3)\n",
    "    lr.fit(train, y_train)\n",
    "    #y_pred_train = lr.predict(train)\n",
    "    y_pred_test = lr.predict(test)\n",
    "    train_accuracy.append(accuracy_score(y_train, y_pred_train))\n",
    "    test_accuracy.append(accuracy_score(y_test, y_pred_test))\n"
   ]
  },
  {
   "cell_type": "code",
   "execution_count": 24,
   "id": "9b4e9893",
   "metadata": {
    "scrolled": true
   },
   "outputs": [
    {
     "data": {
      "image/png": "[encoded data removed]",
      "text/plain": [
       "<Figure size 720x720 with 1 Axes>"
      ]
     },
     "metadata": {
      "needs_background": "light"
     },
     "output_type": "display_data"
    }
   ],
   "source": [
    "plt.figure(figsize=(10,10))  \n",
    "plt.hist(train_accuracy, bins = 25,\n",
    "             color = 'blue', edgecolor = 'black')\n",
    "plt.title('Train accuracy', size = 20)\n",
    "plt.xlabel('accuracy', size = 15)\n",
    "\n",
    "plt.show()"
   ]
  },
  {
   "cell_type": "code",
   "execution_count": 25,
   "id": "ebbd3894",
   "metadata": {},
   "outputs": [
    {
     "name": "stdout",
     "output_type": "stream",
     "text": [
      "0.6766776859504132\n",
      "0.04038026677659665\n"
     ]
    }
   ],
   "source": [
    "print(np.mean(train_accuracy))\n",
    "print(np.std(train_accuracy))"
   ]
  },
  {
   "cell_type": "code",
   "execution_count": 26,
   "id": "61bff9f1",
   "metadata": {},
   "outputs": [
    {
     "data": {
      "image/png": "[encoded data removed]",
      "text/plain": [
       "<Figure size 720x720 with 1 Axes>"
      ]
     },
     "metadata": {
      "needs_background": "light"
     },
     "output_type": "display_data"
    }
   ],
   "source": [
    "plt.figure(figsize=(10,10))  \n",
    "plt.hist(test_accuracy, bins = 25,\n",
    "             color = 'blue', edgecolor = 'black')\n",
    "plt.title('test accuracy', size = 20)\n",
    "plt.xlabel('accuracy', size = 15)\n",
    "#plt.ylabel('Flights', size= 22)\n",
    "\n",
    "#plt.tight_layout()\n",
    "plt.show()"
   ]
  },
  {
   "cell_type": "code",
   "execution_count": 27,
   "id": "b38f2b29",
   "metadata": {},
   "outputs": [
    {
     "name": "stdout",
     "output_type": "stream",
     "text": [
      "0.6831935483870968\n",
      "0.07520322103270623\n"
     ]
    }
   ],
   "source": [
    "print(np.mean(test_accuracy))\n",
    "print(np.std(test_accuracy))"
   ]
  },
  {
   "cell_type": "markdown",
   "id": "cd4f548f",
   "metadata": {},
   "source": [
    "# TFIDF Meal Title"
   ]
  },
  {
   "cell_type": "code",
   "execution_count": 28,
   "id": "7428b36b",
   "metadata": {},
   "outputs": [
    {
     "data": {
      "text/plain": [
       "0"
      ]
     },
     "execution_count": 28,
     "metadata": {},
     "output_type": "execute_result"
    }
   ],
   "source": [
    "df['meal_title'].isnull().sum()"
   ]
  },
  {
   "cell_type": "code",
   "execution_count": 29,
   "id": "af0d1e37",
   "metadata": {},
   "outputs": [],
   "source": [
    "df['meal_title'] = df['meal_title'].astype(str)"
   ]
  },
  {
   "cell_type": "code",
   "execution_count": 30,
   "id": "21ce221e",
   "metadata": {},
   "outputs": [],
   "source": [
    "df = df.dropna(axis=0, subset=['meal_title'])"
   ]
  },
  {
   "cell_type": "code",
   "execution_count": 31,
   "id": "80ff64e6",
   "metadata": {},
   "outputs": [
    {
     "data": {
      "text/plain": [
       "0"
      ]
     },
     "execution_count": 31,
     "metadata": {},
     "output_type": "execute_result"
    }
   ],
   "source": [
    "df['meal_title'].isnull().sum()"
   ]
  },
  {
   "cell_type": "code",
   "execution_count": 32,
   "id": "bcde9822",
   "metadata": {},
   "outputs": [],
   "source": [
    "document = []\n",
    "for i in df['meal_title']:\n",
    "    if i != '':\n",
    "        document.append(i)"
   ]
  },
  {
   "cell_type": "code",
   "execution_count": 33,
   "id": "efbfe5fc",
   "metadata": {},
   "outputs": [],
   "source": [
    "data_X = np.squeeze(pd.DataFrame(df['meal_title']))\n",
    "data_y = np.squeeze(pd.DataFrame(df['expert_assessment']))"
   ]
  },
  {
   "cell_type": "code",
   "execution_count": 34,
   "id": "330520b5",
   "metadata": {},
   "outputs": [],
   "source": [
    "X_train, X_test, y_train, y_test = train_test_split(data_X, data_y, test_size=0.2, shuffle = True)"
   ]
  },
  {
   "cell_type": "code",
   "execution_count": 35,
   "id": "60d37d32",
   "metadata": {
    "scrolled": true
   },
   "outputs": [
    {
     "name": "stdout",
     "output_type": "stream",
     "text": [
      "(121,) (31,)\n"
     ]
    }
   ],
   "source": [
    "print(X_train.shape, X_test.shape)"
   ]
  },
  {
   "cell_type": "code",
   "execution_count": 36,
   "id": "6705643f",
   "metadata": {},
   "outputs": [],
   "source": [
    "train_accuracy = []\n",
    "test_accuracy = []\n",
    "for i in range(1000):\n",
    "    data_X = np.squeeze(pd.DataFrame(df['meal_title']))\n",
    "    data_y = np.squeeze(pd.DataFrame(df['expert_assessment']))\n",
    "    X_train, X_test, y_train, y_test = train_test_split(data_X, data_y, test_size=0.2, shuffle = True)\n",
    "    tfidf = TfidfVectorizer(max_features=100, lowercase=True, analyzer='word',\n",
    "                        stop_words= 'english',ngram_range=(1,3),dtype=np.float32)\n",
    "    train = tfidf.fit_transform(X_train)\n",
    "    test = tfidf.transform(X_test)\n",
    "    lr = LogisticRegression()\n",
    "    #scores = cross_val_score(lr, train, y_train, cv=3)\n",
    "    y_pred_train = cross_val_predict(lr, train, y_train, cv=3)\n",
    "    #y_pred_test = cross_val_predict(lr, test, y_test, cv=3)\n",
    "    lr.fit(train, y_train)\n",
    "    #y_pred_train = lr.predict(train)\n",
    "    y_pred_test = lr.predict(test)\n",
    "    train_accuracy.append(accuracy_score(y_train, y_pred_train))\n",
    "    test_accuracy.append(accuracy_score(y_test, y_pred_test))"
   ]
  },
  {
   "cell_type": "code",
   "execution_count": 37,
   "id": "1be9f5bf",
   "metadata": {
    "scrolled": true
   },
   "outputs": [
    {
     "data": {
      "image/png": "[encoded data removed]",
      "text/plain": [
       "<Figure size 720x720 with 1 Axes>"
      ]
     },
     "metadata": {
      "needs_background": "light"
     },
     "output_type": "display_data"
    }
   ],
   "source": [
    "plt.figure(figsize=(10,10))  \n",
    "plt.hist(train_accuracy, bins = 25,\n",
    "             color = 'blue', edgecolor = 'black')\n",
    "plt.title('Train accuracy', size = 20)\n",
    "plt.xlabel('accuracy', size = 15)\n",
    "#plt.ylabel('Flights', size= 22)\n",
    "\n",
    "#plt.tight_layout()\n",
    "plt.show()"
   ]
  },
  {
   "cell_type": "code",
   "execution_count": 38,
   "id": "465077e9",
   "metadata": {},
   "outputs": [
    {
     "name": "stdout",
     "output_type": "stream",
     "text": [
      "0.6823884297520663\n",
      "0.04116601763746233\n"
     ]
    }
   ],
   "source": [
    "print(np.mean(train_accuracy))\n",
    "print(np.std(train_accuracy))"
   ]
  },
  {
   "cell_type": "code",
   "execution_count": 39,
   "id": "e63ae73d",
   "metadata": {},
   "outputs": [
    {
     "data": {
      "image/png": "[encoded data removed]",
      "text/plain": [
       "<Figure size 720x720 with 1 Axes>"
      ]
     },
     "metadata": {
      "needs_background": "light"
     },
     "output_type": "display_data"
    }
   ],
   "source": [
    "plt.figure(figsize=(10,10))  \n",
    "plt.hist(test_accuracy, bins = 25,\n",
    "             color = 'blue', edgecolor = 'black')\n",
    "plt.title('test accuracy', size = 20)\n",
    "plt.xlabel('accuracy', size = 15)\n",
    "#plt.ylabel('Flights', size= 22)\n",
    "\n",
    "#plt.tight_layout()\n",
    "plt.show()"
   ]
  },
  {
   "cell_type": "code",
   "execution_count": 40,
   "id": "4cc532db",
   "metadata": {},
   "outputs": [
    {
     "name": "stdout",
     "output_type": "stream",
     "text": [
      "0.6537741935483872\n",
      "0.07775271642554019\n"
     ]
    }
   ],
   "source": [
    "print(np.mean(test_accuracy))\n",
    "print(np.std(test_accuracy))"
   ]
  },
  {
   "cell_type": "markdown",
   "id": "10d1cac0",
   "metadata": {},
   "source": [
    "# TFIDF Ingredients + Title"
   ]
  },
  {
   "cell_type": "code",
   "execution_count": 41,
   "id": "83ffcd2b",
   "metadata": {},
   "outputs": [],
   "source": [
    "df['ingredients_and_title'] = df['meal_ingredients'].astype(str) +' '+ df['meal_title'].astype(str)"
   ]
  },
  {
   "cell_type": "code",
   "execution_count": 42,
   "id": "a841d1e9",
   "metadata": {},
   "outputs": [],
   "source": [
    "document = []\n",
    "for i in df['ingredients_and_title']:\n",
    "    if i != '':\n",
    "        document.append(i)"
   ]
  },
  {
   "cell_type": "code",
   "execution_count": 43,
   "id": "e93f48a5",
   "metadata": {},
   "outputs": [
    {
     "data": {
      "text/plain": [
       "['Egg, turkey bacon, bread, tea American breakfast',\n",
       " 'Raisin Bread 2 egg Bread and eggs',\n",
       " 'Chicken enchilada, cheese, sour cream, rice, corn Lean cuisine',\n",
       " 'Muffin bagel cream cheese jelly orange apple Morning snack',\n",
       " 'Kraft deluxe Mac n cheese and. Mussels butter garlic sauce Mac n cheese and mussels',\n",
       " 'Mashed potatoes, curry chicken Irish potato, fried plantain, iced tea Chicken and potatoes',\n",
       " 'Cheeses noddle meat tomato sauce corn cob butter Ziti',\n",
       " 'Bun cheese meat fry Cheeseburger cranberry juice fries',\n",
       " 'White rice; tofu; eggplant; string beans; carrot Thai basil eggplant',\n",
       " 'Chicken rice bean Spanish food',\n",
       " 'Oatmeal bread saltfish seasoning Bread and Saltfish',\n",
       " '1 slice cheddar potato bread fair amount cream cheese Cream cheese on toast',\n",
       " 'Corn rice cheese Pirates booty',\n",
       " '99% fat free yogurt peach bottom Yogurt',\n",
       " 'Spaghetti meat sauce Spaghetti',\n",
       " 'Corn Tortilla chips',\n",
       " 'Salt egg pepper waffle Eggs and waffles',\n",
       " '2 Hungry jack pancake 1 egg tea Pancakes and eggs',\n",
       " 'Strawberry, whole grain wheat, oats, barley, banana Honey bunches of oats',\n",
       " 'Chicken, bread Chicken empanadas',\n",
       " 'Fried chicken thigh, wheat pasta macaroni cheese, mashed potato, biscuit, cob corn Southern food',\n",
       " 'Chicken, bismati rice, lettuce, corn, olives, onions, chick pea Halal food',\n",
       " 'Chicken, rice, chickpeas, broccoli, beets, pita hummus Chicken, rice, veggies',\n",
       " 'Skim milk, coffee, sugar Coffee',\n",
       " 'Turkey hot dog Hot dog',\n",
       " 'Butter bread codfish cocoa tea Bread and codfish souse',\n",
       " 'Chicken, white rice, pastry, potatoes, pea Curry chicken, rice, samosa',\n",
       " 'Noodles, sesame sauce, chili oil, chicken, shiitake mushrooms, bamboo shoot Sesame noodles, chicken, vegetables',\n",
       " 'Steak fry Steak fries',\n",
       " 'Beef, white rice, green beans, potatoes, carrots, onion Beef stew',\n",
       " 'Bread, cheese, \\uf8ffüçÖ sauce Pizza',\n",
       " 'grilled bbq chicken white rice Bbq chicken and rice',\n",
       " 'white bread, Turkey, cheese, tomato, spinach, honey mustard Turkey sandwich',\n",
       " 'Steak egg cheese Steak eggs',\n",
       " 'Pineapples Pineapples',\n",
       " 'Corn, chicken, pepper Arepa with chicken',\n",
       " 'Water Water',\n",
       " 'Sugar water Soda',\n",
       " 'Cheddar potato bread fried codfish batter Bread and saltfish cake',\n",
       " 'Duck soft blue corn tortilla orange sauce Pinot Noir ...Dinner Continued',\n",
       " 'Chocolate hazelnut Chocolate',\n",
       " 'Bread roll; salami; ham; cheese; mayonnaise Italian sandwich',\n",
       " 'Chicken, pasta, cheese, salad, madhed potatoes, corn, grit Buffet food',\n",
       " 'Gelato Vanilla gelato',\n",
       " 'Delicious food Same as other plate with cornbread',\n",
       " 'Shoes Shoes',\n",
       " 'Fat free yogurt strawberry Yogurt',\n",
       " 'Bun,mayo,lettuce,tomato,bacon,tortilla,cheese, honey mustard, 2oz beef patty and, half grilled chicken Jr. Bacon cheeseburger, grilled wrap',\n",
       " 'Cinnamon raisin bread, egg, turkey, milk Midnight Egg and turkey sandwich',\n",
       " 'Homemade alfredo sauce Alfredo pasta and fried fish',\n",
       " 'Tomatoe sauce, spaghetti, chicken, parmesan cheese Spaghetti and tomato sauce with grilled chicken',\n",
       " 'Beer Beer',\n",
       " 'Egg, syrup, potato bread dipped egg mixture French toast and egg',\n",
       " 'Water Water',\n",
       " 'Fish, chicken, zucchini, carrots, string beans, white rice Fish, chicken, veggies, rice',\n",
       " 'Toast, eggs, chicken sausage, orange juice Apple sauce tea Eggsand sausage',\n",
       " 'Bbq pork Alfredo pasta Bbq pork and Alfredo pasta',\n",
       " 'Meat bun Frieds bacon cheese Bacon cheeseburger with fries',\n",
       " 'Almond milk. Sandwich: cheese, ham, cheddar bread, homemade Guava jelly Ham and cheese sandwich',\n",
       " 'Sweet potato Fish and sweet potato fries',\n",
       " 'Garlic ,olive oil Baked Chips',\n",
       " 'Chicken Alfredo sauce noodle Chicken Alfredo',\n",
       " 'Pancake, eggs, oj Pancake and eggs',\n",
       " 'Fruit tea, butter bread, 1/2 egg, 4 slice turkey bacon (reduced fat) American breakfast',\n",
       " 'Earl grey tea,Pancake egg turkey bacon Pancake eggs turkey bacon',\n",
       " 'Water Water',\n",
       " 'And syrup Pancake eggs and spinach',\n",
       " 'Chocolate milk, eggs, chicken sausage, waffle syrup American breakfast',\n",
       " 'Salt French fry shrimp Shrimp and French fries',\n",
       " 'Whole wheat bread lettuce, fried whiting, tomato, sauce, fries, small salad carrot Whiting fish sandwich',\n",
       " 'Spinach eggs, raisin bagel Bagels and eggs',\n",
       " 'White rice, street stew chicken, beans, coleslaw, soursop juice (100% fruit juice) Arroz con pollo',\n",
       " 'Flour tortilla, chicken, brown rice, salsa, pinto beans, lettuce, cheese, corn Chipotle chicken burrito',\n",
       " 'Pasta, turkey meatball Spaghetti and meatballs',\n",
       " 'Test Test',\n",
       " 'Kidney beans, macaroni pie, stew beef, croissant Macaroni and beef',\n",
       " 'ChickenChicken, cheese, lettuce, tomato, panini bread Panera Frontega Chicken Panera',\n",
       " 'Strawberry pineapple smoothie, cheese pepperoni pasta sauce....handful puff pastry Guava filling Guava puffs, pepperoni pizza, smoothie',\n",
       " 'Multigrain bread different healthy seed fried codfish batter 1 peach Bread and saltfish cake',\n",
       " 'Grapes Grapes',\n",
       " 'Oatmeal brown sugar milk oatmeal',\n",
       " 'Oatmeal; almond Oatmeal',\n",
       " 'Strawberrys Strawberrys',\n",
       " 'Handful grape 1 banana Banana and grapes',\n",
       " 'Stewed chicken white rice salad Stewed chicken and rice',\n",
       " 'Lettuce; spinach; beets; tofu; chickpeas; broccoli; mushrooms; egg whites; avocado Salad',\n",
       " 'Bread 2 egg (double picture) Whole grain bread and egg',\n",
       " 'Almonds Almonds',\n",
       " 'White brown rice, chicken, eggs, sausage, peas, eggplant Fried rice and eggplant',\n",
       " 'Turkey, Parmesan cheese, asparagus, sweet potato Turkey meatballs, asparagus, sweet potatoes',\n",
       " 'Beef, veggies, barley Beef barley soup',\n",
       " 'Bread, egg spinach 2022-09-07 00:00:00',\n",
       " 'see Water with lemon, coffee with whole milk and stevia, GF Moxy bread, veggie mix, two boiled eggs, sheep cheese',\n",
       " 'Lettuce, broccoli, beets, pumpkin, egg whites, tomatoes, chickpeas, pumpkin seed Salad',\n",
       " 'Bananas! Banana',\n",
       " 'Nothing Kind Bar',\n",
       " 'Eggs potato blackberry Eggs potatoe blackberries',\n",
       " 'Chicken, carrots, string beans, rice Baked chicken',\n",
       " 'Peanuts dried cherry Peanuts and cherries',\n",
       " '2 egg load spinach, 1 purple plum, hot chocolate finally vitamin havent taken since April! P.s. Hii Betsy!! Eggs n spinach',\n",
       " 'Guac, med spice corn chip Guacamole...not the whole bowl',\n",
       " 'Whole wheat bagel orange Bagel and orange',\n",
       " 'See Homemade blackbean veggie burger w pickles, smoke cheddar cheese, fry sauce and a sesame bun',\n",
       " 'Grilled chicken, brown rice, tomato corn lettuce Halal',\n",
       " 'See Oatmeal (1/4 cup dried) w tbsp maple syrup, cinnamon, walnuts and dried cherries',\n",
       " 'Stew chicken, rice, green bean Chicken meal',\n",
       " 'Kind bar Kind bar',\n",
       " 'Grapes Grapes',\n",
       " 'Turkey meatballs, sweet potato brussel sprout Meatballs veggies',\n",
       " 'OrangEs Orange',\n",
       " 'Apple Apple',\n",
       " 'Apple Apple',\n",
       " 'Whole milk Coffee',\n",
       " 'Yogurt orange Yogurt frut',\n",
       " 'Bakee chicken, rice, black beans, carrots, broccoli, cauliflower School lunch',\n",
       " 'Quinoa, chicken, kale, almonds, tahini dressing Quinoa chicken kale salad',\n",
       " 'Arugula, red onion, radish lemon oil Salad...dinner, again',\n",
       " 'Rice, avocado, fake crab, tomatoes, zucchini, cauliflower, broccoli bean water California roll and minestrone soup',\n",
       " 'Soy, tapioca, sugar Nutrition double dark chocolate',\n",
       " 'Rice pea spinach-pineapple smoothie Fish and rice',\n",
       " 'Almonds, orange Almond and orange',\n",
       " 'Red Plum Plum',\n",
       " 'It grape bowl svc I pancake 1 egg also I ate I remembered :) Grapes',\n",
       " 'Corn, rice, flax buckwheat cereal Cereal',\n",
       " 'Skinless chicken, baked Brussel sprouts, brown rice risotto, cooked carrot radish Chicken, radishes, risotto, Brussel sprouts, carrots',\n",
       " 'Pumpkin soup cracker Pumpkin soup',\n",
       " 'Green tea peach flavored oatmeal Sick people food',\n",
       " 'Banana And blueberry Drink',\n",
       " 'Ketchup previously mentioned Egg, whole grain bread, sausage',\n",
       " '2 eggs, spinach, mushrooms, feta, potatoes, peppers, strawberries, kiwi, blueberry Florentine omelette and home fries And fruit',\n",
       " 'Wheat, spelt, barley quinoa cereal. Skim milk. Blackberries Cereal and blackberries',\n",
       " 'Blueberries Blueberries',\n",
       " 'Mango, strawberry, peach, pineapple Fruit smoothie',\n",
       " 'Chocolate Bar',\n",
       " 'Lettuce, romaine, strawberries,blackberries, cheese chicken Salad',\n",
       " 'Plain yogurt , honey, blueberry Yogurt',\n",
       " 'Whole wheat bread Whole wheat bread',\n",
       " 'Carrot, tomato, anchovies, feta, kalamata olives, cucumber, balsamic vinegar olive oil Salad',\n",
       " 'Organic Whole milk goat yogurt, organic whole milk, 1/4 cup blueberries, 1/4 cup walnuts, cinnamon, daily good green packet, tablespoon cacao powder, tablespoon flax meal...dopeness Smoothie',\n",
       " 'Fried breadfruit cheese Breadfruit',\n",
       " 'Apple Apple',\n",
       " 'Brown rice, spinach, yams, cannellini beans, broccoli miso lemon tahini sauce Rice bowl with veggies and beans',\n",
       " 'See Boiled eggs, arugula, org blackberries, goat cheese, gf millet oat flax bread, turmeric and black pepper',\n",
       " 'Grapes Grapes',\n",
       " 'Whole milk stevia Coffee',\n",
       " 'Kale, cranberries, almonds, tahini dressing. Salmon, avocado rice Salad and sushi',\n",
       " 'Almonds Almonds',\n",
       " 'Lettuce, tomato, feta, rice/leaf thing, cucumber, kalamata olive, green pepper Salad',\n",
       " 'Soymilk, espresso Small soy latte',\n",
       " 'Spinach, kale, carrots, mushrooms, kidney beans, chicken, 1 egg, mushrooms, broccoli, balsamic dressing Salad',\n",
       " 'Whole milk Latte',\n",
       " 'Frozen mango lil pineapple Mango smoothie']"
      ]
     },
     "execution_count": 43,
     "metadata": {},
     "output_type": "execute_result"
    }
   ],
   "source": [
    "document"
   ]
  },
  {
   "cell_type": "code",
   "execution_count": 44,
   "id": "c5fdc9bb",
   "metadata": {},
   "outputs": [],
   "source": [
    "data_X = np.squeeze(pd.DataFrame(df['ingredients_and_title']))\n",
    "data_y = np.squeeze(pd.DataFrame(df['expert_assessment']))"
   ]
  },
  {
   "cell_type": "code",
   "execution_count": 45,
   "id": "2fc54845",
   "metadata": {},
   "outputs": [],
   "source": [
    "X_train, X_test, y_train, y_test = train_test_split(data_X, data_y, test_size=0.2, shuffle = True)"
   ]
  },
  {
   "cell_type": "code",
   "execution_count": 46,
   "id": "6ae9e48a",
   "metadata": {
    "scrolled": true
   },
   "outputs": [
    {
     "name": "stdout",
     "output_type": "stream",
     "text": [
      "(121,) (31,)\n"
     ]
    }
   ],
   "source": [
    "print(X_train.shape, X_test.shape)"
   ]
  },
  {
   "cell_type": "code",
   "execution_count": 47,
   "id": "97d799ad",
   "metadata": {},
   "outputs": [],
   "source": [
    "train_accuracy = []\n",
    "test_accuracy = []\n",
    "for i in range(1000):\n",
    "    data_X = np.squeeze(pd.DataFrame(df['ingredients_and_title']))\n",
    "    data_y = np.squeeze(pd.DataFrame(df['expert_assessment']))\n",
    "    X_train, X_test, y_train, y_test = train_test_split(data_X, data_y, test_size=0.2, shuffle = True)\n",
    "    tfidf = TfidfVectorizer(max_features=100, lowercase=True, analyzer='word',\n",
    "                        stop_words= 'english',ngram_range=(1,3),dtype=np.float32)\n",
    "    train = tfidf.fit_transform(X_train)\n",
    "    test = tfidf.transform(X_test)\n",
    "    lr = LogisticRegression()\n",
    "    #scores = cross_val_score(lr, train, y_train, cv=3)\n",
    "    y_pred_train = cross_val_predict(lr, train, y_train, cv=3)\n",
    "    #y_pred_test = cross_val_predict(lr, test, y_test, cv=3)\n",
    "    lr.fit(train, y_train)\n",
    "    #y_pred_train = lr.predict(train)\n",
    "    y_pred_test = lr.predict(test)\n",
    "    train_accuracy.append(accuracy_score(y_train, y_pred_train))\n",
    "    test_accuracy.append(accuracy_score(y_test, y_pred_test))\n"
   ]
  },
  {
   "cell_type": "code",
   "execution_count": 48,
   "id": "9b4e9893",
   "metadata": {
    "scrolled": true
   },
   "outputs": [
    {
     "data": {
      "image/png": "[encoded data removed]",
      "text/plain": [
       "<Figure size 720x720 with 1 Axes>"
      ]
     },
     "metadata": {
      "needs_background": "light"
     },
     "output_type": "display_data"
    }
   ],
   "source": [
    "plt.figure(figsize=(10,10))  \n",
    "plt.hist(train_accuracy, bins = 25,\n",
    "             color = 'blue', edgecolor = 'black')\n",
    "plt.title('Train accuracy', size = 20)\n",
    "plt.xlabel('accuracy', size = 15)\n",
    "\n",
    "plt.show()"
   ]
  },
  {
   "cell_type": "code",
   "execution_count": 49,
   "id": "85bf3f8d",
   "metadata": {},
   "outputs": [
    {
     "name": "stdout",
     "output_type": "stream",
     "text": [
      "0.6871322314049587\n",
      "0.03817837539485476\n"
     ]
    }
   ],
   "source": [
    "print(np.mean(train_accuracy))\n",
    "print(np.std(train_accuracy))"
   ]
  },
  {
   "cell_type": "code",
   "execution_count": 50,
   "id": "61bff9f1",
   "metadata": {},
   "outputs": [
    {
     "data": {
      "image/png": "[encoded data removed]",
      "text/plain": [
       "<Figure size 720x720 with 1 Axes>"
      ]
     },
     "metadata": {
      "needs_background": "light"
     },
     "output_type": "display_data"
    }
   ],
   "source": [
    "plt.figure(figsize=(10,10))  \n",
    "plt.hist(test_accuracy, bins = 25,\n",
    "             color = 'blue', edgecolor = 'black')\n",
    "plt.title('test accuracy', size = 20)\n",
    "plt.xlabel('accuracy', size = 15)\n",
    "#plt.ylabel('Flights', size= 22)\n",
    "\n",
    "#plt.tight_layout()\n",
    "plt.show()"
   ]
  },
  {
   "cell_type": "code",
   "execution_count": 51,
   "id": "b6a0da4b",
   "metadata": {},
   "outputs": [
    {
     "name": "stdout",
     "output_type": "stream",
     "text": [
      "0.6813870967741936\n",
      "0.07915968003199578\n"
     ]
    }
   ],
   "source": [
    "print(np.mean(test_accuracy))\n",
    "print(np.std(test_accuracy))"
   ]
  },
  {
   "cell_type": "markdown",
   "id": "c082ced8",
   "metadata": {},
   "source": [
    "# Word2vec"
   ]
  },
  {
   "cell_type": "markdown",
   "id": "11098736",
   "metadata": {},
   "source": [
    "## ingredients"
   ]
  },
  {
   "cell_type": "code",
   "execution_count": 52,
   "id": "21ad60e1",
   "metadata": {},
   "outputs": [],
   "source": [
    "df['meal_ingredients'] = df['meal_ingredients'].apply(lambda x: preprocess_meals(x))"
   ]
  },
  {
   "cell_type": "code",
   "execution_count": 53,
   "id": "ed961eb1",
   "metadata": {},
   "outputs": [],
   "source": [
    "meal_ingredients = df.meal_ingredients.apply(gensim.utils.simple_preprocess)"
   ]
  },
  {
   "cell_type": "code",
   "execution_count": 54,
   "id": "9c9f5998",
   "metadata": {
    "scrolled": true
   },
   "outputs": [
    {
     "data": {
      "text/plain": [
       "0                       [egg, turkey, bacon, bread, tea]\n",
       "1                                   [raisin, bread, egg]\n",
       "2      [chicken, enchilada, cheese, sour, cream, rice...\n",
       "3      [muffin, bagel, cream, cheese, jelly, orange, ...\n",
       "4      [kraft, deluxe, mac, cheese, and, mussels, but...\n",
       "                             ...                        \n",
       "147    [lettuce, tomato, feta, rice, leaf, thing, cuc...\n",
       "148                                  [soymilk, espresso]\n",
       "149    [spinach, kale, carrots, mushrooms, kidney, be...\n",
       "150                                        [whole, milk]\n",
       "151                      [frozen, mango, lil, pineapple]\n",
       "Name: meal_ingredients, Length: 152, dtype: object"
      ]
     },
     "execution_count": 54,
     "metadata": {},
     "output_type": "execute_result"
    }
   ],
   "source": [
    "meal_ingredients"
   ]
  },
  {
   "cell_type": "code",
   "execution_count": 55,
   "id": "f1721dbb",
   "metadata": {},
   "outputs": [],
   "source": [
    "embeddings = gensim.models.Word2Vec(\n",
    "        window = 1,\n",
    "        min_count = 1,\n",
    "        workers = 1)\n",
    "\n",
    "embeddings.build_vocab(meal_ingredients, progress_per = 100)\n",
    "\n",
    "embeddings.train(meal_ingredients, total_examples = embeddings.corpus_count, epochs = 5)\n",
    "learned_words_meal_ingredients = embeddings.wv.index_to_key"
   ]
  },
  {
   "cell_type": "code",
   "execution_count": 56,
   "id": "26d700e6",
   "metadata": {},
   "outputs": [
    {
     "data": {
      "text/plain": [
       "['chicken',\n",
       " 'rice',\n",
       " 'cheese',\n",
       " 'bread',\n",
       " 'egg',\n",
       " 'corn',\n",
       " 'sauce',\n",
       " 'milk',\n",
       " 'beans',\n",
       " 'lettuce',\n",
       " 'white',\n",
       " 'spinach',\n",
       " 'whole',\n",
       " 'potato',\n",
       " 'turkey',\n",
       " 'tea',\n",
       " 'tomato',\n",
       " 'eggs',\n",
       " 'broccoli',\n",
       " 'brown',\n",
       " 'fried',\n",
       " 'orange',\n",
       " 'wheat',\n",
       " 'almonds',\n",
       " 'pasta',\n",
       " 'mushrooms',\n",
       " 'green',\n",
       " 'yogurt',\n",
       " 'water',\n",
       " 'carrots',\n",
       " 'apple',\n",
       " 'potatoes',\n",
       " 'bacon',\n",
       " 'beef',\n",
       " 'carrot',\n",
       " 'oatmeal',\n",
       " 'peach',\n",
       " 'pancake',\n",
       " 'strawberry',\n",
       " 'see',\n",
       " 'meat',\n",
       " 'sugar',\n",
       " 'chocolate',\n",
       " 'butter',\n",
       " 'pineapple',\n",
       " 'and',\n",
       " 'oil',\n",
       " 'kale',\n",
       " 'codfish',\n",
       " 'olive',\n",
       " 'honey',\n",
       " 'cheddar',\n",
       " 'syrup',\n",
       " 'fat',\n",
       " 'grilled',\n",
       " 'tortilla',\n",
       " 'juice',\n",
       " 'dressing',\n",
       " 'pepper',\n",
       " 'pumpkin',\n",
       " 'sausage',\n",
       " 'stew',\n",
       " 'bagel',\n",
       " 'salad',\n",
       " 'cream',\n",
       " 'raisin',\n",
       " 'barley',\n",
       " 'feta',\n",
       " 'tahini',\n",
       " 'avocado',\n",
       " 'string',\n",
       " 'blueberry',\n",
       " 'alfredo',\n",
       " 'beets',\n",
       " 'bun',\n",
       " 'grapes',\n",
       " 'fry',\n",
       " 'banana',\n",
       " 'sweet',\n",
       " 'bean',\n",
       " 'pea',\n",
       " 'chickpeas',\n",
       " 'bbq',\n",
       " 'smoothie',\n",
       " 'handful',\n",
       " 'macaroni',\n",
       " 'skim',\n",
       " 'grape',\n",
       " 'onion',\n",
       " 'pastry',\n",
       " 'guava',\n",
       " 'olives',\n",
       " 'almond',\n",
       " 'kidney',\n",
       " 'whites',\n",
       " 'hot',\n",
       " 'fruit',\n",
       " 'seed',\n",
       " 'tomatoes',\n",
       " 'cauliflower',\n",
       " 'mustard',\n",
       " 'garlic',\n",
       " 'plum',\n",
       " 'cinnamon',\n",
       " 'strawberries',\n",
       " 'mashed',\n",
       " 'blackberries',\n",
       " 'blueberries',\n",
       " 'mango',\n",
       " 'kalamata',\n",
       " 'cereal',\n",
       " 'cucumber',\n",
       " 'balsamic',\n",
       " 'organic',\n",
       " 'cup',\n",
       " 'tablespoon',\n",
       " 'jelly',\n",
       " 'ham',\n",
       " 'cob',\n",
       " 'homemade',\n",
       " 'flax',\n",
       " 'quinoa',\n",
       " 'zucchini',\n",
       " 'waffle',\n",
       " 'salt',\n",
       " 'spaghetti',\n",
       " 'free',\n",
       " 'brussel',\n",
       " 'tofu',\n",
       " 'slice',\n",
       " 'batter',\n",
       " 'red',\n",
       " 'radish',\n",
       " 'lemon',\n",
       " 'parmesan',\n",
       " 'eggplant',\n",
       " 'steak',\n",
       " 'duck',\n",
       " 'pinot',\n",
       " 'blue',\n",
       " 'noir',\n",
       " 'üçö',\n",
       " 'hazelnut',\n",
       " 'pineapples',\n",
       " 'roll',\n",
       " 'salami',\n",
       " 'soft',\n",
       " 'grain',\n",
       " 'shoot',\n",
       " 'irish',\n",
       " 'fair',\n",
       " 'seasoning',\n",
       " 'saltfish',\n",
       " 'noddle',\n",
       " 'cheeses',\n",
       " 'iced',\n",
       " 'plantain',\n",
       " 'curry',\n",
       " 'bamboo',\n",
       " 'mussels',\n",
       " 'mac',\n",
       " 'deluxe',\n",
       " 'kraft',\n",
       " 'muffin',\n",
       " 'sour',\n",
       " 'enchilada',\n",
       " 'amount',\n",
       " 'bottom',\n",
       " 'hungry',\n",
       " 'jack',\n",
       " 'shiitake',\n",
       " 'chili',\n",
       " 'sesame',\n",
       " 'noodles',\n",
       " 'cocoa',\n",
       " 'dog',\n",
       " 'coffee',\n",
       " 'hummus',\n",
       " 'pita',\n",
       " 'chick',\n",
       " 'onions',\n",
       " 'bismati',\n",
       " 'biscuit',\n",
       " 'thigh',\n",
       " 'oats',\n",
       " 'mayonnaise',\n",
       " 'lil',\n",
       " 'madhed',\n",
       " 'crab',\n",
       " 'cooked',\n",
       " 'risotto',\n",
       " 'sprouts',\n",
       " 'baked',\n",
       " 'skinless',\n",
       " 'buckwheat',\n",
       " 'remembered',\n",
       " 'ate',\n",
       " 'also',\n",
       " 'svc',\n",
       " 'bowl',\n",
       " 'it',\n",
       " 'tapioca',\n",
       " 'soy',\n",
       " 'fake',\n",
       " 'grit',\n",
       " 'arugula',\n",
       " 'black',\n",
       " 'bakee',\n",
       " 'oranges',\n",
       " 'sprout',\n",
       " 'meatballs',\n",
       " 'bar',\n",
       " 'kind',\n",
       " 'chip',\n",
       " 'spice',\n",
       " 'med',\n",
       " 'guac',\n",
       " 'betsy',\n",
       " 'hii',\n",
       " 'soup',\n",
       " 'cracker',\n",
       " 'flavored',\n",
       " 'ketchup',\n",
       " 'espresso',\n",
       " 'soymilk',\n",
       " 'thing',\n",
       " 'leaf',\n",
       " 'salmon',\n",
       " 'cranberries',\n",
       " 'stevia',\n",
       " 'miso',\n",
       " 'cannellini',\n",
       " 'yams',\n",
       " 'breadfruit',\n",
       " 'dopeness',\n",
       " 'meal',\n",
       " 'powder',\n",
       " 'cacao',\n",
       " 'packet',\n",
       " 'good',\n",
       " 'daily',\n",
       " 'walnuts',\n",
       " 'goat',\n",
       " 'vinegar',\n",
       " 'anchovies',\n",
       " 'plain',\n",
       " 'romaine',\n",
       " 'spelt',\n",
       " 'kiwi',\n",
       " 'peppers',\n",
       " 'mentioned',\n",
       " 'previously',\n",
       " 'april',\n",
       " 'since',\n",
       " 'taken',\n",
       " 'flour',\n",
       " 'coleslaw',\n",
       " 'street',\n",
       " 'small',\n",
       " 'fries',\n",
       " 'whiting',\n",
       " 'shrimp',\n",
       " 'french',\n",
       " 'grey',\n",
       " 'earl',\n",
       " 'reduced',\n",
       " 'oj',\n",
       " 'noodle',\n",
       " 'sandwich',\n",
       " 'frozen',\n",
       " 'pork',\n",
       " 'toast',\n",
       " 'fish',\n",
       " 'mixture',\n",
       " 'dipped',\n",
       " 'beer',\n",
       " 'tomatoe',\n",
       " 'half',\n",
       " 'patty',\n",
       " 'oz',\n",
       " 'mayo',\n",
       " 'shoes',\n",
       " 'food',\n",
       " 'delicious',\n",
       " 'gelato',\n",
       " 'soursop',\n",
       " 'salsa',\n",
       " 'havent',\n",
       " 'pinto',\n",
       " 'vitamin',\n",
       " 'finally',\n",
       " 'purple',\n",
       " 'load',\n",
       " 'cherry',\n",
       " 'dried',\n",
       " 'peanuts',\n",
       " 'blackberry',\n",
       " 'nothing',\n",
       " 'bananas',\n",
       " 'veggies',\n",
       " 'asparagus',\n",
       " 'peas',\n",
       " 'picture',\n",
       " 'double',\n",
       " 'stewed',\n",
       " 'strawberrys',\n",
       " 'healthy',\n",
       " 'different',\n",
       " 'multigrain',\n",
       " 'filling',\n",
       " 'puff',\n",
       " 'pepperoni',\n",
       " 'panini',\n",
       " 'chickenchicken',\n",
       " 'croissant',\n",
       " 'pie',\n",
       " 'test',\n",
       " 'meatball',\n",
       " 'frieds']"
      ]
     },
     "execution_count": 56,
     "metadata": {},
     "output_type": "execute_result"
    }
   ],
   "source": [
    "learned_words_meal_ingredients"
   ]
  },
  {
   "cell_type": "code",
   "execution_count": 57,
   "id": "fc24898b",
   "metadata": {},
   "outputs": [],
   "source": [
    "words = []\n",
    "for i in meal_ingredients:\n",
    "    temp = []\n",
    "    for j in i:\n",
    "        if j in learned_words_meal_ingredients:\n",
    "            temp.append(j)\n",
    "        else:\n",
    "            print(i)\n",
    "    words.append(temp)"
   ]
  },
  {
   "cell_type": "code",
   "execution_count": 58,
   "id": "b054d152",
   "metadata": {},
   "outputs": [],
   "source": [
    "l = []\n",
    "eg = 0\n",
    "for i in range(len(words)):\n",
    "        if len(words[i])>=1:\n",
    "            a = np.mean(embeddings.wv[words[i]], axis=0)\n",
    "            l.append(a)\n",
    "        else:\n",
    "            l.append(np.asarray(100 * [0]))"
   ]
  },
  {
   "cell_type": "code",
   "execution_count": 59,
   "id": "8eccb51f",
   "metadata": {
    "scrolled": true
   },
   "outputs": [
    {
     "data": {
      "text/plain": [
       "(152,)"
      ]
     },
     "execution_count": 59,
     "metadata": {},
     "output_type": "execute_result"
    }
   ],
   "source": [
    "data_y = np.squeeze(data_y)\n",
    "data_y.shape"
   ]
  },
  {
   "cell_type": "code",
   "execution_count": 60,
   "id": "cceeacec",
   "metadata": {},
   "outputs": [
    {
     "data": {
      "text/plain": [
       "(152, 100)"
      ]
     },
     "execution_count": 60,
     "metadata": {},
     "output_type": "execute_result"
    }
   ],
   "source": [
    "data_X = pd.DataFrame(l)\n",
    "data_X.shape"
   ]
  },
  {
   "cell_type": "code",
   "execution_count": 61,
   "id": "c99db406",
   "metadata": {},
   "outputs": [],
   "source": [
    "train_accuracy = []\n",
    "test_accuracy = []\n",
    "for i in range(1000):\n",
    "    X_train, X_test, y_train, y_test = train_test_split(data_X, data_y, test_size=0.2, shuffle = True)\n",
    "#     tfidf = TfidfVectorizer(max_features=100, lowercase=True, analyzer='word',\n",
    "#                         stop_words= 'english',ngram_range=(1,3),dtype=np.float32)\n",
    "#     train = tfidf.fit_transform(X_train)\n",
    "#     test = tfidf.transform(X_test)\n",
    "    lr = LogisticRegression()\n",
    "    #scores = cross_val_score(lr, train, y_train, cv=3)\n",
    "    y_pred_train = cross_val_predict(lr, X_train, y_train, cv=3)\n",
    "    #y_pred_test = cross_val_predict(lr, test, y_test, cv=3)\n",
    "    lr.fit(X_train, y_train)\n",
    "    #y_pred_train = lr.predict(train)\n",
    "    y_pred_test = lr.predict(X_test)\n",
    "    train_accuracy.append(accuracy_score(y_train, y_pred_train))\n",
    "    test_accuracy.append(accuracy_score(y_test, y_pred_test))"
   ]
  },
  {
   "cell_type": "code",
   "execution_count": 62,
   "id": "9b4e9893",
   "metadata": {
    "scrolled": true
   },
   "outputs": [
    {
     "data": {
      "image/png": "[encoded data removed]",
      "text/plain": [
       "<Figure size 720x720 with 1 Axes>"
      ]
     },
     "metadata": {
      "needs_background": "light"
     },
     "output_type": "display_data"
    }
   ],
   "source": [
    "plt.figure(figsize=(10,10))  \n",
    "plt.hist(train_accuracy, bins = 25,\n",
    "             color = 'blue', edgecolor = 'black')\n",
    "plt.title('Train accuracy', size = 20)\n",
    "plt.xlabel('accuracy', size = 15)\n",
    "\n",
    "plt.show()"
   ]
  },
  {
   "cell_type": "code",
   "execution_count": 63,
   "id": "22159bdb",
   "metadata": {},
   "outputs": [
    {
     "name": "stdout",
     "output_type": "stream",
     "text": [
      "0.5290247933884298\n",
      "0.016855971109316494\n"
     ]
    }
   ],
   "source": [
    "print(np.mean(train_accuracy))\n",
    "print(np.std(train_accuracy))"
   ]
  },
  {
   "cell_type": "code",
   "execution_count": 64,
   "id": "61bff9f1",
   "metadata": {},
   "outputs": [
    {
     "data": {
      "image/png": "[encoded data removed]",
      "text/plain": [
       "<Figure size 720x720 with 1 Axes>"
      ]
     },
     "metadata": {
      "needs_background": "light"
     },
     "output_type": "display_data"
    }
   ],
   "source": [
    "plt.figure(figsize=(10,10))  \n",
    "plt.hist(test_accuracy, bins = 25,\n",
    "             color = 'blue', edgecolor = 'black')\n",
    "plt.title('test accuracy', size = 20)\n",
    "plt.xlabel('accuracy', size = 15)\n",
    "#plt.ylabel('Flights', size= 22)\n",
    "\n",
    "#plt.tight_layout()\n",
    "plt.show()"
   ]
  },
  {
   "cell_type": "code",
   "execution_count": 65,
   "id": "6a5a41cf",
   "metadata": {},
   "outputs": [
    {
     "name": "stdout",
     "output_type": "stream",
     "text": [
      "0.4719677419354838\n",
      "0.07765313493507224\n"
     ]
    }
   ],
   "source": [
    "print(np.mean(test_accuracy))\n",
    "print(np.std(test_accuracy))"
   ]
  },
  {
   "cell_type": "markdown",
   "id": "77617c7c",
   "metadata": {},
   "source": [
    "## title"
   ]
  },
  {
   "cell_type": "code",
   "execution_count": 66,
   "id": "7428b36b",
   "metadata": {},
   "outputs": [
    {
     "data": {
      "text/plain": [
       "0"
      ]
     },
     "execution_count": 66,
     "metadata": {},
     "output_type": "execute_result"
    }
   ],
   "source": [
    "df['meal_title'].isnull().sum()"
   ]
  },
  {
   "cell_type": "code",
   "execution_count": 67,
   "id": "af0d1e37",
   "metadata": {},
   "outputs": [],
   "source": [
    "df['meal_title'] = df['meal_title'].astype(str)"
   ]
  },
  {
   "cell_type": "code",
   "execution_count": 68,
   "id": "21ce221e",
   "metadata": {},
   "outputs": [],
   "source": [
    "df = df.dropna(axis=0, subset=['meal_title'])"
   ]
  },
  {
   "cell_type": "code",
   "execution_count": 69,
   "id": "80ff64e6",
   "metadata": {},
   "outputs": [
    {
     "data": {
      "text/plain": [
       "0"
      ]
     },
     "execution_count": 69,
     "metadata": {},
     "output_type": "execute_result"
    }
   ],
   "source": [
    "df['meal_title'].isnull().sum()"
   ]
  },
  {
   "cell_type": "code",
   "execution_count": 70,
   "id": "04559171",
   "metadata": {},
   "outputs": [],
   "source": [
    "meal_title = df.meal_title.apply(gensim.utils.simple_preprocess)"
   ]
  },
  {
   "cell_type": "code",
   "execution_count": 71,
   "id": "7aa61040",
   "metadata": {
    "scrolled": true
   },
   "outputs": [
    {
     "data": {
      "text/plain": [
       "0            [american, breakfast]\n",
       "1               [bread, and, eggs]\n",
       "2                  [lean, cuisine]\n",
       "3                 [morning, snack]\n",
       "4      [mac, cheese, and, mussels]\n",
       "                  ...             \n",
       "147                        [salad]\n",
       "148            [small, soy, latte]\n",
       "149                        [salad]\n",
       "150                        [latte]\n",
       "151              [mango, smoothie]\n",
       "Name: meal_title, Length: 152, dtype: object"
      ]
     },
     "execution_count": 71,
     "metadata": {},
     "output_type": "execute_result"
    }
   ],
   "source": [
    "meal_title"
   ]
  },
  {
   "cell_type": "code",
   "execution_count": 72,
   "id": "033d120e",
   "metadata": {},
   "outputs": [],
   "source": [
    "embeddings = gensim.models.Word2Vec(\n",
    "        window = 1,\n",
    "        min_count = 1,\n",
    "        workers = 1)\n",
    "\n",
    "embeddings.build_vocab(meal_title, progress_per = 100)\n",
    "\n",
    "embeddings.train(meal_title, total_examples = embeddings.corpus_count, epochs = 5)\n",
    "learned_words_meal_title = embeddings.wv.index_to_key"
   ]
  },
  {
   "cell_type": "code",
   "execution_count": 73,
   "id": "a66f1a47",
   "metadata": {},
   "outputs": [
    {
     "data": {
      "text/plain": [
       "['and',\n",
       " 'chicken',\n",
       " 'eggs',\n",
       " 'bread',\n",
       " 'salad',\n",
       " 'rice',\n",
       " 'with',\n",
       " 'fries',\n",
       " 'cheese',\n",
       " 'sandwich',\n",
       " 'food',\n",
       " 'whole',\n",
       " 'grapes',\n",
       " 'fish',\n",
       " 'smoothie',\n",
       " 'coffee',\n",
       " 'turkey',\n",
       " 'yogurt',\n",
       " 'egg',\n",
       " 'veggies',\n",
       " 'water',\n",
       " 'spaghetti',\n",
       " 'soup',\n",
       " 'beef',\n",
       " 'oatmeal',\n",
       " 'apple',\n",
       " 'american',\n",
       " 'blackberries',\n",
       " 'saltfish',\n",
       " 'bar',\n",
       " 'meatballs',\n",
       " 'bacon',\n",
       " 'alfredo',\n",
       " 'cheeseburger',\n",
       " 'pancake',\n",
       " 'orange',\n",
       " 'breakfast',\n",
       " 'cherries',\n",
       " 'kind',\n",
       " 'bbq',\n",
       " 'bowl',\n",
       " 'pizza',\n",
       " 'boiled',\n",
       " 'banana',\n",
       " 'veggie',\n",
       " 'latte',\n",
       " 'sausage',\n",
       " 'fried',\n",
       " 'sweet',\n",
       " 'pasta',\n",
       " 'baked',\n",
       " 'spinach',\n",
       " 'grilled',\n",
       " 'cake',\n",
       " 'panera',\n",
       " 'grain',\n",
       " 'almonds',\n",
       " 'chocolate',\n",
       " 'dinner',\n",
       " 'gf',\n",
       " 'sauce',\n",
       " 'french',\n",
       " 'steak',\n",
       " 'potatoes',\n",
       " 'cereal',\n",
       " 'chips',\n",
       " 'eggplant',\n",
       " 'fruit',\n",
       " 'halal',\n",
       " 'toast',\n",
       " 'dried',\n",
       " 'sesame',\n",
       " 'snack',\n",
       " 'lean',\n",
       " 'cream',\n",
       " 'same',\n",
       " 'as',\n",
       " 'tomato',\n",
       " 'other',\n",
       " 'plate',\n",
       " 'spanish',\n",
       " 'cornbread',\n",
       " 'shoes',\n",
       " 'jr',\n",
       " 'mac',\n",
       " 'basil',\n",
       " 'thai',\n",
       " 'juice',\n",
       " 'on',\n",
       " 'midnight',\n",
       " 'cuisine',\n",
       " 'cranberry',\n",
       " 'morning',\n",
       " 'ziti',\n",
       " 'mussels',\n",
       " 'wrap',\n",
       " 'pirates',\n",
       " 'gelato',\n",
       " 'soda',\n",
       " 'noodles',\n",
       " 'samosa',\n",
       " 'curry',\n",
       " 'souse',\n",
       " 'pineapples',\n",
       " 'codfish',\n",
       " 'arepa',\n",
       " 'dog',\n",
       " 'hot',\n",
       " 'southern',\n",
       " 'empanadas',\n",
       " 'oats',\n",
       " 'vegetables',\n",
       " 'of',\n",
       " 'bunches',\n",
       " 'honey',\n",
       " 'continued',\n",
       " 'pancakes',\n",
       " 'waffles',\n",
       " 'italian',\n",
       " 'buffet',\n",
       " 'tortilla',\n",
       " 'booty',\n",
       " 'vanilla',\n",
       " 'stew',\n",
       " 'mango',\n",
       " 'beer',\n",
       " 'nutrition',\n",
       " 'carrots',\n",
       " 'sprouts',\n",
       " 'brussel',\n",
       " 'risotto',\n",
       " 'radishes',\n",
       " 'plum',\n",
       " 'almond',\n",
       " 'dark',\n",
       " 'double',\n",
       " 'minestrone',\n",
       " 'cinnamon',\n",
       " 'roll',\n",
       " 'california',\n",
       " 'again',\n",
       " 'kale',\n",
       " 'quinoa',\n",
       " 'lunch',\n",
       " 'school',\n",
       " 'frut',\n",
       " 'meal',\n",
       " 'pumpkin',\n",
       " 'sick',\n",
       " 'people',\n",
       " 'drink',\n",
       " 'soy',\n",
       " 'small',\n",
       " 'sushi',\n",
       " 'pepper',\n",
       " 'black',\n",
       " 'turmeric',\n",
       " 'flax',\n",
       " 'oat',\n",
       " 'millet',\n",
       " 'goat',\n",
       " 'org',\n",
       " 'arugula',\n",
       " 'beans',\n",
       " 'breadfruit',\n",
       " 'wheat',\n",
       " 'blueberries',\n",
       " 'home',\n",
       " 'omelette',\n",
       " 'florentine',\n",
       " 'walnuts',\n",
       " 'syrup',\n",
       " 'eggsand',\n",
       " 'test',\n",
       " 'barley',\n",
       " 'asparagus',\n",
       " 'stewed',\n",
       " 'strawberrys',\n",
       " 'pepperoni',\n",
       " 'puffs',\n",
       " 'guava',\n",
       " 'frontega',\n",
       " 'macaroni',\n",
       " 'burrito',\n",
       " 'maple',\n",
       " 'chipotle',\n",
       " 'pollo',\n",
       " 'arroz',\n",
       " 'bagels',\n",
       " 'whiting',\n",
       " 'shrimp',\n",
       " 'potato',\n",
       " 'ham',\n",
       " 'pork',\n",
       " 'lemon',\n",
       " 'milk',\n",
       " 'stevia',\n",
       " 'moxy',\n",
       " 'tbsp',\n",
       " 'cup',\n",
       " 'bun',\n",
       " 'fry',\n",
       " 'cheddar',\n",
       " 'smoke',\n",
       " 'pickles',\n",
       " 'burger',\n",
       " 'blackbean',\n",
       " 'homemade',\n",
       " 'bagel',\n",
       " 'the',\n",
       " 'not',\n",
       " 'guacamole',\n",
       " 'peanuts',\n",
       " 'potatoe',\n",
       " 'sheep',\n",
       " 'two',\n",
       " 'mix',\n",
       " 'con']"
      ]
     },
     "execution_count": 73,
     "metadata": {},
     "output_type": "execute_result"
    }
   ],
   "source": [
    "learned_words_meal_title"
   ]
  },
  {
   "cell_type": "code",
   "execution_count": 74,
   "id": "8c4df476",
   "metadata": {},
   "outputs": [],
   "source": [
    "words = []\n",
    "for i in meal_title:\n",
    "    temp = []\n",
    "    for j in i:\n",
    "        if j in learned_words_meal_title:\n",
    "            temp.append(j)\n",
    "        else:\n",
    "            print(i)\n",
    "    words.append(temp)"
   ]
  },
  {
   "cell_type": "code",
   "execution_count": 75,
   "id": "79a1ceda",
   "metadata": {},
   "outputs": [],
   "source": [
    "l = []\n",
    "for i in range(len(words)):\n",
    "        if len(words[i])>=1:\n",
    "            a = np.mean(embeddings.wv[words[i]], axis=0)\n",
    "            l.append(a)\n",
    "        else:\n",
    "            l.append(np.asarray(100 * [0]))"
   ]
  },
  {
   "cell_type": "code",
   "execution_count": 76,
   "id": "e2d28009",
   "metadata": {
    "scrolled": true
   },
   "outputs": [
    {
     "data": {
      "text/plain": [
       "(152,)"
      ]
     },
     "execution_count": 76,
     "metadata": {},
     "output_type": "execute_result"
    }
   ],
   "source": [
    "data_y = np.squeeze(data_y)\n",
    "data_y.shape"
   ]
  },
  {
   "cell_type": "code",
   "execution_count": 77,
   "id": "ca14a5e3",
   "metadata": {},
   "outputs": [
    {
     "data": {
      "text/plain": [
       "(152, 100)"
      ]
     },
     "execution_count": 77,
     "metadata": {},
     "output_type": "execute_result"
    }
   ],
   "source": [
    "data_X = pd.DataFrame(l)\n",
    "data_X.shape"
   ]
  },
  {
   "cell_type": "code",
   "execution_count": 78,
   "id": "ae08dd98",
   "metadata": {},
   "outputs": [],
   "source": [
    "train_accuracy = []\n",
    "test_accuracy = []\n",
    "for i in range(1000):\n",
    "    X_train, X_test, y_train, y_test = train_test_split(data_X, data_y, test_size=0.2, shuffle = True)\n",
    "#     tfidf = TfidfVectorizer(max_features=100, lowercase=True, analyzer='word',\n",
    "#                         stop_words= 'english',ngram_range=(1,3),dtype=np.float32)\n",
    "#     train = tfidf.fit_transform(X_train)\n",
    "#     test = tfidf.transform(X_test)\n",
    "    lr = LogisticRegression()\n",
    "    #scores = cross_val_score(lr, train, y_train, cv=3)\n",
    "    y_pred_train = cross_val_predict(lr, X_train, y_train, cv=3)\n",
    "    #y_pred_test = cross_val_predict(lr, test, y_test, cv=3)\n",
    "    lr.fit(X_train, y_train)\n",
    "    #y_pred_train = lr.predict(train)\n",
    "    y_pred_test = lr.predict(X_test)\n",
    "    train_accuracy.append(accuracy_score(y_train, y_pred_train))\n",
    "    test_accuracy.append(accuracy_score(y_test, y_pred_test))"
   ]
  },
  {
   "cell_type": "code",
   "execution_count": 79,
   "id": "9b4e9893",
   "metadata": {
    "scrolled": true
   },
   "outputs": [
    {
     "data": {
      "image/png": "[encoded data removed]",
      "text/plain": [
       "<Figure size 720x720 with 1 Axes>"
      ]
     },
     "metadata": {
      "needs_background": "light"
     },
     "output_type": "display_data"
    }
   ],
   "source": [
    "plt.figure(figsize=(10,10))  \n",
    "plt.hist(train_accuracy, bins = 25,\n",
    "             color = 'blue', edgecolor = 'black')\n",
    "plt.title('Train accuracy', size = 20)\n",
    "plt.xlabel('accuracy', size = 15)\n",
    "\n",
    "plt.show()"
   ]
  },
  {
   "cell_type": "code",
   "execution_count": 80,
   "id": "133ee6da",
   "metadata": {},
   "outputs": [
    {
     "name": "stdout",
     "output_type": "stream",
     "text": [
      "0.5312396694214876\n",
      "0.017716818663280717\n"
     ]
    }
   ],
   "source": [
    "print(np.mean(train_accuracy))\n",
    "print(np.std(train_accuracy))"
   ]
  },
  {
   "cell_type": "code",
   "execution_count": 81,
   "id": "61bff9f1",
   "metadata": {},
   "outputs": [
    {
     "data": {
      "image/png": "[encoded data removed]",
      "text/plain": [
       "<Figure size 720x720 with 1 Axes>"
      ]
     },
     "metadata": {
      "needs_background": "light"
     },
     "output_type": "display_data"
    }
   ],
   "source": [
    "plt.figure(figsize=(10,10))  \n",
    "plt.hist(test_accuracy, bins = 25,\n",
    "             color = 'blue', edgecolor = 'black')\n",
    "plt.title('test accuracy', size = 20)\n",
    "plt.xlabel('accuracy', size = 15)\n",
    "#plt.ylabel('Flights', size= 22)\n",
    "\n",
    "#plt.tight_layout()\n",
    "plt.show()"
   ]
  },
  {
   "cell_type": "code",
   "execution_count": 82,
   "id": "edf00c34",
   "metadata": {},
   "outputs": [
    {
     "name": "stdout",
     "output_type": "stream",
     "text": [
      "0.47145161290322574\n",
      "0.07858514076869619\n"
     ]
    }
   ],
   "source": [
    "print(np.mean(test_accuracy))\n",
    "print(np.std(test_accuracy))"
   ]
  },
  {
   "cell_type": "markdown",
   "id": "6114fa2a",
   "metadata": {},
   "source": [
    "## ingredients_and_title"
   ]
  },
  {
   "cell_type": "code",
   "execution_count": 83,
   "id": "cbe4e483",
   "metadata": {},
   "outputs": [],
   "source": [
    "df['ingredients_and_title'] = df['meal_ingredients'].astype(str) +' '+ df['meal_title'].astype(str)"
   ]
  },
  {
   "cell_type": "code",
   "execution_count": 84,
   "id": "0d89d8d5",
   "metadata": {},
   "outputs": [
    {
     "data": {
      "text/plain": [
       "0       Egg, turkey bacon, bread, tea American breakfast\n",
       "1                      Raisin Bread 2 egg Bread and eggs\n",
       "2      Chicken enchilada, cheese, sour cream, rice, c...\n",
       "3      Muffin bagel cream cheese jelly orange apple M...\n",
       "4      Kraft deluxe Mac n cheese and. Mussels butter ...\n",
       "                             ...                        \n",
       "147    Lettuce, tomato, feta, rice/leaf thing, cucumb...\n",
       "148                    Soymilk, espresso Small soy latte\n",
       "149    Spinach, kale, carrots, mushrooms, kidney bean...\n",
       "150                                     Whole milk Latte\n",
       "151            Frozen mango lil pineapple Mango smoothie\n",
       "Name: ingredients_and_title, Length: 152, dtype: object"
      ]
     },
     "execution_count": 84,
     "metadata": {},
     "output_type": "execute_result"
    }
   ],
   "source": [
    "df['ingredients_and_title']"
   ]
  },
  {
   "cell_type": "code",
   "execution_count": 85,
   "id": "2ba5e800",
   "metadata": {},
   "outputs": [],
   "source": [
    "meal_ingredients_title = df.ingredients_and_title.apply(gensim.utils.simple_preprocess)"
   ]
  },
  {
   "cell_type": "code",
   "execution_count": 86,
   "id": "c2430807",
   "metadata": {
    "scrolled": true
   },
   "outputs": [
    {
     "data": {
      "text/plain": [
       "0      [egg, turkey, bacon, bread, tea, american, bre...\n",
       "1                 [raisin, bread, egg, bread, and, eggs]\n",
       "2      [chicken, enchilada, cheese, sour, cream, rice...\n",
       "3      [muffin, bagel, cream, cheese, jelly, orange, ...\n",
       "4      [kraft, deluxe, mac, cheese, and, mussels, but...\n",
       "                             ...                        \n",
       "147    [lettuce, tomato, feta, rice, leaf, thing, cuc...\n",
       "148               [soymilk, espresso, small, soy, latte]\n",
       "149    [spinach, kale, carrots, mushrooms, kidney, be...\n",
       "150                                 [whole, milk, latte]\n",
       "151     [frozen, mango, lil, pineapple, mango, smoothie]\n",
       "Name: ingredients_and_title, Length: 152, dtype: object"
      ]
     },
     "execution_count": 86,
     "metadata": {},
     "output_type": "execute_result"
    }
   ],
   "source": [
    "meal_ingredients_title"
   ]
  },
  {
   "cell_type": "code",
   "execution_count": 87,
   "id": "e3e653a0",
   "metadata": {},
   "outputs": [],
   "source": [
    "embeddings = gensim.models.Word2Vec(\n",
    "        window = 1,\n",
    "        min_count = 1,\n",
    "        workers = 1)\n",
    "\n",
    "embeddings.build_vocab(meal_ingredients_title, progress_per = 100)\n",
    "\n",
    "embeddings.train(meal_ingredients_title, total_examples = embeddings.corpus_count, epochs = 5)\n",
    "learned_words_meal_ingredients_title = embeddings.wv.index_to_key"
   ]
  },
  {
   "cell_type": "code",
   "execution_count": 88,
   "id": "f6de6d8c",
   "metadata": {},
   "outputs": [
    {
     "data": {
      "text/plain": [
       "['chicken',\n",
       " 'and',\n",
       " 'rice',\n",
       " 'bread',\n",
       " 'cheese',\n",
       " 'egg',\n",
       " 'eggs',\n",
       " 'sauce',\n",
       " 'whole',\n",
       " 'turkey',\n",
       " 'corn',\n",
       " 'salad',\n",
       " 'milk',\n",
       " 'beans',\n",
       " 'spinach',\n",
       " 'potato',\n",
       " 'lettuce',\n",
       " 'yogurt',\n",
       " 'tomato',\n",
       " 'white',\n",
       " 'orange',\n",
       " 'water',\n",
       " 'apple',\n",
       " 'grapes',\n",
       " 'fried',\n",
       " 'tea',\n",
       " 'bacon',\n",
       " 'broccoli',\n",
       " 'pasta',\n",
       " 'fries',\n",
       " 'wheat',\n",
       " 'beef',\n",
       " 'with',\n",
       " 'oatmeal',\n",
       " 'almonds',\n",
       " 'pancake',\n",
       " 'potatoes',\n",
       " 'alfredo',\n",
       " 'brown',\n",
       " 'fish',\n",
       " 'food',\n",
       " 'chocolate',\n",
       " 'sandwich',\n",
       " 'smoothie',\n",
       " 'carrots',\n",
       " 'spaghetti',\n",
       " 'mushrooms',\n",
       " 'sweet',\n",
       " 'banana',\n",
       " 'green',\n",
       " 'sausage',\n",
       " 'blackberries',\n",
       " 'coffee',\n",
       " 'veggies',\n",
       " 'grilled',\n",
       " 'oil',\n",
       " 'soup',\n",
       " 'barley',\n",
       " 'honey',\n",
       " 'meatballs',\n",
       " 'cream',\n",
       " 'stew',\n",
       " 'bbq',\n",
       " 'kale',\n",
       " 'syrup',\n",
       " 'bagel',\n",
       " 'pineapple',\n",
       " 'sugar',\n",
       " 'steak',\n",
       " 'butter',\n",
       " 'fry',\n",
       " 'fruit',\n",
       " 'cheddar',\n",
       " 'juice',\n",
       " 'pumpkin',\n",
       " 'eggplant',\n",
       " 'bun',\n",
       " 'carrot',\n",
       " 'bar',\n",
       " 'saltfish',\n",
       " 'strawberry',\n",
       " 'codfish',\n",
       " 'meat',\n",
       " 'cereal',\n",
       " 'peach',\n",
       " 'tortilla',\n",
       " 'pepper',\n",
       " 'see',\n",
       " 'dried',\n",
       " 'ham',\n",
       " 'french',\n",
       " 'bowl',\n",
       " 'american',\n",
       " 'raisin',\n",
       " 'sesame',\n",
       " 'lemon',\n",
       " 'kind',\n",
       " 'breakfast',\n",
       " 'plum',\n",
       " 'homemade',\n",
       " 'hot',\n",
       " 'guava',\n",
       " 'blueberries',\n",
       " 'mango',\n",
       " 'feta',\n",
       " 'string',\n",
       " 'bean',\n",
       " 'blueberry',\n",
       " 'toast',\n",
       " 'fat',\n",
       " 'baked',\n",
       " 'flax',\n",
       " 'olive',\n",
       " 'cup',\n",
       " 'grain',\n",
       " 'cinnamon',\n",
       " 'macaroni',\n",
       " 'beets',\n",
       " 'avocado',\n",
       " 'tahini',\n",
       " 'brussel',\n",
       " 'quinoa',\n",
       " 'almond',\n",
       " 'pea',\n",
       " 'dressing',\n",
       " 'cheeseburger',\n",
       " 'chickpeas',\n",
       " 'shrimp',\n",
       " 'whiting',\n",
       " 'test',\n",
       " 'parmesan',\n",
       " 'beer',\n",
       " 'small',\n",
       " 'pork',\n",
       " 'olives',\n",
       " 'shoes',\n",
       " 'oats',\n",
       " 'jelly',\n",
       " 'mac',\n",
       " 'mussels',\n",
       " 'garlic',\n",
       " 'mashed',\n",
       " 'curry',\n",
       " 'cob',\n",
       " 'tofu',\n",
       " 'slice',\n",
       " 'free',\n",
       " 'chips',\n",
       " 'salt',\n",
       " 'waffle',\n",
       " 'panera',\n",
       " 'gelato',\n",
       " 'halal',\n",
       " 'skim',\n",
       " 'dog',\n",
       " 'pastry',\n",
       " 'noodles',\n",
       " 'onion',\n",
       " 'pizza',\n",
       " 'mustard',\n",
       " 'pineapples',\n",
       " 'batter',\n",
       " 'cake',\n",
       " 'dinner',\n",
       " 'roll',\n",
       " 'kidney',\n",
       " 'zucchini',\n",
       " 'boiled',\n",
       " 'seed',\n",
       " 'grape',\n",
       " 'stewed',\n",
       " 'whites',\n",
       " 'tablespoon',\n",
       " 'double',\n",
       " 'goat',\n",
       " 'organic',\n",
       " 'asparagus',\n",
       " 'stevia',\n",
       " 'gf',\n",
       " 'veggie',\n",
       " 'balsamic',\n",
       " 'cucumber',\n",
       " 'kalamata',\n",
       " 'cauliflower',\n",
       " 'strawberries',\n",
       " 'tomatoes',\n",
       " 'peanuts',\n",
       " 'cherries',\n",
       " 'risotto',\n",
       " 'sprouts',\n",
       " 'soy',\n",
       " 'radish',\n",
       " 'red',\n",
       " 'arugula',\n",
       " 'walnuts',\n",
       " 'meal',\n",
       " 'strawberrys',\n",
       " 'black',\n",
       " 'pepperoni',\n",
       " 'breadfruit',\n",
       " 'latte',\n",
       " 'handful',\n",
       " 'skinless',\n",
       " 'waffles',\n",
       " 'dark',\n",
       " 'it',\n",
       " 'svc',\n",
       " 'also',\n",
       " 'ate',\n",
       " 'remembered',\n",
       " 'bottom',\n",
       " 'buckwheat',\n",
       " 'deluxe',\n",
       " 'leaf',\n",
       " 'jack',\n",
       " 'sushi',\n",
       " 'booty',\n",
       " 'pirates',\n",
       " 'salmon',\n",
       " 'cooked',\n",
       " 'on',\n",
       " 'cranberries',\n",
       " 'amount',\n",
       " 'fair',\n",
       " 'hungry',\n",
       " 'tapioca',\n",
       " 'nutrition',\n",
       " 'thigh',\n",
       " 'chick',\n",
       " 'onions',\n",
       " 'school',\n",
       " 'lunch',\n",
       " 'bismati',\n",
       " 'southern',\n",
       " 'espresso',\n",
       " 'biscuit',\n",
       " 'soymilk',\n",
       " 'empanadas',\n",
       " 'pancakes',\n",
       " 'of',\n",
       " 'bunches',\n",
       " 'again',\n",
       " 'fake',\n",
       " 'crab',\n",
       " 'california',\n",
       " 'minestrone',\n",
       " 'thing',\n",
       " 'cracker',\n",
       " 'radishes',\n",
       " 'seasoning',\n",
       " 'kraft',\n",
       " 'millet',\n",
       " 'cheeses',\n",
       " 'iced',\n",
       " 'plantain',\n",
       " 'sour',\n",
       " 'org',\n",
       " 'miso',\n",
       " 'irish',\n",
       " 'cannellini',\n",
       " 'vinegar',\n",
       " 'lean',\n",
       " 'cuisine',\n",
       " 'muffin',\n",
       " 'yams',\n",
       " 'daily',\n",
       " 'good',\n",
       " 'packet',\n",
       " 'dopeness',\n",
       " 'powder',\n",
       " 'cacao',\n",
       " 'morning',\n",
       " 'snack',\n",
       " 'noddle',\n",
       " 'anchovies',\n",
       " 'flavored',\n",
       " 'plain',\n",
       " 'sick',\n",
       " 'people',\n",
       " 'spanish',\n",
       " 'drink',\n",
       " 'basil',\n",
       " 'thai',\n",
       " 'turmeric',\n",
       " 'ketchup',\n",
       " 'previously',\n",
       " 'mentioned',\n",
       " 'peppers',\n",
       " 'oat',\n",
       " 'kiwi',\n",
       " 'enchilada',\n",
       " 'florentine',\n",
       " 'omelette',\n",
       " 'cranberry',\n",
       " 'home',\n",
       " 'spelt',\n",
       " 'romaine',\n",
       " 'ziti',\n",
       " 'panini',\n",
       " 'maple',\n",
       " 'bakee',\n",
       " 'frut',\n",
       " 'eggsand',\n",
       " 'frozen',\n",
       " 'picture',\n",
       " 'mixture',\n",
       " 'dipped',\n",
       " 'peas',\n",
       " 'tomatoe',\n",
       " 'moxy',\n",
       " 'midnight',\n",
       " 'mix',\n",
       " 'wrap',\n",
       " 'jr',\n",
       " 'half',\n",
       " 'patty',\n",
       " 'oz',\n",
       " 'mayo',\n",
       " 'two',\n",
       " 'cornbread',\n",
       " 'plate',\n",
       " 'other',\n",
       " 'as',\n",
       " 'same',\n",
       " 'delicious',\n",
       " 'vanilla',\n",
       " 'buffet',\n",
       " 'frieds',\n",
       " 'healthy',\n",
       " 'noodle',\n",
       " 'con',\n",
       " 'croissant',\n",
       " 'pie',\n",
       " 'frontega',\n",
       " 'meatball',\n",
       " 'burrito',\n",
       " 'chipotle',\n",
       " 'pinto',\n",
       " 'salsa',\n",
       " 'puff',\n",
       " 'flour',\n",
       " 'pollo',\n",
       " 'arroz',\n",
       " 'oj',\n",
       " 'soursop',\n",
       " 'coleslaw',\n",
       " 'street',\n",
       " 'bagels',\n",
       " 'filling',\n",
       " 'puffs',\n",
       " 'multigrain',\n",
       " 'grey',\n",
       " 'earl',\n",
       " 'reduced',\n",
       " 'different',\n",
       " 'grit',\n",
       " 'madhed',\n",
       " 'sheep',\n",
       " 'samosa',\n",
       " 'med',\n",
       " 'spice',\n",
       " 'vegetables',\n",
       " 'shoot',\n",
       " 'bamboo',\n",
       " 'chip',\n",
       " 'shiitake',\n",
       " 'guacamole',\n",
       " 'chili',\n",
       " 'not',\n",
       " 'the',\n",
       " 'blackbean',\n",
       " 'betsy',\n",
       " 'souse',\n",
       " 'cocoa',\n",
       " 'burger',\n",
       " 'pickles',\n",
       " 'smoke',\n",
       " 'tbsp',\n",
       " 'chickenchicken',\n",
       " 'sprout',\n",
       " 'hummus',\n",
       " 'pita',\n",
       " 'oranges',\n",
       " 'guac',\n",
       " 'hii',\n",
       " 'italian',\n",
       " 'duck',\n",
       " 'mayonnaise',\n",
       " 'salami',\n",
       " 'bananas',\n",
       " 'hazelnut',\n",
       " 'nothing',\n",
       " 'continued',\n",
       " 'blackberry',\n",
       " 'noir',\n",
       " 'pinot',\n",
       " 'blue',\n",
       " 'soft',\n",
       " 'potatoe',\n",
       " 'april',\n",
       " 'soda',\n",
       " 'cherry',\n",
       " 'arepa',\n",
       " 'load',\n",
       " 'purple',\n",
       " 'finally',\n",
       " 'vitamin',\n",
       " 'havent',\n",
       " 'taken',\n",
       " 'since',\n",
       " 'üçö',\n",
       " 'lil']"
      ]
     },
     "execution_count": 88,
     "metadata": {},
     "output_type": "execute_result"
    }
   ],
   "source": [
    "learned_words_meal_ingredients_title"
   ]
  },
  {
   "cell_type": "code",
   "execution_count": 89,
   "id": "503b9656",
   "metadata": {},
   "outputs": [],
   "source": [
    "words = []\n",
    "for i in meal_ingredients_title:\n",
    "    temp = []\n",
    "    for j in i:\n",
    "        if j in learned_words_meal_ingredients_title:\n",
    "            temp.append(j)\n",
    "        else:\n",
    "            print(i)\n",
    "    words.append(temp)"
   ]
  },
  {
   "cell_type": "code",
   "execution_count": 90,
   "id": "00c8c6a0",
   "metadata": {},
   "outputs": [],
   "source": [
    "l = []\n",
    "for i in range(len(words)):\n",
    "        if len(words[i])>=1:\n",
    "            a = np.mean(embeddings.wv[words[i]], axis=0)\n",
    "            l.append(a)\n",
    "        else:\n",
    "            l.append(np.asarray(100 * [0]))"
   ]
  },
  {
   "cell_type": "code",
   "execution_count": 91,
   "id": "e5085d5d",
   "metadata": {
    "scrolled": true
   },
   "outputs": [
    {
     "data": {
      "text/plain": [
       "(152,)"
      ]
     },
     "execution_count": 91,
     "metadata": {},
     "output_type": "execute_result"
    }
   ],
   "source": [
    "data_y = np.squeeze(data_y)\n",
    "data_y.shape"
   ]
  },
  {
   "cell_type": "code",
   "execution_count": 92,
   "id": "df00e118",
   "metadata": {},
   "outputs": [
    {
     "data": {
      "text/plain": [
       "(152, 100)"
      ]
     },
     "execution_count": 92,
     "metadata": {},
     "output_type": "execute_result"
    }
   ],
   "source": [
    "data_X = pd.DataFrame(l)\n",
    "data_X.shape"
   ]
  },
  {
   "cell_type": "code",
   "execution_count": 93,
   "id": "10675234",
   "metadata": {},
   "outputs": [],
   "source": [
    "train_accuracy = []\n",
    "test_accuracy = []\n",
    "for i in range(1000):\n",
    "    X_train, X_test, y_train, y_test = train_test_split(data_X, data_y, test_size=0.2, shuffle = True)\n",
    "#     tfidf = TfidfVectorizer(max_features=100, lowercase=True, analyzer='word',\n",
    "#                         stop_words= 'english',ngram_range=(1,3),dtype=np.float32)\n",
    "#     train = tfidf.fit_transform(X_train)\n",
    "#     test = tfidf.transform(X_test)\n",
    "    lr = LogisticRegression()\n",
    "    #scores = cross_val_score(lr, train, y_train, cv=3)\n",
    "    y_pred_train = cross_val_predict(lr, X_train, y_train, cv=3)\n",
    "    #y_pred_test = cross_val_predict(lr, test, y_test, cv=3)\n",
    "    lr.fit(X_train, y_train)\n",
    "    #y_pred_train = lr.predict(train)\n",
    "    y_pred_test = lr.predict(X_test)\n",
    "    train_accuracy.append(accuracy_score(y_train, y_pred_train))\n",
    "    test_accuracy.append(accuracy_score(y_test, y_pred_test))"
   ]
  },
  {
   "cell_type": "code",
   "execution_count": 94,
   "id": "9b4e9893",
   "metadata": {
    "scrolled": true
   },
   "outputs": [
    {
     "data": {
      "image/png": "[encoded data removed]",
      "text/plain": [
       "<Figure size 720x720 with 1 Axes>"
      ]
     },
     "metadata": {
      "needs_background": "light"
     },
     "output_type": "display_data"
    }
   ],
   "source": [
    "plt.figure(figsize=(10,10))  \n",
    "plt.hist(train_accuracy, bins = 25,\n",
    "             color = 'blue', edgecolor = 'black')\n",
    "plt.title('Train accuracy', size = 20)\n",
    "plt.xlabel('accuracy', size = 15)\n",
    "\n",
    "plt.show()"
   ]
  },
  {
   "cell_type": "code",
   "execution_count": 95,
   "id": "f2ffe6e8",
   "metadata": {},
   "outputs": [
    {
     "name": "stdout",
     "output_type": "stream",
     "text": [
      "0.5305206611570248\n",
      "0.01685170578029886\n"
     ]
    }
   ],
   "source": [
    "print(np.mean(train_accuracy))\n",
    "print(np.std(train_accuracy))"
   ]
  },
  {
   "cell_type": "code",
   "execution_count": 96,
   "id": "61bff9f1",
   "metadata": {},
   "outputs": [
    {
     "data": {
      "image/png": "[encoded data removed]",
      "text/plain": [
       "<Figure size 720x720 with 1 Axes>"
      ]
     },
     "metadata": {
      "needs_background": "light"
     },
     "output_type": "display_data"
    }
   ],
   "source": [
    "plt.figure(figsize=(10,10))  \n",
    "plt.hist(test_accuracy, bins = 25,\n",
    "             color = 'blue', edgecolor = 'black')\n",
    "plt.title('test accuracy', size = 20)\n",
    "plt.xlabel('accuracy', size = 15)\n",
    "#plt.ylabel('Flights', size= 22)\n",
    "\n",
    "#plt.tight_layout()\n",
    "plt.show()"
   ]
  },
  {
   "cell_type": "code",
   "execution_count": 97,
   "id": "00dfa3b2",
   "metadata": {},
   "outputs": [
    {
     "name": "stdout",
     "output_type": "stream",
     "text": [
      "0.471258064516129\n",
      "0.07807597223324532\n"
     ]
    }
   ],
   "source": [
    "print(np.mean(test_accuracy))\n",
    "print(np.std(test_accuracy))"
   ]
  },
  {
   "cell_type": "code",
   "execution_count": null,
   "id": "58c18a13",
   "metadata": {},
   "outputs": [],
   "source": []
  },
  {
   "cell_type": "code",
   "execution_count": null,
   "id": "166be7dc",
   "metadata": {},
   "outputs": [],
   "source": []
  },
  {
   "cell_type": "code",
   "execution_count": null,
   "id": "6df3324f",
   "metadata": {},
   "outputs": [],
   "source": []
  },
  {
   "cell_type": "code",
   "execution_count": null,
   "id": "21f1ed6b",
   "metadata": {},
   "outputs": [],
   "source": []
  },
  {
   "cell_type": "code",
   "execution_count": null,
   "id": "6036b28b",
   "metadata": {},
   "outputs": [],
   "source": []
  },
  {
   "cell_type": "code",
   "execution_count": null,
   "id": "b35fd30c",
   "metadata": {},
   "outputs": [],
   "source": []
  },
  {
   "cell_type": "code",
   "execution_count": null,
   "id": "f20325df",
   "metadata": {},
   "outputs": [],
   "source": []
  },
  {
   "cell_type": "code",
   "execution_count": null,
   "id": "652f403f",
   "metadata": {},
   "outputs": [],
   "source": []
  },
  {
   "cell_type": "code",
   "execution_count": null,
   "id": "6806c18a",
   "metadata": {},
   "outputs": [],
   "source": []
  },
  {
   "cell_type": "code",
   "execution_count": null,
   "id": "529996f4",
   "metadata": {},
   "outputs": [],
   "source": []
  },
  {
   "cell_type": "code",
   "execution_count": null,
   "id": "5d40fa27",
   "metadata": {},
   "outputs": [],
   "source": []
  },
  {
   "cell_type": "code",
   "execution_count": null,
   "id": "06e8debb",
   "metadata": {},
   "outputs": [],
   "source": []
  },
  {
   "cell_type": "code",
   "execution_count": null,
   "id": "9057f556",
   "metadata": {},
   "outputs": [],
   "source": []
  },
  {
   "cell_type": "code",
   "execution_count": null,
   "id": "257aca82",
   "metadata": {},
   "outputs": [],
   "source": []
  },
  {
   "cell_type": "code",
   "execution_count": null,
   "id": "b0014e18",
   "metadata": {},
   "outputs": [],
   "source": []
  },
  {
   "cell_type": "code",
   "execution_count": null,
   "id": "f0567b72",
   "metadata": {},
   "outputs": [],
   "source": []
  },
  {
   "cell_type": "code",
   "execution_count": null,
   "id": "a0abe4c5",
   "metadata": {},
   "outputs": [],
   "source": []
  },
  {
   "cell_type": "code",
   "execution_count": null,
   "id": "1d98c88c",
   "metadata": {},
   "outputs": [],
   "source": []
  },
  {
   "cell_type": "code",
   "execution_count": null,
   "id": "aaa1e6a6",
   "metadata": {},
   "outputs": [],
   "source": []
  },
  {
   "cell_type": "code",
   "execution_count": null,
   "id": "2c53471f",
   "metadata": {},
   "outputs": [],
   "source": []
  },
  {
   "cell_type": "code",
   "execution_count": null,
   "id": "e35f0a27",
   "metadata": {},
   "outputs": [],
   "source": []
  },
  {
   "cell_type": "code",
   "execution_count": null,
   "id": "c7cd3956",
   "metadata": {},
   "outputs": [],
   "source": []
  },
  {
   "cell_type": "code",
   "execution_count": null,
   "id": "a818d44e",
   "metadata": {},
   "outputs": [],
   "source": []
  },
  {
   "cell_type": "code",
   "execution_count": null,
   "id": "233b1d53",
   "metadata": {},
   "outputs": [],
   "source": []
  },
  {
   "cell_type": "code",
   "execution_count": null,
   "id": "11753446",
   "metadata": {},
   "outputs": [],
   "source": []
  },
  {
   "cell_type": "code",
   "execution_count": null,
   "id": "0bcb48cd",
   "metadata": {},
   "outputs": [],
   "source": []
  },
  {
   "cell_type": "code",
   "execution_count": null,
   "id": "7bfbfbbc",
   "metadata": {},
   "outputs": [],
   "source": []
  },
  {
   "cell_type": "code",
   "execution_count": null,
   "id": "055bc698",
   "metadata": {},
   "outputs": [],
   "source": []
  },
  {
   "cell_type": "code",
   "execution_count": null,
   "id": "6276bf1d",
   "metadata": {},
   "outputs": [],
   "source": []
  },
  {
   "cell_type": "code",
   "execution_count": null,
   "id": "9fca9445",
   "metadata": {},
   "outputs": [],
   "source": []
  },
  {
   "cell_type": "code",
   "execution_count": null,
   "id": "8a896b63",
   "metadata": {},
   "outputs": [],
   "source": []
  },
  {
   "cell_type": "code",
   "execution_count": null,
   "id": "fc89115e",
   "metadata": {},
   "outputs": [],
   "source": []
  },
  {
   "cell_type": "code",
   "execution_count": null,
   "id": "29ad6956",
   "metadata": {},
   "outputs": [],
   "source": []
  },
  {
   "cell_type": "code",
   "execution_count": null,
   "id": "e9fc0889",
   "metadata": {},
   "outputs": [],
   "source": []
  },
  {
   "cell_type": "code",
   "execution_count": null,
   "id": "b483a89c",
   "metadata": {},
   "outputs": [],
   "source": []
  },
  {
   "cell_type": "code",
   "execution_count": null,
   "id": "f7365430",
   "metadata": {},
   "outputs": [],
   "source": []
  }
 ],
 "metadata": {
  "kernelspec": {
   "display_name": "Python 3.9 (tensorflow)",
   "language": "python",
   "name": "tensorflow"
  },
  "language_info": {
   "codemirror_mode": {
    "name": "ipython",
    "version": 3
   },
   "file_extension": ".py",
   "mimetype": "text/x-python",
   "name": "python",
   "nbconvert_exporter": "python",
   "pygments_lexer": "ipython3",
   "version": "3.9.7"
  }
 },
 "nbformat": 4,
 "nbformat_minor": 5
}
