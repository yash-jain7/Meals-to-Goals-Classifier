{
 "cells": [
  {
   "cell_type": "code",
   "execution_count": 1,
   "id": "ddbf3eb6",
   "metadata": {},
   "outputs": [],
   "source": [
    "import pandas as pd\n",
    "import gensim\n",
    "import numpy as np\n",
    "from sklearn.model_selection import KFold\n",
    "import nltk\n",
    "from nltk.corpus import stopwords\n",
    "# Import textblob\n",
    "from textblob import Word, TextBlob\n",
    "import matplotlib.pyplot as plt\n",
    "%matplotlib inline\n",
    "from sklearn.model_selection import train_test_split\n",
    "from sklearn.linear_model import LogisticRegression\n",
    "from sklearn.metrics import accuracy_score\n",
    "from sklearn.feature_extraction.text import TfidfVectorizer\n",
    "from sklearn.feature_extraction.text import CountVectorizer\n",
    "from sklearn.model_selection import cross_val_score, cross_val_predict\n",
    "from sklearn.model_selection import KFold\n",
    "import warnings\n",
    "warnings.filterwarnings(\"ignore\")"
   ]
  },
  {
   "cell_type": "markdown",
   "id": "a681a501",
   "metadata": {},
   "source": [
    "# choose_whole_fruits"
   ]
  },
  {
   "cell_type": "markdown",
   "id": "a35db19e",
   "metadata": {},
   "source": [
    "## Data Preprocessing"
   ]
  },
  {
   "cell_type": "code",
   "execution_count": 2,
   "id": "30db71f8",
   "metadata": {},
   "outputs": [],
   "source": [
    "df = pd.read_excel('Meals_w_Goals_deid_snapshot.xlsx', 'choose_whole_fruits')"
   ]
  },
  {
   "cell_type": "code",
   "execution_count": 3,
   "id": "24f10815",
   "metadata": {
    "scrolled": true
   },
   "outputs": [
    {
     "data": {
      "text/plain": [
       "0"
      ]
     },
     "execution_count": 3,
     "metadata": {},
     "output_type": "execute_result"
    }
   ],
   "source": [
    "df['meal_ingredients'].isnull().sum()"
   ]
  },
  {
   "cell_type": "code",
   "execution_count": 4,
   "id": "1e347279",
   "metadata": {},
   "outputs": [],
   "source": [
    "df = df.dropna(axis=0, subset=['meal_ingredients'])"
   ]
  },
  {
   "cell_type": "code",
   "execution_count": 5,
   "id": "5485bdca",
   "metadata": {},
   "outputs": [
    {
     "data": {
      "text/plain": [
       "0"
      ]
     },
     "execution_count": 5,
     "metadata": {},
     "output_type": "execute_result"
    }
   ],
   "source": [
    "df['meal_ingredients'].isnull().sum()"
   ]
  },
  {
   "cell_type": "code",
   "execution_count": 6,
   "id": "8ddbbb4a",
   "metadata": {},
   "outputs": [],
   "source": [
    "df['meal_ingredients'] = df['meal_ingredients'].astype(str)"
   ]
  },
  {
   "cell_type": "code",
   "execution_count": 7,
   "id": "a00514e7",
   "metadata": {},
   "outputs": [
    {
     "name": "stderr",
     "output_type": "stream",
     "text": [
      "[nltk_data] Downloading package stopwords to\n",
      "[nltk_data]     /Users/yashjain/nltk_data...\n",
      "[nltk_data]   Package stopwords is already up-to-date!\n",
      "[nltk_data] Downloading package wordnet to\n",
      "[nltk_data]     /Users/yashjain/nltk_data...\n",
      "[nltk_data]   Package wordnet is already up-to-date!\n"
     ]
    }
   ],
   "source": [
    "nltk.download('stopwords')\n",
    "nltk.download('wordnet')\n",
    "stop_words = stopwords.words('english')"
   ]
  },
  {
   "cell_type": "code",
   "execution_count": 8,
   "id": "6014c635",
   "metadata": {},
   "outputs": [],
   "source": [
    "def preprocess_meals(meal):\n",
    "    processed_meal = meal\n",
    "    processed_meal.replace('[^\\w\\s]', '')\n",
    "    processed_meal = \" \".join(word for word in processed_meal.split() if word not in stop_words)\n",
    "    #processed_meal = \" \".join(word for word in processed_meal.split() if word not in custom_stopwords)\n",
    "    processed_meal = \" \".join(Word(word).lemmatize() for word in processed_meal.split())\n",
    "    return(processed_meal)"
   ]
  },
  {
   "cell_type": "code",
   "execution_count": 9,
   "id": "0f6ce2d4",
   "metadata": {},
   "outputs": [],
   "source": [
    "from sklearn.preprocessing import OrdinalEncoder\n",
    "label = df['expert_assessment']\n",
    "enc = OrdinalEncoder(categories = [['not_really', 'yes']])\n",
    "df['expert_assessment'] = enc.fit_transform(label.to_numpy().reshape(-1,1))"
   ]
  },
  {
   "cell_type": "code",
   "execution_count": 10,
   "id": "7433d3be",
   "metadata": {
    "scrolled": true
   },
   "outputs": [
    {
     "name": "stdout",
     "output_type": "stream",
     "text": [
      "Total observations: 385\n",
      "Total negative labels: 286\n",
      "Total positive labels: 99\n"
     ]
    }
   ],
   "source": [
    "total = df['expert_assessment'].count()\n",
    "negative = df['expert_assessment'][df['expert_assessment']==0].count()\n",
    "positive = df['expert_assessment'][df['expert_assessment']==1].count()\n",
    "print('Total observations:', total)\n",
    "print('Total negative labels:', negative)\n",
    "print('Total positive labels:', positive)"
   ]
  },
  {
   "cell_type": "markdown",
   "id": "32bddb3d",
   "metadata": {},
   "source": [
    "# TFIDF\n"
   ]
  },
  {
   "cell_type": "markdown",
   "id": "cb1d4dc6",
   "metadata": {},
   "source": [
    "## Meal Ingredients"
   ]
  },
  {
   "cell_type": "code",
   "execution_count": 11,
   "id": "beb85b6b",
   "metadata": {},
   "outputs": [],
   "source": [
    "df['meal_ingredients'] = df['meal_ingredients'].apply(lambda x: preprocess_meals(x))"
   ]
  },
  {
   "cell_type": "code",
   "execution_count": 12,
   "id": "9b6ae7a9",
   "metadata": {},
   "outputs": [
    {
     "data": {
      "text/plain": [
       "0                                    Turkey burger salad\n",
       "1                                          Chicken salad\n",
       "2                                            Boiling egg\n",
       "3                                              Bagel egg\n",
       "4                                     Boiling egg coffee\n",
       "                             ...                        \n",
       "380                            Blueberries Walnuts Water\n",
       "381                   Walnuts Almonds Blackberries Water\n",
       "382                                  Almonds Apple Water\n",
       "383                                 Tangerine üçä Water\n",
       "384    Chicken Breast Chick Pease Jerked Seasoning Ol...\n",
       "Name: meal_ingredients, Length: 385, dtype: object"
      ]
     },
     "execution_count": 12,
     "metadata": {},
     "output_type": "execute_result"
    }
   ],
   "source": [
    "df['meal_ingredients']"
   ]
  },
  {
   "cell_type": "code",
   "execution_count": 13,
   "id": "a841d1e9",
   "metadata": {},
   "outputs": [],
   "source": [
    "document = []\n",
    "for i in df['meal_ingredients']:\n",
    "    if i != '':\n",
    "        document.append(i)"
   ]
  },
  {
   "cell_type": "code",
   "execution_count": 14,
   "id": "e93f48a5",
   "metadata": {},
   "outputs": [
    {
     "data": {
      "text/plain": [
       "['Turkey burger salad',\n",
       " 'Chicken salad',\n",
       " 'Boiling egg',\n",
       " 'Bagel egg',\n",
       " 'Boiling egg coffee',\n",
       " 'Lentil soup',\n",
       " 'Pepper onion tomato onion omelette',\n",
       " 'Quinoa vegetable',\n",
       " 'Salad sweet potato',\n",
       " 'Vegetables',\n",
       " 'Avocado drink diet Sunkist',\n",
       " 'Milk',\n",
       " 'Avocado , potato diet ginger ale',\n",
       " 'Grapefruit',\n",
       " 'Avocado,diet Ginger ale',\n",
       " 'Steak,Season potato , Mac cheese water',\n",
       " 'Waffel,bacon',\n",
       " 'Almond,pecan,lettuce,grilled chicken,apple',\n",
       " 'Steamed dinner> Salmon 4shrimp. Broc carrot steamed potato',\n",
       " '2 pkgs cream wheat one flavored 1 plain coffee 1 water',\n",
       " 'Peach yogurt',\n",
       " 'Coffee water 3 slice whole wheat tst margarine marmalade',\n",
       " 'Tomatoes salad chiken cutlet',\n",
       " 'Water Gatorade shrimp salad lettuce tomato rye bread',\n",
       " 'Coffee. Water 2 instant sugar free oatmeal water....',\n",
       " 'Water coffee chobani Greek yogurt',\n",
       " 'Sweet potatoe pie 1/2 slice',\n",
       " 'Lentils. Water coffee',\n",
       " 'Turkey Swiss let tomato mayo Water. 8oz fresh squeeze juice',\n",
       " 'Shrimp salad wrap w.w wrap Lettuce tomato avacado',\n",
       " 'Coffee. Water.mini thin bagel peanut butter strawberry jelly',\n",
       " '2 boiled egg 3 waffle ...sugar free syrup Strawberries butter ham ..',\n",
       " 'Water. 1/2shrimp salad rye lettuce tomato veg noodle soup orange',\n",
       " '5 grain Cheerios banana almond milk water coffee.',\n",
       " 'Chicken celery olive red pepper onion \\uf8ffüçÖ',\n",
       " 'Weight control oatmeal nectaarine coffee water',\n",
       " 'Bowl chicken vegetale soup 1/2 10grapes 1 small Clementine 1 peach Greek yogurt. 8 oz water',\n",
       " 'Apple Cole slaw water',\n",
       " 'Weight control oatmeal Orange water coffee',\n",
       " '2 x ham/Swiss rapps, small potato salad 16 oz bottle water.',\n",
       " 'Stuffed shells, mixed salad 16 oz bottle water.',\n",
       " 'BBQ rib yellow rice Gandules olives. Mixed salad: baby spinach greens, cucumber cherry tomato olive oil dressing.',\n",
       " 'White rice, red bean steak onions. 16 oz bottle water.',\n",
       " '3 x chicken taco Pico de gallo avocado. 23 oz bottle water.',\n",
       " 'Beef stew, whole wheat bread 17 oz bottle water.',\n",
       " 'Figs, mixed nuts: pecans, pumpkin seeds, sunflower seeds, hazel nut wall nuts. Dried pineapple, papaya raisins. 16 oz bottle water.',\n",
       " 'Chicken Alfredo bottle water.',\n",
       " 'Meat loaf, steamed veggie 16 oz bottle water',\n",
       " 'Yellow rice Gandules BBQ ribs. Mixed salad: spinach, cherry tomatoes, cucumber feta cheese. 16 oz bottle water.',\n",
       " 'Bowl Lentil soup, 2 x ham & cheese sandwich 16 oz bottle water.',\n",
       " 'Meat loaf, mashed potatoes. Mixed salad: spinach cucumbers, peppers, cherry tomato avocado. 16 oz bottle water.',\n",
       " 'Noodles meatballs, mixed salad: mixed greens, peppers, carrots, cherry tomatoes, cucumbers. 16 oz bottle water.',\n",
       " 'Yellow rice red bean 1x piece BBQ ribs. Glass V8',\n",
       " 'Hearty Beef & vegetable soup. Ritz cracker 16 oz bottle water.',\n",
       " \"General Tso's chicken, vegetable fried rice, 1x dumpling 12 oz glass V8\",\n",
       " 'Yellow rice red beans, asparagus chicken cutlets. Mixed salad: spinach, carrots, cucumber. Cherry tomatoes. 16 oz bottle water.',\n",
       " '6 oz cup yogurt. 16 oz bottle water.',\n",
       " 'Yellow rice red beans. Chicken cutlet steamed mixed vegetables: carrots, broccoli, pea 16 oz bottle water.',\n",
       " 'Half Roast chicken, vegetables, yellow rice Gandules 16 oz bottle water.',\n",
       " 'Yellow rice Gandules BBQ ribs. 16 oz glass V8.',\n",
       " 'Split pea soup Dagwood sandwich.',\n",
       " 'Garbanzos pork yellow rice.',\n",
       " 'Bowl oatmeal, 2 x hard-boiled egg cup black coffee 2 x tspn raw sugar.',\n",
       " 'Yellow rice red beans, steak onions. Mixed salad: spinach, cucumber, cherry tomato peppers. 16 oz bottle water.',\n",
       " 'Grilled Ham & cheese sandwich 16 oz cup black coffee 2 x tspn raw sugar.',\n",
       " 'Macaroni/cheese, 3 x BBQ rib 16 oz glass V8',\n",
       " 'Pepperoni pizza (2xslices) chicken nugget 16 oz bottle water.',\n",
       " 'Lasagna, garlic knots, green salad bottle water.',\n",
       " 'Yellow rice red bean pumpkin, steak onion avocado. 16 oz bottle water.',\n",
       " 'Yellow rice Gandules olives. Mixed salad: spinach, lettuce, tomato, carrot cucumber. Pork chop 16 oz bottle water.',\n",
       " 'Macaroni salad: cherry tomatoes, celery, green onions, pumpkin/sunflower seeds. 16 oz bottle water.',\n",
       " 'Yellow rice corned beef, banana cup black coffee 2 tspn raw sugar.',\n",
       " 'Egg cheese roll, banana cup black coffee 2 tspn sugar.',\n",
       " 'Pasta & meatballs, mixed salad: spring greens, carrots, cherry tomato strawberry. 16 oz bottle water.',\n",
       " 'Yellow rice red beans, 2 x piece BBQ ribs, mixed salad: cucumber, strawberry, tomato leafy greens. 16 oz bottle water.',\n",
       " 'Yellow rice chicken carrots/peppers. 1x banana 16 oz bottle water.',\n",
       " 'Yellow rice BBQ ribs, banana 12 oz glass V8',\n",
       " 'Yellow rice red beans, steak onions, mixed salad: spinach, cucumber, cherry tomatoes, strawberry. 16 oz bottle water.',\n",
       " 'Yellow rice black beans, avocado pork chops. 16 oz bottle water.',\n",
       " 'White rice, red bean pumpkin, spam okra.',\n",
       " 'Spanish style oatmeal 16oz reg milk mix cinnamon n oatmeal With cup water',\n",
       " 'Organic 6oz Orange 12oz broccoli cheddar soup au bu pon',\n",
       " 'Cashews rasin 12oz ice coffee milk two Splenda',\n",
       " 'Shrimp egg roll two packet fuck sauce n Arizona ice tea',\n",
       " 'Slice marble pound cake 12 oz whole milk',\n",
       " 'Eggs bean frank small cup black cofffe one Splenda',\n",
       " 'Two cinnamon pop tart large coffee milk four Splenda',\n",
       " 'Two corn tortilla cabbage red beet ground beef half boiled egg dice tomato tomato sauce',\n",
       " 'No salt.',\n",
       " 'None',\n",
       " '2cups rice goya red bean steak n avocado',\n",
       " 'Rice green paguen steak',\n",
       " 'Rice rib chayote guandule',\n",
       " 'Rice bean chicken meat ball lettuce tomato',\n",
       " 'Rice chicken salad',\n",
       " 'Rice chicken bean',\n",
       " 'Turkey cheese lettuce tomato onion mayo',\n",
       " 'Rice shrimp broccoli',\n",
       " 'Bun, ham, cheese, lettuce, tomatoes. Orange juice.',\n",
       " 'Rice steak',\n",
       " 'Penne witg grill chicken breast',\n",
       " 'Brown rice chicken',\n",
       " 'Salmon rice bean',\n",
       " 'Potato salad egg amd sirlion steak oven',\n",
       " 'Fry fish n fry plantain',\n",
       " 'Spaghetti shrimp',\n",
       " 'Salmon rice salad',\n",
       " 'Rice broccoli egg potato salad chicken',\n",
       " 'Rice oil salt',\n",
       " 'Corn steak string bean',\n",
       " 'Rice oil salt garlic seasoning mazola oil n garlic',\n",
       " 'Oil dash salt',\n",
       " 'Manila oil dash squash',\n",
       " 'Ham cheese lettuce tomato sandwich',\n",
       " 'Rye bread vegan patty kettle fry lettuce, carrots. Mayo mustard ketchup.',\n",
       " 'I cup honey nut chex, milk 2%, nut dry blueberries. 2 cooky',\n",
       " 'Chicken rice soup',\n",
       " 'One piece chicken salad lettuce tomato chicken steamed veggies.',\n",
       " 'Lettuce tomato chicken quinoa bean corn ranch dressing',\n",
       " 'One portion chicken salad lettuce tomato ranch dressing crouton',\n",
       " 'Cheese, flour tortilla bread coffee.',\n",
       " 'Tuna sandwich cheese lettuce carrots.',\n",
       " 'Salad baby lettuce, green raddicchio tomato olives, 2 table spoon dressing blue cheese sardines. Two hotdog mayo sauerkraut.',\n",
       " 'Salad lettuce, tomatoes, cucumbers, olive oil Parmesan cheese shrimp parmigiana',\n",
       " 'Foot long Italian meat ball lettuce tomato onion olive jalapeno cheese, potato chip diet Coke, one chocolate chip cookie.',\n",
       " 'Sausage egg cheese sandwich banana bread coffee 2% fat milk Splenda',\n",
       " 'Cesar salad romaine iceberg lettuce, white meat chicken, Parmesan cheese, garlic bread. 8 chicken wing BBQ sauce',\n",
       " 'One flour tortilla egg sausage, 2 small cinnamon piece iced coffee coffee creamer Splenda',\n",
       " 'Salad lettuce tomato cucumbers, shrimp parmigiana cheese.',\n",
       " '2 scrambled egg ham, salsa mazola oil',\n",
       " 'Sausage egg cheese burrito salsa one cup coffee cream Splenda 3 chocolate chip cooky',\n",
       " 'Salad lettuce tomato mushroom crab meat Chicken wing',\n",
       " '2 scrambled egg sausage grape hotdog',\n",
       " 'Salad dressing lettuce tomato mushroom olive crab meat one hotdog ketchup mayo',\n",
       " '2 scrambled egg sausage mushroom grape one cup coffee cream.',\n",
       " 'Burger fry ketchup Cesar salad chicken cheese lettuce',\n",
       " '2 scrambled egg sausage mushroom beans. The egg prepared mazola oil.',\n",
       " '2 fish cake rice bean pork chops.',\n",
       " '2 scrambled egg mushroom turkey bologna, prepared mazola oil bean',\n",
       " 'One egg tu',\n",
       " 'Fried rice pork rib',\n",
       " 'Sausage egg cheese sandwich banana bread coffee 2 percent fat milk Splenda',\n",
       " 'Pork tip fried rice chicken shrimp, onion pea',\n",
       " 'One sausage egg cheese ketchup banana bread coffee 2% milk Splenda',\n",
       " 'Salad tomato, lettuce, cheese olive oil cucumbers, shrimp parmigiana',\n",
       " '2 scrambled egg bean sausage mushroom prepared mazola oil one table spoon brownie',\n",
       " 'Fried rice chicken, broccoli onion egg roll. Soy sauce spicy sauce.',\n",
       " 'Salad dressing spinach Parmesan cheese, tomato mushroom tuna beef hotdog',\n",
       " '2 breakfast burrito one bowl cereal milk cooky coffee half half.',\n",
       " 'Salad dressing lettuce Coleslaw crab pea rice chicken',\n",
       " '2 sausage egg cheese burrito cooky one coffee cream Splenda',\n",
       " 'Salad dressing lettuce tomato onions, salmon baked potato.',\n",
       " '2 scrambled egg bologna cereal milk one slice pie.',\n",
       " 'Wheat bread chicken lettuce, tomato, onion, cheese Olives, jalapeno peppers, dressing. Chips diet Coke',\n",
       " 'Lettuce tomato, carrots, ranch dressing, portion mashed potato pork chop.',\n",
       " 'Lettuce tomatoes, tuna, ranch dressing, raisin, nuts, croutons, taco made flour tortillas, chicken vegetable cheese bacon',\n",
       " 'Cheerios milk banana one energy bar energy drink',\n",
       " 'One bowl Cheerios milk 2%, fruit apple \\uf8ffüçê',\n",
       " 'Egg white scrambled egg bacon fruit pineapple, melon, grape. Hot cakes, corn syrup ketchup.',\n",
       " 'Banana, yogurt, watermelon, cantaloupe, milk 2%=and Cheerios oats.',\n",
       " '2% milk, banana, one apple, Cheerios oats.',\n",
       " 'Banana, nuts, cranberries, 2% milk Cheerios whole grain oats.',\n",
       " 'Strawberries banana blueberry 2% fat milk one bar chocolate hazelnut butter 1.76oz',\n",
       " '1/2cup oat banana, 2% fat milk.',\n",
       " 'Scrambled egg sausage 1/2 cup beans. One banana',\n",
       " 'One portion pork chop salad seaweed squid, sesame oil, vinegar red pepper, 4oz 6 grape',\n",
       " 'Cheese brie, Gouda, one cup fruit grapes, apple, pumpkin scone iced coffee milk',\n",
       " '2 scrambled egg bean sausage mushrooms, one portion pear slices.',\n",
       " 'Scrambled egg bean ham mushrooms, one hotdog, cookie pear slice juice',\n",
       " '2 scrambled egg bologna bowl cereal raisin 2% milk',\n",
       " 'egg half mini bagel small plum water.',\n",
       " 'Cheerios',\n",
       " 'Dough tomato sauce cheese',\n",
       " 'Lettuce. Tomatoes onion',\n",
       " 'Chicken pea tomato sauce',\n",
       " 'Chicken pea tomato sauce',\n",
       " 'Chicken pepper onion garlic. Garbanzo onion pepper garlic.',\n",
       " 'Steak strip tomato sauteed onion fajita',\n",
       " 'Spinach swiss cheese onion peppers. 12oz',\n",
       " 'Gkucerna 12 oz water',\n",
       " 'See',\n",
       " 'Skirt steak brussel sprout one slice low carb bread',\n",
       " 'Glucerna 1 cup strawberry',\n",
       " 'Lettuce steak chicken chunk',\n",
       " 'Small green apple glucerna 8oz',\n",
       " 'Skirt steak onion salad. 16 oz',\n",
       " 'Skirt steak. Cabbage carrot pepper onion blend. 12oz water',\n",
       " 'Low sodium ham cheese low carb popcorn cake',\n",
       " 'Bacon egg 12 oz',\n",
       " 'Glucerna',\n",
       " '1 egg 3 thin slice low sodium ham',\n",
       " 'Spinach frittata, shrimp cabbage/carrots stir fry. 16 oz water',\n",
       " '10g protein. 12 oz water.',\n",
       " 'Chicken cabbage',\n",
       " 'Spinach leftover one hot dog bun',\n",
       " 'Garlicky chicken spinach',\n",
       " 'Carb steady 8oz',\n",
       " 'Glucerna 12 oz water',\n",
       " 'Light low carb crepe spinach tomato sauce parmesan cheese',\n",
       " 'Ribs tomato green bean',\n",
       " 'Turkey 12 oz water',\n",
       " 'glucerna 12oz water',\n",
       " 'Think bagel scrambled egg',\n",
       " 'Skirt steak tomato cabbage. 12 oz water',\n",
       " 'Steak tomato onion',\n",
       " 'No croutons. Light citrus dressing',\n",
       " 'Light balsamic dressing',\n",
       " 'Low carb crepe',\n",
       " 'Steak salad brussel sprout',\n",
       " 'Low sodium ham baby bell',\n",
       " 'No crouton',\n",
       " 'Glucerna 8oz, water 12oz',\n",
       " 'Half bun...lettuce tomato',\n",
       " 'Lettuce onion pepper chicken steak...7 chips...',\n",
       " '8oz 12 oz water',\n",
       " 'Veal saltimboca Brussel sprout',\n",
       " 'Spinach egg light mozzarella cheese tomato cabbage etc',\n",
       " 'The usual: glucerna + 12 oz water',\n",
       " 'Steak beet pepper 12 oz',\n",
       " 'Go breakfast option',\n",
       " 'Glucerna least 12oz water',\n",
       " 'Glucerna 12 oz water',\n",
       " 'Stir fry shrimp cabbage sauteed onions. Water apple sauce.',\n",
       " 'Skirt steak cabbage',\n",
       " 'Glucerna 12 oz water',\n",
       " 'Chicken cabbage. Unsweetened applesauce 30 minute ago. 12 oz water',\n",
       " 'Dreamfields pasta meat sauce...lots fresh tomato',\n",
       " 'Wawa caesar salad',\n",
       " 'Low fat hot dog onion sauce. Small apk. 16 ox water',\n",
       " 'Chicken cabbage pepper onion',\n",
       " 'Left over last nite',\n",
       " 'Shrimp lettuce 20 oz water',\n",
       " '10g protein 16g carbs...',\n",
       " 'Burger spinach onion',\n",
       " 'Glucerna apple water',\n",
       " 'Spinach strawberry',\n",
       " 'Center cut sirloin, asparagus side salad',\n",
       " 'Plus 16 oz water',\n",
       " 'Tuna green bean egg',\n",
       " 'Steak onion tomato',\n",
       " 'Plus 12 oz water',\n",
       " 'Chick filet grilled chicken sandwich. Whole wheat bread. Diet soda',\n",
       " 'With onion tomatoes. And apple. Plus 16oz water',\n",
       " 'Wheat bun burger brussel sprout',\n",
       " 'Lettuce cabbage green bean egg tuna small roll',\n",
       " 'Roasted veggie',\n",
       " 'Egg well turkey sausage. Fruit plus water',\n",
       " 'Salad chicken water',\n",
       " 'Skirt steak beet onion cabbage salad plus tomato water',\n",
       " 'Atkins 14g protein 4g net carbs peanut',\n",
       " 'Steak beet cabbage onion',\n",
       " 'Quiche lorraine trader joe...11g carb serving. Cabbage salad. Small apple dessert.',\n",
       " '12 0z water',\n",
       " 'Shrimp garlic paprika sauce. Brussels sprout',\n",
       " 'Eggs bacon. Strawberry water',\n",
       " 'Outback restaurant chicken caesar. Water.',\n",
       " 'Brussel sprout tomato onion',\n",
       " 'Glucerna water',\n",
       " 'Salad steak onion water',\n",
       " 'Brussels sprout chicken leftovers..',\n",
       " 'Broiled pork sauteed cabbage. Plus jello',\n",
       " '15 g protein 10 oz!',\n",
       " 'Brown fried rice',\n",
       " 'Peruvian style',\n",
       " 'Apple toast cheese',\n",
       " '8oz coffee 8oz water. 1 egg. Canadian bacon. Whole wheat. Tomoat',\n",
       " 'Small green apple 8oz glucerna plus 8oz water',\n",
       " 'Apple',\n",
       " 'Small plate',\n",
       " '80z lucerne 5 large strawberry',\n",
       " '4oz ham baby bel cheese low carb popcorn cake strawberry',\n",
       " '1 cup strawberry 8 oz glucerna.',\n",
       " 'Brussel sprout steak. Strwaberries',\n",
       " 'Fried chicken white rice. 12 oz water. Green apple.',\n",
       " 'Egg bread slice apple 16 oz water',\n",
       " 'Brolied flounder salad 16oz water. Peach.',\n",
       " '4 slice ham 3 swiss cheese beet green apple...as always 8oz water',\n",
       " 'Strawberries 6oz skim milk protein powder smoothie',\n",
       " 'Almonds unsweetened applesauce',\n",
       " 'Low sodium ham 1 baby bell small apple',\n",
       " '12 oz water',\n",
       " 'Plus 12 oz water small apple',\n",
       " 'Spinach caesar salad chicken pear...12 oz water',\n",
       " 'Spinach frittata apple 16 oz',\n",
       " '1 cup cabbage shrimp stir fry. 12 oz. Small apple.',\n",
       " 'Glucerna apple 12 oz water',\n",
       " 'Glucerna apple water',\n",
       " 'Half Caesar salad panera apple 1 pt water',\n",
       " 'Glucerna small apple 12 oz water',\n",
       " 'Plus 12oz water strawberry',\n",
       " 'Plus 12 oz water...strawberries',\n",
       " 'Spinach water small apple',\n",
       " 'Plus 12oz water. Small apple',\n",
       " 'Panera caesar salad half 16 oz water small apple',\n",
       " 'Plus 12 oz water small apple',\n",
       " 'Plus skinny pop tarts. Apple water',\n",
       " 'Glucerna plus water plus small apple',\n",
       " 'Plus small apple 12 oz water',\n",
       " 'Glucerna plus water small apple',\n",
       " 'Eggs bacon plus water small apple',\n",
       " 'Glucerna plus 16 oz water strawberry',\n",
       " 'Plus water strawberry',\n",
       " 'Plus water strawberry',\n",
       " 'Sprouts peanut water. Peach',\n",
       " 'And apple plus water',\n",
       " 'Small apple water',\n",
       " 'Water small apple',\n",
       " 'Glucerna water strawberry',\n",
       " 'cherrios, 2% milk - 1 cup, 1teaspoon sugar.',\n",
       " 'Baked potato butter Mashed potato Steak',\n",
       " 'Hash brown',\n",
       " 'Eggs, salsa sausage',\n",
       " '2',\n",
       " 'Vanilla ice cream.',\n",
       " 'Sweet potato fries, hot sausage.',\n",
       " 'Salmon, cornmeal. Tartar sauce. Hot sauce.',\n",
       " 'Chicken wing',\n",
       " 'Wheat rolls, hot sausage, raspberry preserves.',\n",
       " 'Chicken, pork, tomatoes, Brown rice, potato.',\n",
       " 'Biscuits, raspberry preserves, margarine.',\n",
       " 'Brown rice, corn, pork chop.',\n",
       " 'Brown rice, pork chop, ravioli, corn,',\n",
       " 'Cabbage, macaroni cheese, cornbread, beef, Turkey smoked wings, mini potato.',\n",
       " 'Egg roll',\n",
       " 'Chunky peanut butter cereal.',\n",
       " 'Cereal cheddar cheese sheds.',\n",
       " 'Beans rice, corn cob, platanos',\n",
       " 'Hot sausage, orange, corn cob, pork beans, rice, salmon.',\n",
       " 'Grits, oatmeal, mixed fruit, margarine.',\n",
       " 'Shredded sharp cheese, pork chop, orange, cereal.',\n",
       " 'Orange, Brown rice, soup.hot sausage. Olives, tomato sauce, corn.',\n",
       " 'Rice platano edamame salmon',\n",
       " 'Salmon. Cheese egg bread',\n",
       " 'Zucchini green cabbage pepper',\n",
       " 'Red pepper egg spinach bread',\n",
       " 'Eggs arugula quinoa avocado',\n",
       " 'Eggs tomato zucchini bread onion',\n",
       " 'Orange',\n",
       " 'Cheese egg platano',\n",
       " 'Blueberry whole cinnamon',\n",
       " 'Yogurt banana cantaloupe',\n",
       " 'Roll egg bacon salt pepper ketchup coffee',\n",
       " 'Veggie burger potato pancake water',\n",
       " 'Spinach tomato cucumber roasted unsalted sunflower seed green olive anchovy olive oil salt pepper balsamic vinegar water',\n",
       " 'Kix cinnamon puffin cereal low-fat milk water',\n",
       " 'Chicken cherry maple glaze shrimp broccoli rice pilaf water lemon',\n",
       " 'Sausage egg cheese bagel coffee',\n",
       " 'Chicken roasted sweet potato salad',\n",
       " 'Eggs spinach onion green olive mushroom cheddar cheese whole wheat bread small potato water',\n",
       " 'Cauliflower herb salt pepper',\n",
       " 'Bagel egg sausage cheese pepper ketchup',\n",
       " 'Grilled chicken breast herb balsamic vinegar',\n",
       " 'Wrap egg cheese pepper ketchup',\n",
       " 'Soy chorizo Avacado red bell pepper onion whole wheat wrap siracha hot sauce water',\n",
       " 'Turkey water',\n",
       " 'Spinach tomato dried cranberry unsalted roasted sunflower seed cucumber green olive red onion anchovy light Ceaser dressing water',\n",
       " 'Turkey whole wheat bread ketchup mustard hot sauce',\n",
       " 'Spinach tomato red onion sunflower seed dried cranberry green olive cucumber anchovy water',\n",
       " 'Spinach cucumber dried cranberry onion green olive sunflower seed tomato anchovy water',\n",
       " 'Sugar snap pee',\n",
       " 'Chicken water carrot celery onion herb whole wheat bread coffee',\n",
       " 'Eggs spinach green olive onion potato ketchup coffee water',\n",
       " 'Bread cheese pastrami saurerkraut French fry pickle coke slaw water',\n",
       " 'Eggs kale onion obliges potato eater',\n",
       " 'Sugar Snap Peas wter',\n",
       " 'General tzo chicken egg roll shrimp lo mein mountain dew',\n",
       " 'Trader Joe‚Äôs meatless veggie patty potato pancake',\n",
       " 'Two hot dog sauerkraut ketchup mustard two bun water',\n",
       " 'Pizza',\n",
       " 'Cauliflower soup chicken leg quarter roasted herb lettuce edamame sunflower seed tomato onion dried cranberry lemon juice avocado oil olive oil salt pepper garlic powder',\n",
       " 'Non fat Greek yogurt hemp seed Trader Joe‚Äôs matcha green tea wayer',\n",
       " 'Mixed lettuce tomato sunflower seed red onion dried craberries carrot olive oil avocado oil lemon juice water',\n",
       " 'Portobella mushroom whole wheat bread mixed lettuce tomato cucumber onion sunflower seed balsamic vinegar olive oil pomella water',\n",
       " 'Sugar snap pea blood orange water',\n",
       " 'Blueberries orange water',\n",
       " 'Half Pamello 6 inch whole honey wheat bread spinach onion tomato turkey olive pickle jalape√±os sweet onion sauce yellow mustard',\n",
       " 'Chick Pease Red Beans Chives Apple Cider Vinegar Himalayan Pink Salt Italian Herbs Basil Water',\n",
       " 'Water Cucumber Stevia Lemon',\n",
       " 'Strawberries Walnuts Water',\n",
       " 'Lettuce Charged Tomatoes Chrissy Red Bell Peppers Chill Lime Pepitas Strawberries Blueberries Blue Cheese Grilled Chicken Olives Black Beans',\n",
       " 'Blueberries Walnuts Water',\n",
       " 'Walnuts Almonds Blackberries Water',\n",
       " 'Almonds Apple Water',\n",
       " 'Tangerine \\uf8ffüçä Water',\n",
       " 'Chicken Breast Chick Pease Jerked Seasoning Olive Oil Cumin Garlic Garlic Powder Chopped Onion Basil Italian Herbs Chives Water']"
      ]
     },
     "execution_count": 14,
     "metadata": {},
     "output_type": "execute_result"
    }
   ],
   "source": [
    "document"
   ]
  },
  {
   "cell_type": "code",
   "execution_count": 15,
   "id": "c5fdc9bb",
   "metadata": {},
   "outputs": [],
   "source": [
    "data_X = np.squeeze(pd.DataFrame(df['meal_ingredients']))\n",
    "data_y = np.squeeze(pd.DataFrame(df['expert_assessment']))"
   ]
  },
  {
   "cell_type": "code",
   "execution_count": 16,
   "id": "2fc54845",
   "metadata": {},
   "outputs": [],
   "source": [
    "X_train, X_test, y_train, y_test = train_test_split(data_X, data_y, test_size=0.2, shuffle = True)"
   ]
  },
  {
   "cell_type": "code",
   "execution_count": 17,
   "id": "6ae9e48a",
   "metadata": {
    "scrolled": true
   },
   "outputs": [
    {
     "name": "stdout",
     "output_type": "stream",
     "text": [
      "(308,) (77,)\n"
     ]
    }
   ],
   "source": [
    "print(X_train.shape, X_test.shape)"
   ]
  },
  {
   "cell_type": "code",
   "execution_count": 18,
   "id": "97d799ad",
   "metadata": {},
   "outputs": [],
   "source": [
    "train_accuracy = []\n",
    "test_accuracy = []\n",
    "for i in range(1000):\n",
    "    data_X = np.squeeze(pd.DataFrame(df['meal_ingredients']))\n",
    "    data_y = np.squeeze(pd.DataFrame(df['expert_assessment']))\n",
    "    X_train, X_test, y_train, y_test = train_test_split(data_X, data_y, test_size=0.2, shuffle = True)\n",
    "    tfidf = TfidfVectorizer(max_features=100, lowercase=True, analyzer='word',\n",
    "                        stop_words= 'english',ngram_range=(1,3),dtype=np.float32)\n",
    "    train = tfidf.fit_transform(X_train)\n",
    "    test = tfidf.transform(X_test)\n",
    "    lr = LogisticRegression()\n",
    "    #scores = cross_val_score(lr, train, y_train, cv=3)\n",
    "    y_pred_train = cross_val_predict(lr, train, y_train, cv=3)\n",
    "    #y_pred_test = cross_val_predict(lr, test, y_test, cv=3)\n",
    "    lr.fit(train, y_train)\n",
    "    #y_pred_train = lr.predict(train)\n",
    "    y_pred_test = lr.predict(test)\n",
    "    train_accuracy.append(accuracy_score(y_train, y_pred_train))\n",
    "    test_accuracy.append(accuracy_score(y_test, y_pred_test))\n"
   ]
  },
  {
   "cell_type": "code",
   "execution_count": 19,
   "id": "9b4e9893",
   "metadata": {
    "scrolled": true
   },
   "outputs": [
    {
     "data": {
      "image/png": "[encoded data removed]",
      "text/plain": [
       "<Figure size 720x720 with 1 Axes>"
      ]
     },
     "metadata": {
      "needs_background": "light"
     },
     "output_type": "display_data"
    }
   ],
   "source": [
    "plt.figure(figsize=(10,10))  \n",
    "plt.hist(train_accuracy, bins = 25,\n",
    "             color = 'blue', edgecolor = 'black')\n",
    "plt.title('Train accuracy', size = 20)\n",
    "plt.xlabel('accuracy', size = 15)\n",
    "\n",
    "plt.show()"
   ]
  },
  {
   "cell_type": "code",
   "execution_count": 20,
   "id": "ebbd3894",
   "metadata": {},
   "outputs": [
    {
     "name": "stdout",
     "output_type": "stream",
     "text": [
      "0.8127337662337663\n",
      "0.012204646942153955\n"
     ]
    }
   ],
   "source": [
    "print(np.mean(train_accuracy))\n",
    "print(np.std(train_accuracy))"
   ]
  },
  {
   "cell_type": "code",
   "execution_count": 21,
   "id": "61bff9f1",
   "metadata": {},
   "outputs": [
    {
     "data": {
      "image/png": "[encoded data removed]",
      "text/plain": [
       "<Figure size 720x720 with 1 Axes>"
      ]
     },
     "metadata": {
      "needs_background": "light"
     },
     "output_type": "display_data"
    }
   ],
   "source": [
    "plt.figure(figsize=(10,10))  \n",
    "plt.hist(test_accuracy, bins = 25,\n",
    "             color = 'blue', edgecolor = 'black')\n",
    "plt.title('test accuracy', size = 20)\n",
    "plt.xlabel('accuracy', size = 15)\n",
    "#plt.ylabel('Flights', size= 22)\n",
    "\n",
    "#plt.tight_layout()\n",
    "plt.show()"
   ]
  },
  {
   "cell_type": "code",
   "execution_count": 22,
   "id": "b38f2b29",
   "metadata": {},
   "outputs": [
    {
     "name": "stdout",
     "output_type": "stream",
     "text": [
      "0.8246493506493507\n",
      "0.04068065679668092\n"
     ]
    }
   ],
   "source": [
    "print(np.mean(test_accuracy))\n",
    "print(np.std(test_accuracy))"
   ]
  },
  {
   "cell_type": "markdown",
   "id": "cd4f548f",
   "metadata": {},
   "source": [
    "# TFIDF Meal Title"
   ]
  },
  {
   "cell_type": "code",
   "execution_count": 23,
   "id": "7428b36b",
   "metadata": {},
   "outputs": [
    {
     "data": {
      "text/plain": [
       "0"
      ]
     },
     "execution_count": 23,
     "metadata": {},
     "output_type": "execute_result"
    }
   ],
   "source": [
    "df['meal_title'].isnull().sum()"
   ]
  },
  {
   "cell_type": "code",
   "execution_count": 24,
   "id": "af0d1e37",
   "metadata": {},
   "outputs": [],
   "source": [
    "df['meal_title'] = df['meal_title'].astype(str)"
   ]
  },
  {
   "cell_type": "code",
   "execution_count": 25,
   "id": "21ce221e",
   "metadata": {},
   "outputs": [],
   "source": [
    "df = df.dropna(axis=0, subset=['meal_title'])"
   ]
  },
  {
   "cell_type": "code",
   "execution_count": 26,
   "id": "80ff64e6",
   "metadata": {},
   "outputs": [
    {
     "data": {
      "text/plain": [
       "0"
      ]
     },
     "execution_count": 26,
     "metadata": {},
     "output_type": "execute_result"
    }
   ],
   "source": [
    "df['meal_title'].isnull().sum()"
   ]
  },
  {
   "cell_type": "code",
   "execution_count": 27,
   "id": "bcde9822",
   "metadata": {},
   "outputs": [],
   "source": [
    "document = []\n",
    "for i in df['meal_title']:\n",
    "    if i != '':\n",
    "        document.append(i)"
   ]
  },
  {
   "cell_type": "code",
   "execution_count": 28,
   "id": "efbfe5fc",
   "metadata": {},
   "outputs": [],
   "source": [
    "data_X = np.squeeze(pd.DataFrame(df['meal_title']))\n",
    "data_y = np.squeeze(pd.DataFrame(df['expert_assessment']))"
   ]
  },
  {
   "cell_type": "code",
   "execution_count": 29,
   "id": "330520b5",
   "metadata": {},
   "outputs": [],
   "source": [
    "X_train, X_test, y_train, y_test = train_test_split(data_X, data_y, test_size=0.2, shuffle = True)"
   ]
  },
  {
   "cell_type": "code",
   "execution_count": 30,
   "id": "60d37d32",
   "metadata": {
    "scrolled": true
   },
   "outputs": [
    {
     "name": "stdout",
     "output_type": "stream",
     "text": [
      "(308,) (77,)\n"
     ]
    }
   ],
   "source": [
    "print(X_train.shape, X_test.shape)"
   ]
  },
  {
   "cell_type": "code",
   "execution_count": 31,
   "id": "db321a56",
   "metadata": {},
   "outputs": [],
   "source": [
    "train_accuracy = []\n",
    "test_accuracy = []\n",
    "for i in range(1000):\n",
    "    data_X = np.squeeze(pd.DataFrame(df['meal_title']))\n",
    "    data_y = np.squeeze(pd.DataFrame(df['expert_assessment']))\n",
    "    X_train, X_test, y_train, y_test = train_test_split(data_X, data_y, test_size=0.2, shuffle = True)\n",
    "    tfidf = TfidfVectorizer(max_features=100, lowercase=True, analyzer='word',\n",
    "                        stop_words= 'english',ngram_range=(1,3),dtype=np.float32)\n",
    "    train = tfidf.fit_transform(X_train)\n",
    "    test = tfidf.transform(X_test)\n",
    "    lr = LogisticRegression()\n",
    "    #scores = cross_val_score(lr, train, y_train, cv=3)\n",
    "    y_pred_train = cross_val_predict(lr, train, y_train, cv=3)\n",
    "    #y_pred_test = cross_val_predict(lr, test, y_test, cv=3)\n",
    "    lr.fit(train, y_train)\n",
    "    #y_pred_train = lr.predict(train)\n",
    "    y_pred_test = lr.predict(test)\n",
    "    train_accuracy.append(accuracy_score(y_train, y_pred_train))\n",
    "    test_accuracy.append(accuracy_score(y_test, y_pred_test))"
   ]
  },
  {
   "cell_type": "code",
   "execution_count": 32,
   "id": "d0b96ce8",
   "metadata": {
    "scrolled": true
   },
   "outputs": [
    {
     "data": {
      "image/png": "[encoded data removed]",
      "text/plain": [
       "<Figure size 720x720 with 1 Axes>"
      ]
     },
     "metadata": {
      "needs_background": "light"
     },
     "output_type": "display_data"
    }
   ],
   "source": [
    "plt.figure(figsize=(10,10))  \n",
    "plt.hist(train_accuracy, bins = 25,\n",
    "             color = 'blue', edgecolor = 'black')\n",
    "plt.title('Train accuracy', size = 20)\n",
    "plt.xlabel('accuracy', size = 15)\n",
    "#plt.ylabel('Flights', size= 22)\n",
    "\n",
    "#plt.tight_layout()\n",
    "plt.show()"
   ]
  },
  {
   "cell_type": "code",
   "execution_count": 33,
   "id": "465077e9",
   "metadata": {},
   "outputs": [
    {
     "name": "stdout",
     "output_type": "stream",
     "text": [
      "0.7607435064935065\n",
      "0.01390183725334116\n"
     ]
    }
   ],
   "source": [
    "print(np.mean(train_accuracy))\n",
    "print(np.std(train_accuracy))"
   ]
  },
  {
   "cell_type": "code",
   "execution_count": 34,
   "id": "d1a07cd4",
   "metadata": {},
   "outputs": [
    {
     "data": {
      "image/png": "[encoded data removed]",
      "text/plain": [
       "<Figure size 720x720 with 1 Axes>"
      ]
     },
     "metadata": {
      "needs_background": "light"
     },
     "output_type": "display_data"
    }
   ],
   "source": [
    "plt.figure(figsize=(10,10))  \n",
    "plt.hist(test_accuracy, bins = 25,\n",
    "             color = 'blue', edgecolor = 'black')\n",
    "plt.title('test accuracy', size = 20)\n",
    "plt.xlabel('accuracy', size = 15)\n",
    "#plt.ylabel('Flights', size= 22)\n",
    "\n",
    "#plt.tight_layout()\n",
    "plt.show()"
   ]
  },
  {
   "cell_type": "code",
   "execution_count": 35,
   "id": "4cc532db",
   "metadata": {},
   "outputs": [
    {
     "name": "stdout",
     "output_type": "stream",
     "text": [
      "0.7653896103896103\n",
      "0.04285866782017324\n"
     ]
    }
   ],
   "source": [
    "print(np.mean(test_accuracy))\n",
    "print(np.std(test_accuracy))"
   ]
  },
  {
   "cell_type": "markdown",
   "id": "10d1cac0",
   "metadata": {},
   "source": [
    "# TFIDF Ingredients + Title"
   ]
  },
  {
   "cell_type": "code",
   "execution_count": 36,
   "id": "83ffcd2b",
   "metadata": {},
   "outputs": [],
   "source": [
    "df['ingredients_and_title'] = df['meal_ingredients'].astype(str) +' '+ df['meal_title'].astype(str)"
   ]
  },
  {
   "cell_type": "code",
   "execution_count": 37,
   "id": "6fc20b04",
   "metadata": {},
   "outputs": [],
   "source": [
    "document = []\n",
    "for i in df['ingredients_and_title']:\n",
    "    if i != '':\n",
    "        document.append(i)"
   ]
  },
  {
   "cell_type": "code",
   "execution_count": 38,
   "id": "e93f48a5",
   "metadata": {},
   "outputs": [
    {
     "data": {
      "text/plain": [
       "['Turkey burger salad Salad with turkey burger',\n",
       " 'Chicken salad Chicken with mixed vegetables',\n",
       " 'Boiling egg Boiling eggs with one cracker',\n",
       " 'Bagel egg 1/2bagel with one egg',\n",
       " 'Boiling egg coffee Coffee and egg',\n",
       " 'Lentil soup Lentil soup',\n",
       " 'Pepper onion tomato onion omelette Vegetables omelette',\n",
       " 'Quinoa vegetable Quinoa and vegetables',\n",
       " 'Salad sweet potato Salad ,sweet potatoes and avocado',\n",
       " 'Vegetables Rice , chicken',\n",
       " 'Avocado drink diet Sunkist Chicken soup, white rice',\n",
       " 'Milk Cornmeal',\n",
       " 'Avocado , potato diet ginger ale Rice broccoli , chicken',\n",
       " 'Grapefruit Cup of fruit',\n",
       " 'Avocado,diet Ginger ale Rice with gandules ,roasted chicken , potatoes',\n",
       " 'Steak,Season potato , Mac cheese water Steak dinner',\n",
       " 'Waffel,bacon Waffel',\n",
       " 'Almond,pecan,lettuce,grilled chicken,apple Salad',\n",
       " 'Steamed dinner> Salmon 4shrimp. Broc carrot steamed potato Wed nite fish nite...steamed',\n",
       " '2 pkgs cream wheat one flavored 1 plain coffee 1 water Up and on the go sat morn',\n",
       " 'Peach yogurt Water and yogurt',\n",
       " 'Coffee water 3 slice whole wheat tst margarine marmalade A carb breakfast made by someone else',\n",
       " 'Tomatoes salad chiken cutlet Sunday dinner',\n",
       " 'Water Gatorade shrimp salad lettuce tomato rye bread 1/2 sandwich and Gatorade',\n",
       " 'Coffee. Water 2 instant sugar free oatmeal water.... Long travel day eat right. Feel right',\n",
       " 'Water coffee chobani Greek yogurt Lite breakfast',\n",
       " 'Sweet potatoe pie 1/2 slice 1/2 is my new way cutting everything in 1/2',\n",
       " 'Lentils. Water coffee Breakfast for champs',\n",
       " 'Turkey Swiss let tomato mayo Water. 8oz fresh squeeze juice Changing ham for turkey',\n",
       " 'Shrimp salad wrap w.w wrap Lettuce tomato avacado Late night dinner cut in half',\n",
       " 'Coffee. Water.mini thin bagel peanut butter strawberry jelly Mini thin bagel panda j',\n",
       " '2 boiled egg 3 waffle ...sugar free syrup Strawberries butter ham .. Must be my last meal?\\nBreakfast for 5?',\n",
       " 'Water. 1/2shrimp salad rye lettuce tomato veg noodle soup orange Soup sandwich and desert',\n",
       " '5 grain Cheerios banana almond milk water coffee. Cheerios for champs...',\n",
       " 'Chicken celery olive red pepper onion \\uf8ffüçÖ 2nd meal of day a goal setting meal',\n",
       " 'Weight control oatmeal nectaarine coffee water Cereal and fruit\\nWater',\n",
       " 'Bowl chicken vegetale soup 1/2 10grapes 1 small Clementine 1 peach Greek yogurt. 8 oz water Easy and light on busy warm day',\n",
       " 'Apple Cole slaw water Brunch \\uf8ffüçÄturkey swiss avocado lettuce tomato on wheat',\n",
       " 'Weight control oatmeal Orange water coffee Off to a Health start of the week',\n",
       " '2 x ham/Swiss rapps, small potato salad 16 oz bottle water. Ham and Swiss rap, potato salad and bottle of water.',\n",
       " 'Stuffed shells, mixed salad 16 oz bottle water. Stuffed shells, mixed salad and bottle of water.',\n",
       " 'BBQ rib yellow rice Gandules olives. Mixed salad: baby spinach greens, cucumber cherry tomato olive oil dressing. BBQ ribs on yellow rice. Mixed salad and bottle of water.',\n",
       " 'White rice, red bean steak onions. 16 oz bottle water. White rice and red beans with ham, steak and onions. Bottle of water.',\n",
       " '3 x chicken taco Pico de gallo avocado. 23 oz bottle water. Chicken tacos and bottle of water.',\n",
       " 'Beef stew, whole wheat bread 17 oz bottle water. Sancocho (vegetable beef stew), whole wheat bread and bottle of water.',\n",
       " 'Figs, mixed nuts: pecans, pumpkin seeds, sunflower seeds, hazel nut wall nuts. Dried pineapple, papaya raisins. 16 oz bottle water. Mixed nuts and bottle of water.',\n",
       " 'Chicken Alfredo bottle water. Chicken Alfredo and bottle of water.',\n",
       " 'Meat loaf, steamed veggie 16 oz bottle water Meat loaf, mashed potatoes and steamed veggies \\n Bottle of water.',\n",
       " 'Yellow rice Gandules BBQ ribs. Mixed salad: spinach, cherry tomatoes, cucumber feta cheese. 16 oz bottle water. Yellow rice with Gandules and BBQ ribs. Mixed salad and bottle of water.',\n",
       " 'Bowl Lentil soup, 2 x ham & cheese sandwich 16 oz bottle water. Bowl of Lentil soup, ham & cheese on whole wheat sandwich and bottle of water.',\n",
       " 'Meat loaf, mashed potatoes. Mixed salad: spinach cucumbers, peppers, cherry tomato avocado. 16 oz bottle water. Meat loaf, mashed potatoes, mixed salad and bottle of water.',\n",
       " 'Noodles meatballs, mixed salad: mixed greens, peppers, carrots, cherry tomatoes, cucumbers. 16 oz bottle water. Noodles and meatballs, mixed salad and bottle of water.',\n",
       " 'Yellow rice red bean 1x piece BBQ ribs. Glass V8 Yellow rice with red beans and BBQ ribs. Glass of V8.',\n",
       " 'Hearty Beef & vegetable soup. Ritz cracker 16 oz bottle water. Hearty Beef & vegetables soup, rim of Ritz. Bottle of water.',\n",
       " \"General Tso's chicken, vegetable fried rice, 1x dumpling 12 oz glass V8 General Tso chicken, vegetable fried rice and glass of V8\",\n",
       " 'Yellow rice red beans, asparagus chicken cutlets. Mixed salad: spinach, carrots, cucumber. Cherry tomatoes. 16 oz bottle water. Yellow rice with red beans, chicken cutlets and asparagus. Mixed salad and bottle of water.',\n",
       " '6 oz cup yogurt. 16 oz bottle water. Yogurt and bottle of water.',\n",
       " 'Yellow rice red beans. Chicken cutlet steamed mixed vegetables: carrots, broccoli, pea 16 oz bottle water. Yellow rice with red beans, chicken cutlets, mixed veggies and bottle of water.',\n",
       " 'Half Roast chicken, vegetables, yellow rice Gandules 16 oz bottle water. Half Roast chicken, vegetables, yellow rice with Gandules and olives. Bottle of water.',\n",
       " 'Yellow rice Gandules BBQ ribs. 16 oz glass V8. Yellow rice with Gandules and BBQ ribs. Glass of V8',\n",
       " 'Split pea soup Dagwood sandwich. Split pea soup with Dagwood sandwich.',\n",
       " 'Garbanzos pork yellow rice. Garbanzos with pork, yellow rice.',\n",
       " 'Bowl oatmeal, 2 x hard-boiled egg cup black coffee 2 x tspn raw sugar. Bowl of oatmeal, hard-boiled eggs and cup of black coffee.',\n",
       " 'Yellow rice red beans, steak onions. Mixed salad: spinach, cucumber, cherry tomato peppers. 16 oz bottle water. Yellow rice with red beans, steak with onions. Mixed salad and bottle of water.',\n",
       " 'Grilled Ham & cheese sandwich 16 oz cup black coffee 2 x tspn raw sugar. Grilled Ham & cheese sandwich and 16 oz cup of coffee black coffee.',\n",
       " 'Macaroni/cheese, 3 x BBQ rib 16 oz glass V8 Macaroni/cheese, BBQ ribs and glass of V8.',\n",
       " 'Pepperoni pizza (2xslices) chicken nugget 16 oz bottle water. Pepperoni pizza, chicken nuggets and bottle of water.',\n",
       " 'Lasagna, garlic knots, green salad bottle water. Lasagna, garlic knots, salad, bottle of water.',\n",
       " 'Yellow rice red bean pumpkin, steak onion avocado. 16 oz bottle water. Yellow rice with steak/onions, avocado and red beans with pumpkin. Bottle of water.',\n",
       " 'Yellow rice Gandules olives. Mixed salad: spinach, lettuce, tomato, carrot cucumber. Pork chop 16 oz bottle water. Yellow rice with Gandules and olives. Pork chops and mixed salad. Bottle of water',\n",
       " 'Macaroni salad: cherry tomatoes, celery, green onions, pumpkin/sunflower seeds. 16 oz bottle water. Macaroni salad with pan de Mesa. Bottle of water.',\n",
       " 'Yellow rice corned beef, banana cup black coffee 2 tspn raw sugar. Yellow rice with corned beef, banana and cup of black coffee.',\n",
       " 'Egg cheese roll, banana cup black coffee 2 tspn sugar. Egg and cheese on a roll. Banana and cup of coffee.',\n",
       " 'Pasta & meatballs, mixed salad: spring greens, carrots, cherry tomato strawberry. 16 oz bottle water. Pasta & meatballs, mixed salad and bottle of water.',\n",
       " 'Yellow rice red beans, 2 x piece BBQ ribs, mixed salad: cucumber, strawberry, tomato leafy greens. 16 oz bottle water. Yellow rice/red beans, BBQ ribs, mixed salad and bottle of water.',\n",
       " 'Yellow rice chicken carrots/peppers. 1x banana 16 oz bottle water. Yellow rice and chicken with carrots/peppers, banana and bottle of water.',\n",
       " 'Yellow rice BBQ ribs, banana 12 oz glass V8 Yellow rice and BBQ ribs, banana and glass of V8.',\n",
       " 'Yellow rice red beans, steak onions, mixed salad: spinach, cucumber, cherry tomatoes, strawberry. 16 oz bottle water. Yellow rice with red beans, steak with onions, mixed salad and bottle of water.',\n",
       " 'Yellow rice black beans, avocado pork chops. 16 oz bottle water. Yellow rice with black beans and pork chops. Avocado and bottle of water.',\n",
       " 'White rice, red bean pumpkin, spam okra. White rice, red beans with pumpkin, spam and okra.',\n",
       " 'Spanish style oatmeal 16oz reg milk mix cinnamon n oatmeal With cup water 16oz oatmeal',\n",
       " 'Organic 6oz Orange 12oz broccoli cheddar soup au bu pon Soup n juice',\n",
       " 'Cashews rasin 12oz ice coffee milk two Splenda Cashews and rasin',\n",
       " 'Shrimp egg roll two packet fuck sauce n Arizona ice tea Egg roll',\n",
       " 'Slice marble pound cake 12 oz whole milk Sweet and milk',\n",
       " 'Eggs bean frank small cup black cofffe one Splenda Eggs n coffee',\n",
       " 'Two cinnamon pop tart large coffee milk four Splenda Pop tart',\n",
       " 'Two corn tortilla cabbage red beet ground beef half boiled egg dice tomato tomato sauce Enchiladas',\n",
       " 'No salt. Pistachio',\n",
       " 'None Yellow  rice red beans call flower broccolli carrots.steak a\\nNd water.',\n",
       " '2cups rice goya red bean steak n avocado Test',\n",
       " 'Rice green paguen steak Rice green pigeun and steak',\n",
       " 'Rice rib chayote guandule Rice meat and guandule',\n",
       " 'Rice bean chicken meat ball lettuce tomato Rice mixed with beans and chicken meatballs with salad',\n",
       " 'Rice chicken salad Rice grilled chicken and salad',\n",
       " 'Rice chicken bean Rice with chicken and beans',\n",
       " 'Turkey cheese lettuce tomato onion mayo Sandwich',\n",
       " 'Rice shrimp broccoli Rice shrimp and broccoli',\n",
       " 'Bun, ham, cheese, lettuce, tomatoes. Orange juice. Sandwich',\n",
       " 'Rice steak Rice and steak',\n",
       " 'Penne witg grill chicken breast Penne with grill chicken breast',\n",
       " 'Brown rice chicken Rice and chicken',\n",
       " 'Salmon rice bean Salmon rice and beans',\n",
       " 'Potato salad egg amd sirlion steak oven Potato salad with eggs and steak in the oven',\n",
       " 'Fry fish n fry plantain Fish n plantain',\n",
       " 'Spaghetti shrimp Spaghetti with shrimp',\n",
       " 'Salmon rice salad Salmon rice and salad',\n",
       " 'Rice broccoli egg potato salad chicken Rice potato egg and broccoli Salad with chicken',\n",
       " 'Rice oil salt Rice shrimp and broccoli',\n",
       " 'Corn steak string bean Corn meat and string beans',\n",
       " 'Rice oil salt garlic seasoning mazola oil n garlic Rice steak pasta  n salad spinach cabbage',\n",
       " 'Oil dash salt Steak rice beans n vegtable',\n",
       " 'Manila oil dash squash Rice and beans with pork chop',\n",
       " 'Ham cheese lettuce tomato sandwich Ham cheese lettuce and tomatoes sandwich',\n",
       " 'Rye bread vegan patty kettle fry lettuce, carrots. Mayo mustard ketchup. Vegan food',\n",
       " 'I cup honey nut chex, milk 2%, nut dry blueberries. 2 cooky Cereal',\n",
       " 'Chicken rice soup Gral Tso chicken',\n",
       " 'One piece chicken salad lettuce tomato chicken steamed veggies. Salad with chicken and vegetables',\n",
       " 'Lettuce tomato chicken quinoa bean corn ranch dressing Salad lettuce tomatoes',\n",
       " 'One portion chicken salad lettuce tomato ranch dressing crouton Chicken and salad',\n",
       " 'Cheese, flour tortilla bread coffee. Quesadilla and 2 bread pieces',\n",
       " 'Tuna sandwich cheese lettuce carrots. Filet of fish with salad',\n",
       " 'Salad baby lettuce, green raddicchio tomato olives, 2 table spoon dressing blue cheese sardines. Two hotdog mayo sauerkraut. Salad with hotdogs',\n",
       " 'Salad lettuce, tomatoes, cucumbers, olive oil Parmesan cheese shrimp parmigiana Salad with shrimp parmigiana',\n",
       " 'Foot long Italian meat ball lettuce tomato onion olive jalapeno cheese, potato chip diet Coke, one chocolate chip cookie. Sandwich with soda and cookie',\n",
       " 'Sausage egg cheese sandwich banana bread coffee 2% fat milk Splenda Sandwich and banana bread',\n",
       " 'Cesar salad romaine iceberg lettuce, white meat chicken, Parmesan cheese, garlic bread. 8 chicken wing BBQ sauce Salad and chicken wings',\n",
       " 'One flour tortilla egg sausage, 2 small cinnamon piece iced coffee coffee creamer Splenda Quesadilla and coffee',\n",
       " 'Salad lettuce tomato cucumbers, shrimp parmigiana cheese. Salad with shrimp',\n",
       " '2 scrambled egg ham, salsa mazola oil Eggs and ham',\n",
       " 'Sausage egg cheese burrito salsa one cup coffee cream Splenda 3 chocolate chip cooky Burritos and cookies',\n",
       " 'Salad lettuce tomato mushroom crab meat Chicken wing Salad with crab and wings',\n",
       " '2 scrambled egg sausage grape hotdog Eggs and fruit grapes',\n",
       " 'Salad dressing lettuce tomato mushroom olive crab meat one hotdog ketchup mayo Salad and hotdog',\n",
       " '2 scrambled egg sausage mushroom grape one cup coffee cream. Eggs with mushrooms and fruit',\n",
       " 'Burger fry ketchup Cesar salad chicken cheese lettuce Burger and salad',\n",
       " '2 scrambled egg sausage mushroom beans. The egg prepared mazola oil. Eggs with beans',\n",
       " '2 fish cake rice bean pork chops. Fish with rice',\n",
       " '2 scrambled egg mushroom turkey bologna, prepared mazola oil bean Eggs with beans',\n",
       " 'One egg tu Eggs and water',\n",
       " 'Fried rice pork rib Rice pork',\n",
       " 'Sausage egg cheese sandwich banana bread coffee 2 percent fat milk Splenda Sausage egg and cheese sandwich and coffee',\n",
       " 'Pork tip fried rice chicken shrimp, onion pea Pork tips and rice',\n",
       " 'One sausage egg cheese ketchup banana bread coffee 2% milk Splenda Sausage egg and cheese sandwich with banana bread and coffee',\n",
       " 'Salad tomato, lettuce, cheese olive oil cucumbers, shrimp parmigiana Salad and shrimp parmigiana',\n",
       " '2 scrambled egg bean sausage mushroom prepared mazola oil one table spoon brownie Egg with beans',\n",
       " 'Fried rice chicken, broccoli onion egg roll. Soy sauce spicy sauce. Gral TSO chicken',\n",
       " 'Salad dressing spinach Parmesan cheese, tomato mushroom tuna beef hotdog Salad and hotdog',\n",
       " '2 breakfast burrito one bowl cereal milk cooky coffee half half. Flakes and sausage egg burritos',\n",
       " 'Salad dressing lettuce Coleslaw crab pea rice chicken Chicken with salad and rice',\n",
       " '2 sausage egg cheese burrito cooky one coffee cream Splenda Burritos and cookies',\n",
       " 'Salad dressing lettuce tomato onions, salmon baked potato. Salad and salmon',\n",
       " '2 scrambled egg bologna cereal milk one slice pie. Scrambled eggs with bologna cereal',\n",
       " 'Wheat bread chicken lettuce, tomato, onion, cheese Olives, jalapeno peppers, dressing. Chips diet Coke Sub with chips',\n",
       " 'Lettuce tomato, carrots, ranch dressing, portion mashed potato pork chop. Salad and pork chop',\n",
       " 'Lettuce tomatoes, tuna, ranch dressing, raisin, nuts, croutons, taco made flour tortillas, chicken vegetable cheese bacon \\uf8ffü•ó and \\uf8ffüåÆ',\n",
       " 'Cheerios milk banana one energy bar energy drink Cheerios and energy bar',\n",
       " 'One bowl Cheerios milk 2%, fruit apple \\uf8ffüçê Fruit and Cheerios',\n",
       " 'Egg white scrambled egg bacon fruit pineapple, melon, grape. Hot cakes, corn syrup ketchup. Eggs and fruit',\n",
       " 'Banana, yogurt, watermelon, cantaloupe, milk 2%=and Cheerios oats. Fruits and Cheerios',\n",
       " '2% milk, banana, one apple, Cheerios oats. Fruits and Cheerios',\n",
       " 'Banana, nuts, cranberries, 2% milk Cheerios whole grain oats. Cheerios and milk',\n",
       " 'Strawberries banana blueberry 2% fat milk one bar chocolate hazelnut butter 1.76oz Protein shake and enery bar',\n",
       " '1/2cup oat banana, 2% fat milk. Oats and fruit',\n",
       " 'Scrambled egg sausage 1/2 cup beans. One banana Eggs and fruit',\n",
       " 'One portion pork chop salad seaweed squid, sesame oil, vinegar red pepper, 4oz 6 grape Pork chop with salad and fruit',\n",
       " 'Cheese brie, Gouda, one cup fruit grapes, apple, pumpkin scone iced coffee milk Cheese with fruit',\n",
       " '2 scrambled egg bean sausage mushrooms, one portion pear slices. Eggs and fruit',\n",
       " 'Scrambled egg bean ham mushrooms, one hotdog, cookie pear slice juice Eggs and fruit',\n",
       " '2 scrambled egg bologna bowl cereal raisin 2% milk Cereal with eggs',\n",
       " 'egg half mini bagel small plum water. Egg and fruit',\n",
       " 'Cheerios Test',\n",
       " 'Dough tomato sauce cheese NY pizza',\n",
       " 'Lettuce. Tomatoes onion Salad.',\n",
       " 'Chicken pea tomato sauce Chicken peas tomato sauce',\n",
       " 'Chicken pea tomato sauce Chicken peas tomato sauce',\n",
       " 'Chicken pepper onion garlic. Garbanzo onion pepper garlic. Chicken and garbanzo salad',\n",
       " 'Steak strip tomato sauteed onion fajita Steak',\n",
       " \"Spinach swiss cheese onion peppers. 12oz Spinach 'lasagna' NO NOODLES\",\n",
       " 'Gkucerna 12 oz water Glucerna',\n",
       " 'See 3 oz chicken 1 small apple 1 baby bel',\n",
       " 'Skirt steak brussel sprout one slice low carb bread Steak',\n",
       " 'Glucerna 1 cup strawberry Hi BS???',\n",
       " 'Lettuce steak chicken chunk Salad at moes',\n",
       " 'Small green apple glucerna 8oz Glucerna',\n",
       " 'Skirt steak onion salad. 16 oz Steak',\n",
       " 'Skirt steak. Cabbage carrot pepper onion blend. 12oz water Steak and veggies',\n",
       " 'Low sodium ham cheese low carb popcorn cake Han and cheese',\n",
       " 'Bacon egg 12 oz Bacon eggs',\n",
       " 'Glucerna Glucerna',\n",
       " '1 egg 3 thin slice low sodium ham Ham and egg',\n",
       " 'Spinach frittata, shrimp cabbage/carrots stir fry. 16 oz water Shrimp stir fry',\n",
       " '10g protein. 12 oz water. Glucerna',\n",
       " 'Chicken cabbage Garlic chicken',\n",
       " 'Spinach leftover one hot dog bun Spinach',\n",
       " 'Garlicky chicken spinach Chicken and spinach',\n",
       " 'Carb steady 8oz Dependable option!',\n",
       " 'Glucerna 12 oz water Glucerna',\n",
       " 'Light low carb crepe spinach tomato sauce parmesan cheese Spinach crepe',\n",
       " 'Ribs tomato green bean Pork ribs',\n",
       " 'Turkey 12 oz water Spinach crepes',\n",
       " 'glucerna 12oz water Glucerna',\n",
       " 'Think bagel scrambled egg Flagel and egg 12 oz water',\n",
       " 'Skirt steak tomato cabbage. 12 oz water Steak',\n",
       " 'Steak tomato onion Steak',\n",
       " 'No croutons. Light citrus dressing Caesar salad with shrimp',\n",
       " 'Light balsamic dressing Chicken and lettuce',\n",
       " 'Low carb crepe Spinach crepe',\n",
       " 'Steak salad brussel sprout Steak',\n",
       " 'Low sodium ham baby bell Ham and cheese',\n",
       " 'No crouton Chicken casear',\n",
       " 'Glucerna 8oz, water 12oz Go to meal',\n",
       " 'Half bun...lettuce tomato Hamburger',\n",
       " 'Lettuce onion pepper chicken steak...7 chips... Moes salad',\n",
       " '8oz 12 oz water Glucerna',\n",
       " 'Veal saltimboca Brussel sprout Veal',\n",
       " 'Spinach egg light mozzarella cheese tomato cabbage etc Spinach frittata and veggies',\n",
       " 'The usual: glucerna + 12 oz water Glucerna',\n",
       " 'Steak beet pepper 12 oz Steak',\n",
       " 'Go breakfast option Glucerna and 12 oz water',\n",
       " 'Glucerna least 12oz water Usual',\n",
       " 'Glucerna 12 oz water Brkfst',\n",
       " 'Stir fry shrimp cabbage sauteed onions. Water apple sauce. Stir fry shrimp',\n",
       " 'Skirt steak cabbage Steak veggies',\n",
       " 'Glucerna 12 oz water The ususal',\n",
       " 'Chicken cabbage. Unsweetened applesauce 30 minute ago. 12 oz water Chicken',\n",
       " 'Dreamfields pasta meat sauce...lots fresh tomato Pasta!!!!',\n",
       " 'Wawa caesar salad Caesar salad with chicken Nd 16oz coor zero apple',\n",
       " 'Low fat hot dog onion sauce. Small apk. 16 ox water Hotdogs',\n",
       " 'Chicken cabbage pepper onion Chicken',\n",
       " 'Left over last nite Chicken and cabbage',\n",
       " 'Shrimp lettuce 20 oz water Shrimp insalata Bertuccis',\n",
       " '10g protein 16g carbs... Glucerna',\n",
       " 'Burger spinach onion burger and spinach',\n",
       " 'Glucerna apple water Glucerna',\n",
       " 'Spinach strawberry Spinach frittata',\n",
       " 'Center cut sirloin, asparagus side salad Steak',\n",
       " 'Plus 16 oz water Glucerna',\n",
       " 'Tuna green bean egg Tuna',\n",
       " 'Steak onion tomato Steak',\n",
       " 'Plus 12 oz water Glucerna',\n",
       " 'Chick filet grilled chicken sandwich. Whole wheat bread. Diet soda grilled chicken',\n",
       " 'With onion tomatoes. And apple. Plus 16oz water Grilles chicken',\n",
       " 'Wheat bun burger brussel sprout Burger',\n",
       " 'Lettuce cabbage green bean egg tuna small roll Salad',\n",
       " 'Roasted veggie Salmon',\n",
       " 'Egg well turkey sausage. Fruit plus water One egg',\n",
       " 'Salad chicken water Salad with chicken',\n",
       " 'Skirt steak beet onion cabbage salad plus tomato water Steak',\n",
       " 'Atkins 14g protein 4g net carbs peanut Meal bar',\n",
       " 'Steak beet cabbage onion Steak leftovers',\n",
       " 'Quiche lorraine trader joe...11g carb serving. Cabbage salad. Small apple dessert. Quiche and salad',\n",
       " '12 0z water Glucerna and water',\n",
       " 'Shrimp garlic paprika sauce. Brussels sprout Brussel sprouts and shrimp',\n",
       " 'Eggs bacon. Strawberry water Breakfast for lunch',\n",
       " 'Outback restaurant chicken caesar. Water. Chicken caesar',\n",
       " 'Brussel sprout tomato onion Chicken and veggies',\n",
       " 'Glucerna water Glucerna',\n",
       " 'Salad steak onion water Mira steak salad',\n",
       " 'Brussels sprout chicken leftovers.. Brussels sprouts and chicken',\n",
       " 'Broiled pork sauteed cabbage. Plus jello Pork and cabbage',\n",
       " '15 g protein 10 oz! Glucerna and water',\n",
       " 'Brown fried rice Brown rice and sardines',\n",
       " 'Peruvian style Steak and salad with fries',\n",
       " 'Apple toast cheese Breakfast',\n",
       " '8oz coffee 8oz water. 1 egg. Canadian bacon. Whole wheat. Tomoat Brunch with friend',\n",
       " 'Small green apple 8oz glucerna plus 8oz water Yum',\n",
       " 'Apple Apple',\n",
       " 'Small plate Slice cheese. Grapes. Pineapple. Cracker',\n",
       " '80z lucerne 5 large strawberry Yum!',\n",
       " '4oz ham baby bel cheese low carb popcorn cake strawberry Low sodium ham and cheese',\n",
       " '1 cup strawberry 8 oz glucerna. Breakfast',\n",
       " 'Brussel sprout steak. Strwaberries Leftovers',\n",
       " 'Fried chicken white rice. 12 oz water. Green apple. Too many carbs!!!',\n",
       " 'Egg bread slice apple 16 oz water Egg',\n",
       " 'Brolied flounder salad 16oz water. Peach. Fish and salad',\n",
       " '4 slice ham 3 swiss cheese beet green apple...as always 8oz water Beet and ham salad',\n",
       " 'Strawberries 6oz skim milk protein powder smoothie Strawberry smoothie',\n",
       " 'Almonds unsweetened applesauce Sugar hi so go lite',\n",
       " 'Low sodium ham 1 baby bell small apple Apple cheese 1 slice ham',\n",
       " '12 oz water Salad and ham chips and apple',\n",
       " 'Plus 12 oz water small apple Glucerna',\n",
       " 'Spinach caesar salad chicken pear...12 oz water Spinach frittata',\n",
       " 'Spinach frittata apple 16 oz Spinach',\n",
       " '1 cup cabbage shrimp stir fry. 12 oz. Small apple. Shrimp cabbage stir fry',\n",
       " 'Glucerna apple 12 oz water Glucerna',\n",
       " 'Glucerna apple water Glucerna',\n",
       " 'Half Caesar salad panera apple 1 pt water Caesar with chicken',\n",
       " 'Glucerna small apple 12 oz water Glucerna',\n",
       " 'Plus 12oz water strawberry Glucerna',\n",
       " 'Plus 12 oz water...strawberries Glucerna',\n",
       " 'Spinach water small apple Spinach fritatta',\n",
       " 'Plus 12oz water. Small apple Glucerna',\n",
       " 'Panera caesar salad half 16 oz water small apple Caesar salad with chicken',\n",
       " 'Plus 12 oz water small apple Glucerna',\n",
       " 'Plus skinny pop tarts. Apple water Cheese and han wraps',\n",
       " 'Glucerna plus water plus small apple Glucerna',\n",
       " 'Plus small apple 12 oz water Glucerna',\n",
       " 'Glucerna plus water small apple Glucerna',\n",
       " 'Eggs bacon plus water small apple Eggs and bacon',\n",
       " 'Glucerna plus 16 oz water strawberry Glucerna',\n",
       " 'Plus water strawberry Glucerna',\n",
       " 'Plus water strawberry Glucerna',\n",
       " 'Sprouts peanut water. Peach Brussels sprouts',\n",
       " 'And apple plus water Glucerna',\n",
       " 'Small apple water Glucerna',\n",
       " 'Water small apple Glucerna',\n",
       " 'Glucerna water strawberry Glucerna',\n",
       " 'cherrios, 2% milk - 1 cup, 1teaspoon sugar. test',\n",
       " 'Baked potato butter Mashed potato Steak Test',\n",
       " 'Hash brown Eggs and avocado',\n",
       " 'Eggs, salsa sausage Cassava eggs and sausage',\n",
       " '2 Turkey bacon and egg white',\n",
       " 'Vanilla ice cream. Icecream',\n",
       " 'Sweet potato fries, hot sausage. Sweet potato fries',\n",
       " 'Salmon, cornmeal. Tartar sauce. Hot sauce. Fish',\n",
       " 'Chicken wing Chicken',\n",
       " 'Wheat rolls, hot sausage, raspberry preserves. Rolls and sausage.',\n",
       " 'Chicken, pork, tomatoes, Brown rice, potato. Soup',\n",
       " 'Biscuits, raspberry preserves, margarine. Biscuits',\n",
       " 'Brown rice, corn, pork chop. Corn and rice.',\n",
       " 'Brown rice, pork chop, ravioli, corn, Meat and rice',\n",
       " 'Cabbage, macaroni cheese, cornbread, beef, Turkey smoked wings, mini potato. Cabbage dinner.',\n",
       " 'Egg roll Egg roll',\n",
       " 'Chunky peanut butter cereal. Cereal',\n",
       " 'Cereal cheddar cheese sheds. Cereal',\n",
       " 'Beans rice, corn cob, platanos Rice and corn.',\n",
       " 'Hot sausage, orange, corn cob, pork beans, rice, salmon. Fruit and food.',\n",
       " 'Grits, oatmeal, mixed fruit, margarine. Cereal and fruit.',\n",
       " 'Shredded sharp cheese, pork chop, orange, cereal. Meat and cheese.',\n",
       " 'Orange, Brown rice, soup.hot sausage. Olives, tomato sauce, corn. Soup and rice.',\n",
       " 'Rice platano edamame salmon Salmon and veggie brown rice',\n",
       " 'Salmon. Cheese egg bread Eggs and whole wheat bread',\n",
       " 'Zucchini green cabbage pepper Chicken and vegetables',\n",
       " 'Red pepper egg spinach bread Spinach and bread',\n",
       " 'Eggs arugula quinoa avocado Quinoa avocado',\n",
       " 'Eggs tomato zucchini bread onion Quinoa and zucchini',\n",
       " 'Orange Orange',\n",
       " 'Cheese egg platano Mangu and eggs',\n",
       " 'Blueberry whole cinnamon Whole wheat pancakes',\n",
       " 'Yogurt banana cantaloupe Banana',\n",
       " 'Roll egg bacon salt pepper ketchup coffee Breakfast sandwhich',\n",
       " 'Veggie burger potato pancake water Veggie Burger',\n",
       " 'Spinach tomato cucumber roasted unsalted sunflower seed green olive anchovy olive oil salt pepper balsamic vinegar water Salad',\n",
       " 'Kix cinnamon puffin cereal low-fat milk water Cereal',\n",
       " 'Chicken cherry maple glaze shrimp broccoli rice pilaf water lemon Chicken shrimp @Red Lobster',\n",
       " 'Sausage egg cheese bagel coffee Dunkin',\n",
       " 'Chicken roasted sweet potato salad Dinner',\n",
       " 'Eggs spinach onion green olive mushroom cheddar cheese whole wheat bread small potato water Eggs',\n",
       " 'Cauliflower herb salt pepper Cauliflower Soup',\n",
       " 'Bagel egg sausage cheese pepper ketchup Bagel dunkin',\n",
       " 'Grilled chicken breast herb balsamic vinegar Chicken',\n",
       " 'Wrap egg cheese pepper ketchup Wake up wrap',\n",
       " 'Soy chorizo Avacado red bell pepper onion whole wheat wrap siracha hot sauce water Stir fry burrito',\n",
       " 'Turkey water Turkey',\n",
       " 'Spinach tomato dried cranberry unsalted roasted sunflower seed cucumber green olive red onion anchovy light Ceaser dressing water Salad',\n",
       " 'Turkey whole wheat bread ketchup mustard hot sauce Turkey sandwich',\n",
       " 'Spinach tomato red onion sunflower seed dried cranberry green olive cucumber anchovy water Salad',\n",
       " 'Spinach cucumber dried cranberry onion green olive sunflower seed tomato anchovy water Salad',\n",
       " 'Sugar snap pee Sugar snap pees',\n",
       " 'Chicken water carrot celery onion herb whole wheat bread coffee Soup',\n",
       " 'Eggs spinach green olive onion potato ketchup coffee water Eggs',\n",
       " 'Bread cheese pastrami saurerkraut French fry pickle coke slaw water Reuben',\n",
       " 'Eggs kale onion obliges potato eater Eggs',\n",
       " 'Sugar Snap Peas wter Sugar Snap Peas',\n",
       " 'General tzo chicken egg roll shrimp lo mein mountain dew General Tzo Chicken',\n",
       " 'Trader Joe‚Äôs meatless veggie patty potato pancake Veggie sausage and potato pancakes',\n",
       " 'Two hot dog sauerkraut ketchup mustard two bun water Greys papaya',\n",
       " 'Pizza Pizza',\n",
       " 'Cauliflower soup chicken leg quarter roasted herb lettuce edamame sunflower seed tomato onion dried cranberry lemon juice avocado oil olive oil salt pepper garlic powder Chicken salad soup',\n",
       " 'Non fat Greek yogurt hemp seed Trader Joe‚Äôs matcha green tea wayer Non fat yogurt',\n",
       " 'Mixed lettuce tomato sunflower seed red onion dried craberries carrot olive oil avocado oil lemon juice water Salad',\n",
       " 'Portobella mushroom whole wheat bread mixed lettuce tomato cucumber onion sunflower seed balsamic vinegar olive oil pomella water Portobella mushroom',\n",
       " 'Sugar snap pea blood orange water Peas and orange',\n",
       " 'Blueberries orange water Fruit and water',\n",
       " 'Half Pamello 6 inch whole honey wheat bread spinach onion tomato turkey olive pickle jalape√±os sweet onion sauce yellow mustard Subway sandwhich and half Pamello',\n",
       " 'Chick Pease Red Beans Chives Apple Cider Vinegar Himalayan Pink Salt Italian Herbs Basil Water 2 Beans Salad',\n",
       " 'Water Cucumber Stevia Lemon Cucumber Lemonade',\n",
       " 'Strawberries Walnuts Water Fruit and Nuts',\n",
       " 'Lettuce Charged Tomatoes Chrissy Red Bell Peppers Chill Lime Pepitas Strawberries Blueberries Blue Cheese Grilled Chicken Olives Black Beans Salad',\n",
       " 'Blueberries Walnuts Water Nut Snack',\n",
       " 'Walnuts Almonds Blackberries Water Snack Treats',\n",
       " 'Almonds Apple Water Morning Snack',\n",
       " 'Tangerine \\uf8ffüçä Water Water',\n",
       " 'Chicken Breast Chick Pease Jerked Seasoning Olive Oil Cumin Garlic Garlic Powder Chopped Onion Basil Italian Herbs Chives Water Jerked Chicken Breast and Chick Pease']"
      ]
     },
     "execution_count": 38,
     "metadata": {},
     "output_type": "execute_result"
    }
   ],
   "source": [
    "document"
   ]
  },
  {
   "cell_type": "code",
   "execution_count": 39,
   "id": "c5fdc9bb",
   "metadata": {},
   "outputs": [],
   "source": [
    "data_X = np.squeeze(pd.DataFrame(df['ingredients_and_title']))\n",
    "data_y = np.squeeze(pd.DataFrame(df['expert_assessment']))"
   ]
  },
  {
   "cell_type": "code",
   "execution_count": 40,
   "id": "2fc54845",
   "metadata": {},
   "outputs": [],
   "source": [
    "X_train, X_test, y_train, y_test = train_test_split(data_X, data_y, test_size=0.2, shuffle = True)"
   ]
  },
  {
   "cell_type": "code",
   "execution_count": 41,
   "id": "6ae9e48a",
   "metadata": {
    "scrolled": true
   },
   "outputs": [
    {
     "name": "stdout",
     "output_type": "stream",
     "text": [
      "(308,) (77,)\n"
     ]
    }
   ],
   "source": [
    "print(X_train.shape, X_test.shape)"
   ]
  },
  {
   "cell_type": "code",
   "execution_count": 42,
   "id": "97d799ad",
   "metadata": {},
   "outputs": [],
   "source": [
    "train_accuracy = []\n",
    "test_accuracy = []\n",
    "for i in range(1000):\n",
    "    data_X = np.squeeze(pd.DataFrame(df['ingredients_and_title']))\n",
    "    data_y = np.squeeze(pd.DataFrame(df['expert_assessment']))\n",
    "    X_train, X_test, y_train, y_test = train_test_split(data_X, data_y, test_size=0.2, shuffle = True)\n",
    "    tfidf = TfidfVectorizer(max_features=100, lowercase=True, analyzer='word',\n",
    "                        stop_words= 'english',ngram_range=(1,3),dtype=np.float32)\n",
    "    train = tfidf.fit_transform(X_train)\n",
    "    test = tfidf.transform(X_test)\n",
    "    lr = LogisticRegression()\n",
    "    #scores = cross_val_score(lr, train, y_train, cv=3)\n",
    "    y_pred_train = cross_val_predict(lr, train, y_train, cv=3)\n",
    "    #y_pred_test = cross_val_predict(lr, test, y_test, cv=3)\n",
    "    lr.fit(train, y_train)\n",
    "    #y_pred_train = lr.predict(train)\n",
    "    y_pred_test = lr.predict(test)\n",
    "    train_accuracy.append(accuracy_score(y_train, y_pred_train))\n",
    "    test_accuracy.append(accuracy_score(y_test, y_pred_test))\n"
   ]
  },
  {
   "cell_type": "code",
   "execution_count": 43,
   "id": "9b4e9893",
   "metadata": {
    "scrolled": true
   },
   "outputs": [
    {
     "data": {
      "image/png": "[encoded data removed]",
      "text/plain": [
       "<Figure size 720x720 with 1 Axes>"
      ]
     },
     "metadata": {
      "needs_background": "light"
     },
     "output_type": "display_data"
    }
   ],
   "source": [
    "plt.figure(figsize=(10,10))  \n",
    "plt.hist(train_accuracy, bins = 25,\n",
    "             color = 'blue', edgecolor = 'black')\n",
    "plt.title('Train accuracy', size = 20)\n",
    "plt.xlabel('accuracy', size = 15)\n",
    "\n",
    "plt.show()"
   ]
  },
  {
   "cell_type": "code",
   "execution_count": 44,
   "id": "85bf3f8d",
   "metadata": {},
   "outputs": [
    {
     "name": "stdout",
     "output_type": "stream",
     "text": [
      "0.8049772727272727\n",
      "0.012636716920222668\n"
     ]
    }
   ],
   "source": [
    "print(np.mean(train_accuracy))\n",
    "print(np.std(train_accuracy))"
   ]
  },
  {
   "cell_type": "code",
   "execution_count": 45,
   "id": "61bff9f1",
   "metadata": {},
   "outputs": [
    {
     "data": {
      "image/png": "[encoded data removed]",
      "text/plain": [
       "<Figure size 720x720 with 1 Axes>"
      ]
     },
     "metadata": {
      "needs_background": "light"
     },
     "output_type": "display_data"
    }
   ],
   "source": [
    "plt.figure(figsize=(10,10))  \n",
    "plt.hist(test_accuracy, bins = 25,\n",
    "             color = 'blue', edgecolor = 'black')\n",
    "plt.title('test accuracy', size = 20)\n",
    "plt.xlabel('accuracy', size = 15)\n",
    "#plt.ylabel('Flights', size= 22)\n",
    "\n",
    "#plt.tight_layout()\n",
    "plt.show()"
   ]
  },
  {
   "cell_type": "code",
   "execution_count": 46,
   "id": "b6a0da4b",
   "metadata": {},
   "outputs": [
    {
     "name": "stdout",
     "output_type": "stream",
     "text": [
      "0.8141948051948052\n",
      "0.04156402356992523\n"
     ]
    }
   ],
   "source": [
    "print(np.mean(test_accuracy))\n",
    "print(np.std(test_accuracy))"
   ]
  },
  {
   "cell_type": "markdown",
   "id": "c082ced8",
   "metadata": {},
   "source": [
    "# Word2vec"
   ]
  },
  {
   "cell_type": "markdown",
   "id": "11098736",
   "metadata": {},
   "source": [
    "## ingredients"
   ]
  },
  {
   "cell_type": "code",
   "execution_count": 47,
   "id": "21ad60e1",
   "metadata": {},
   "outputs": [],
   "source": [
    "df['meal_ingredients'] = df['meal_ingredients'].apply(lambda x: preprocess_meals(x))"
   ]
  },
  {
   "cell_type": "code",
   "execution_count": 48,
   "id": "ed961eb1",
   "metadata": {},
   "outputs": [],
   "source": [
    "meal_ingredients = df.meal_ingredients.apply(gensim.utils.simple_preprocess)"
   ]
  },
  {
   "cell_type": "code",
   "execution_count": 49,
   "id": "9c9f5998",
   "metadata": {
    "scrolled": true
   },
   "outputs": [
    {
     "data": {
      "text/plain": [
       "0                                [turkey, burger, salad]\n",
       "1                                       [chicken, salad]\n",
       "2                                         [boiling, egg]\n",
       "3                                           [bagel, egg]\n",
       "4                                 [boiling, egg, coffee]\n",
       "                             ...                        \n",
       "380                        [blueberries, walnuts, water]\n",
       "381              [walnuts, almonds, blackberries, water]\n",
       "382                              [almonds, apple, water]\n",
       "383                              [tangerine, üçä, water]\n",
       "384    [chicken, breast, chick, pease, jerked, season...\n",
       "Name: meal_ingredients, Length: 385, dtype: object"
      ]
     },
     "execution_count": 49,
     "metadata": {},
     "output_type": "execute_result"
    }
   ],
   "source": [
    "meal_ingredients"
   ]
  },
  {
   "cell_type": "code",
   "execution_count": 50,
   "id": "f1721dbb",
   "metadata": {},
   "outputs": [],
   "source": [
    "embeddings = gensim.models.Word2Vec(\n",
    "        window = 1,\n",
    "        min_count = 1,\n",
    "        workers = 1)\n",
    "\n",
    "embeddings.build_vocab(meal_ingredients, progress_per = 100)\n",
    "\n",
    "embeddings.train(meal_ingredients, total_examples = embeddings.corpus_count, epochs = 5)\n",
    "learned_words_meal_ingredients = embeddings.wv.index_to_key"
   ]
  },
  {
   "cell_type": "code",
   "execution_count": 51,
   "id": "26d700e6",
   "metadata": {},
   "outputs": [
    {
     "data": {
      "text/plain": [
       "['water',\n",
       " 'oz',\n",
       " 'chicken',\n",
       " 'tomato',\n",
       " 'salad',\n",
       " 'egg',\n",
       " 'rice',\n",
       " 'cheese',\n",
       " 'onion',\n",
       " 'lettuce',\n",
       " 'apple',\n",
       " 'coffee',\n",
       " 'bottle',\n",
       " 'spinach',\n",
       " 'steak',\n",
       " 'one',\n",
       " 'small',\n",
       " 'milk',\n",
       " 'plus',\n",
       " 'potato',\n",
       " 'glucerna',\n",
       " 'bread',\n",
       " 'oil',\n",
       " 'sausage',\n",
       " 'red',\n",
       " 'green',\n",
       " 'sauce',\n",
       " 'bean',\n",
       " 'yellow',\n",
       " 'olive',\n",
       " 'shrimp',\n",
       " 'cabbage',\n",
       " 'pepper',\n",
       " 'mixed',\n",
       " 'cup',\n",
       " 'banana',\n",
       " 'strawberry',\n",
       " 'wheat',\n",
       " 'dressing',\n",
       " 'ham',\n",
       " 'pork',\n",
       " 'scrambled',\n",
       " 'tomatoes',\n",
       " 'whole',\n",
       " 'cucumber',\n",
       " 'beans',\n",
       " 'hot',\n",
       " 'avocado',\n",
       " 'low',\n",
       " 'ketchup',\n",
       " 'garlic',\n",
       " 'cherry',\n",
       " 'turkey',\n",
       " 'sugar',\n",
       " 'orange',\n",
       " 'soup',\n",
       " 'eggs',\n",
       " 'carrots',\n",
       " 'sunflower',\n",
       " 'corn',\n",
       " 'slice',\n",
       " 'mushroom',\n",
       " 'half',\n",
       " 'salt',\n",
       " 'splenda',\n",
       " 'sprout',\n",
       " 'fry',\n",
       " 'sandwich',\n",
       " 'salmon',\n",
       " 'bacon',\n",
       " 'meat',\n",
       " 'seed',\n",
       " 'bbq',\n",
       " 'carb',\n",
       " 'pea',\n",
       " 'brown',\n",
       " 'peppers',\n",
       " 'black',\n",
       " 'cereal',\n",
       " 'cheerios',\n",
       " 'fat',\n",
       " 'oatmeal',\n",
       " 'roll',\n",
       " 'two',\n",
       " 'yogurt',\n",
       " 'chop',\n",
       " 'strawberries',\n",
       " 'diet',\n",
       " 'bowl',\n",
       " 'bagel',\n",
       " 'broccoli',\n",
       " 'skirt',\n",
       " 'fried',\n",
       " 'onions',\n",
       " 'olives',\n",
       " 'ribs',\n",
       " 'beef',\n",
       " 'brussel',\n",
       " 'dried',\n",
       " 'beet',\n",
       " 'light',\n",
       " 'hotdog',\n",
       " 'roasted',\n",
       " 'tuna',\n",
       " 'protein',\n",
       " 'vinegar',\n",
       " 'fruit',\n",
       " 'bun',\n",
       " 'mazola',\n",
       " 'white',\n",
       " 'caesar',\n",
       " 'grilled',\n",
       " 'butter',\n",
       " 'mayo',\n",
       " 'cinnamon',\n",
       " 'gandules',\n",
       " 'baby',\n",
       " 'cream',\n",
       " 'carrot',\n",
       " 'steamed',\n",
       " 'sweet',\n",
       " 'pumpkin',\n",
       " 'cucumbers',\n",
       " 'burger',\n",
       " 'glass',\n",
       " 'juice',\n",
       " 'wrap',\n",
       " 'sodium',\n",
       " 'peach',\n",
       " 'swiss',\n",
       " 'vegetable',\n",
       " 'balsamic',\n",
       " 'cake',\n",
       " 'peanut',\n",
       " 'grape',\n",
       " 'greens',\n",
       " 'parmesan',\n",
       " 'bell',\n",
       " 'nuts',\n",
       " 'portion',\n",
       " 'ranch',\n",
       " 'cooky',\n",
       " 'blueberries',\n",
       " 'veggie',\n",
       " 'piece',\n",
       " 'tspn',\n",
       " 'rib',\n",
       " 'mustard',\n",
       " 'anchovy',\n",
       " 'lemon',\n",
       " 'cranberry',\n",
       " 'herb',\n",
       " 'wing',\n",
       " 'tortilla',\n",
       " 'margarine',\n",
       " 'cheddar',\n",
       " 'parmigiana',\n",
       " 'greek',\n",
       " 'ice',\n",
       " 'sauteed',\n",
       " 'flour',\n",
       " 'pear',\n",
       " 'stir',\n",
       " 'no',\n",
       " 'chick',\n",
       " 'celery',\n",
       " 'snap',\n",
       " 'breast',\n",
       " 'mini',\n",
       " 'oats',\n",
       " 'and',\n",
       " 'boiled',\n",
       " 'italian',\n",
       " 'joe',\n",
       " 'macaroni',\n",
       " 'quinoa',\n",
       " 'nut',\n",
       " 'burrito',\n",
       " 'chocolate',\n",
       " 'raw',\n",
       " 'chip',\n",
       " 'coke',\n",
       " 'walnuts',\n",
       " 'salsa',\n",
       " 'seeds',\n",
       " 'mashed',\n",
       " 'rye',\n",
       " 'almonds',\n",
       " 'powder',\n",
       " 'prepared',\n",
       " 'trader',\n",
       " 'bologna',\n",
       " 'dog',\n",
       " 'vegetables',\n",
       " 'crab',\n",
       " 'thin',\n",
       " 'cookie',\n",
       " 'patty',\n",
       " 'free',\n",
       " 'avacado',\n",
       " 'jalapeno',\n",
       " 'honey',\n",
       " 'fresh',\n",
       " 'brussels',\n",
       " 'pie',\n",
       " 'table',\n",
       " 'spoon',\n",
       " 'blue',\n",
       " 'sauerkraut',\n",
       " 'pickle',\n",
       " 'dash',\n",
       " 'pasta',\n",
       " 'seasoning',\n",
       " 'platano',\n",
       " 'meatballs',\n",
       " 'general',\n",
       " 'raspberry',\n",
       " 'preserves',\n",
       " 'asparagus',\n",
       " 'loaf',\n",
       " 'pineapple',\n",
       " 'panera',\n",
       " 'pizza',\n",
       " 'cob',\n",
       " 'chops',\n",
       " 'taco',\n",
       " 'style',\n",
       " 'with',\n",
       " 'edamame',\n",
       " 'fish',\n",
       " 'zucchini',\n",
       " 'pancake',\n",
       " 'unsalted',\n",
       " 'tea',\n",
       " 'cauliflower',\n",
       " 'slaw',\n",
       " 'pop',\n",
       " 'large',\n",
       " 'grapes',\n",
       " 'cesar',\n",
       " 'weight',\n",
       " 'ball',\n",
       " 'grain',\n",
       " 'syrup',\n",
       " 'control',\n",
       " 'crouton',\n",
       " 'basil',\n",
       " 'ale',\n",
       " 'lentil',\n",
       " 'bar',\n",
       " 'popcorn',\n",
       " 'energy',\n",
       " 'drink',\n",
       " 'mushrooms',\n",
       " 'chives',\n",
       " 'crepe',\n",
       " 'almond',\n",
       " 'carbs',\n",
       " 'croutons',\n",
       " 'ginger',\n",
       " 'raisin',\n",
       " 'chips',\n",
       " 'baked',\n",
       " 'boiling',\n",
       " 'applesauce',\n",
       " 'iced',\n",
       " 'blueberry',\n",
       " 'cutlet',\n",
       " 'the',\n",
       " 'pease',\n",
       " 'frittata',\n",
       " 'herbs',\n",
       " 'unsweetened',\n",
       " 'soy',\n",
       " 'cantaloupe',\n",
       " 'breakfast',\n",
       " 'äôs',\n",
       " 'pico',\n",
       " 'grits',\n",
       " 'de',\n",
       " 'platanos',\n",
       " 'gallo',\n",
       " 'pink',\n",
       " 'mein',\n",
       " 'shredded',\n",
       " 'sharp',\n",
       " 'himalayan',\n",
       " 'sunkist',\n",
       " 'cider',\n",
       " 'stew',\n",
       " 'grapefruit',\n",
       " 'kix',\n",
       " 'puffin',\n",
       " 'maple',\n",
       " 'glaze',\n",
       " 'arugula',\n",
       " 'wings',\n",
       " 'figs',\n",
       " 'raisins',\n",
       " 'jerked',\n",
       " 'noodles',\n",
       " 'rolls',\n",
       " 'üçä',\n",
       " 'potatoes',\n",
       " 'tangerine',\n",
       " 'feta',\n",
       " 'biscuits',\n",
       " 'ravioli',\n",
       " 'blackberries',\n",
       " 'cornbread',\n",
       " 'alfredo',\n",
       " 'papaya',\n",
       " 'stevia',\n",
       " 'pepitas',\n",
       " 'smoked',\n",
       " 'wall',\n",
       " 'lime',\n",
       " 'chill',\n",
       " 'chrissy',\n",
       " 'hazel',\n",
       " 'charged',\n",
       " 'omelette',\n",
       " 'chunky',\n",
       " 'pecans',\n",
       " 'sheds',\n",
       " 'pilaf',\n",
       " 'waffel',\n",
       " 'season',\n",
       " 'let',\n",
       " 'pkgs',\n",
       " 'matcha',\n",
       " 'hemp',\n",
       " 'kale',\n",
       " 'non',\n",
       " 'flavored',\n",
       " 'plain',\n",
       " 'obliges',\n",
       " 'eater',\n",
       " 'squeeze',\n",
       " 'quarter',\n",
       " 'peas',\n",
       " 'wter',\n",
       " 'leg',\n",
       " 'jelly',\n",
       " 'tzo',\n",
       " 'cornmeal',\n",
       " 'lentils',\n",
       " 'meatless',\n",
       " 'potatoe',\n",
       " 'tst',\n",
       " 'chobani',\n",
       " 'lo',\n",
       " 'marmalade',\n",
       " 'dew',\n",
       " 'chiken',\n",
       " 'gatorade',\n",
       " 'mountain',\n",
       " 'french',\n",
       " 'wayer',\n",
       " 'shells',\n",
       " 'pamello',\n",
       " 'stuffed',\n",
       " 'mac',\n",
       " 'rapps',\n",
       " 'os',\n",
       " 'cole',\n",
       " 'instant',\n",
       " 'clementine',\n",
       " 'jalape',\n",
       " 'pecan',\n",
       " 'vegetale',\n",
       " 'chorizo',\n",
       " 'nectaarine',\n",
       " 'inch',\n",
       " 'üçö',\n",
       " 'waffle',\n",
       " 'siracha',\n",
       " 'blood',\n",
       " 'pomella',\n",
       " 'ceaser',\n",
       " 'dinner',\n",
       " 'portobella',\n",
       " 'craberries',\n",
       " 'pee',\n",
       " 'noodle',\n",
       " 'broc',\n",
       " 'veg',\n",
       " 'pastrami',\n",
       " 'saurerkraut',\n",
       " 'tartar',\n",
       " 'lots',\n",
       " 'fries',\n",
       " 'net',\n",
       " 'tu',\n",
       " 'percent',\n",
       " 'tip',\n",
       " 'brownie',\n",
       " 'spicy',\n",
       " 'well',\n",
       " 'coleslaw',\n",
       " 'made',\n",
       " 'tortillas',\n",
       " 'soda',\n",
       " 'üçê',\n",
       " 'melon',\n",
       " 'filet',\n",
       " 'cakes',\n",
       " 'watermelon',\n",
       " 'cranberries',\n",
       " 'hazelnut',\n",
       " 'atkins',\n",
       " 'quiche',\n",
       " 'seaweed',\n",
       " 'creamer',\n",
       " 'cumin',\n",
       " 'leftovers',\n",
       " 'chex',\n",
       " 'dry',\n",
       " 'restaurant',\n",
       " 'outback',\n",
       " 'veggies',\n",
       " 'paprika',\n",
       " 'dessert',\n",
       " 'raddicchio',\n",
       " 'sardines',\n",
       " 'serving',\n",
       " 'foot',\n",
       " 'long',\n",
       " 'lorraine',\n",
       " 'romaine',\n",
       " 'iceberg',\n",
       " 'oat',\n",
       " 'squid',\n",
       " 'vegan',\n",
       " 'left',\n",
       " 'garlicky',\n",
       " 'steady',\n",
       " 'ox',\n",
       " 'think',\n",
       " 'citrus',\n",
       " 'apk',\n",
       " 'wawa',\n",
       " 'veal',\n",
       " 'saltimboca',\n",
       " 'mozzarella',\n",
       " 'etc',\n",
       " 'usual',\n",
       " 'go',\n",
       " 'option',\n",
       " 'least',\n",
       " 'minute',\n",
       " 'ago',\n",
       " 'leftover',\n",
       " 'last',\n",
       " 'sesame',\n",
       " 'blend',\n",
       " 'brie',\n",
       " 'gouda',\n",
       " 'scone',\n",
       " 'slices',\n",
       " 'plum',\n",
       " 'dough',\n",
       " 'garbanzo',\n",
       " 'strip',\n",
       " 'fajita',\n",
       " 'gkucerna',\n",
       " 'see',\n",
       " 'side',\n",
       " 'sirloin',\n",
       " 'cut',\n",
       " 'center',\n",
       " 'nite',\n",
       " 'chunk',\n",
       " 'kettle',\n",
       " 'squash',\n",
       " 'hearty',\n",
       " 'xslices',\n",
       " 'lasagna',\n",
       " 'knots',\n",
       " 'smoothie',\n",
       " 'corned',\n",
       " 'skim',\n",
       " 'dreamfields',\n",
       " 'spring',\n",
       " 'leafy',\n",
       " 'spam',\n",
       " 'okra',\n",
       " 'spanish',\n",
       " 'reg',\n",
       " 'mix',\n",
       " 'always',\n",
       " 'organic',\n",
       " 'au',\n",
       " 'bu',\n",
       " 'nugget',\n",
       " 'pepperoni',\n",
       " 'cashews',\n",
       " 'pt',\n",
       " 'ritz',\n",
       " 'cracker',\n",
       " 'tso',\n",
       " 'vanilla',\n",
       " 'dumpling',\n",
       " 'hash',\n",
       " 'cutlets',\n",
       " 'teaspoon',\n",
       " 'cherrios',\n",
       " 'sprouts',\n",
       " 'tarts',\n",
       " 'roast',\n",
       " 'split',\n",
       " 'dagwood',\n",
       " 'garbanzos',\n",
       " 'skinny',\n",
       " 'hard',\n",
       " 'pon',\n",
       " 'rasin',\n",
       " 'manila',\n",
       " 'none',\n",
       " 'goya',\n",
       " 'paguen',\n",
       " 'chayote',\n",
       " 'guandule',\n",
       " 'toast',\n",
       " 'penne',\n",
       " 'witg',\n",
       " 'grill',\n",
       " 'peruvian',\n",
       " 'amd',\n",
       " 'sirlion',\n",
       " 'oven',\n",
       " 'jello',\n",
       " 'plantain',\n",
       " 'spaghetti',\n",
       " 'string',\n",
       " 'broiled',\n",
       " 'cups',\n",
       " 'canadian',\n",
       " 'as',\n",
       " 'dice',\n",
       " 'flounder',\n",
       " 'packet',\n",
       " 'fuck',\n",
       " 'brolied',\n",
       " 'arizona',\n",
       " 'marble',\n",
       " 'pound',\n",
       " 'strwaberries',\n",
       " 'bel',\n",
       " 'frank',\n",
       " 'cofffe',\n",
       " 'tart',\n",
       " 'four',\n",
       " 'lucerne',\n",
       " 'plate',\n",
       " 'tomoat',\n",
       " 'ground',\n",
       " 'chopped']"
      ]
     },
     "execution_count": 51,
     "metadata": {},
     "output_type": "execute_result"
    }
   ],
   "source": [
    "learned_words_meal_ingredients"
   ]
  },
  {
   "cell_type": "code",
   "execution_count": 52,
   "id": "fc24898b",
   "metadata": {},
   "outputs": [],
   "source": [
    "words = []\n",
    "for i in meal_ingredients:\n",
    "    temp = []\n",
    "    for j in i:\n",
    "        if j in learned_words_meal_ingredients:\n",
    "            temp.append(j)\n",
    "        else:\n",
    "            print(i)\n",
    "    words.append(temp)"
   ]
  },
  {
   "cell_type": "code",
   "execution_count": 53,
   "id": "b054d152",
   "metadata": {},
   "outputs": [],
   "source": [
    "l = []\n",
    "eg = 0\n",
    "for i in range(len(words)):\n",
    "        if len(words[i])>=1:\n",
    "            a = np.mean(embeddings.wv[words[i]], axis=0)\n",
    "            l.append(a)\n",
    "        else:\n",
    "            l.append(np.asarray(100 * [0]))"
   ]
  },
  {
   "cell_type": "code",
   "execution_count": 54,
   "id": "8eccb51f",
   "metadata": {
    "scrolled": true
   },
   "outputs": [
    {
     "data": {
      "text/plain": [
       "(385,)"
      ]
     },
     "execution_count": 54,
     "metadata": {},
     "output_type": "execute_result"
    }
   ],
   "source": [
    "data_y = np.squeeze(data_y)\n",
    "data_y.shape"
   ]
  },
  {
   "cell_type": "code",
   "execution_count": 55,
   "id": "cceeacec",
   "metadata": {},
   "outputs": [
    {
     "data": {
      "text/plain": [
       "(385, 100)"
      ]
     },
     "execution_count": 55,
     "metadata": {},
     "output_type": "execute_result"
    }
   ],
   "source": [
    "data_X = pd.DataFrame(l)\n",
    "data_X.shape"
   ]
  },
  {
   "cell_type": "code",
   "execution_count": 56,
   "id": "c99db406",
   "metadata": {},
   "outputs": [],
   "source": [
    "train_accuracy = []\n",
    "test_accuracy = []\n",
    "for i in range(1000):\n",
    "    X_train, X_test, y_train, y_test = train_test_split(data_X, data_y, test_size=0.2, shuffle = True)\n",
    "#     tfidf = TfidfVectorizer(max_features=100, lowercase=True, analyzer='word',\n",
    "#                         stop_words= 'english',ngram_range=(1,3),dtype=np.float32)\n",
    "#     train = tfidf.fit_transform(X_train)\n",
    "#     test = tfidf.transform(X_test)\n",
    "    lr = LogisticRegression()\n",
    "    #scores = cross_val_score(lr, train, y_train, cv=3)\n",
    "    y_pred_train = cross_val_predict(lr, X_train, y_train, cv=3)\n",
    "    #y_pred_test = cross_val_predict(lr, test, y_test, cv=3)\n",
    "    lr.fit(X_train, y_train)\n",
    "    #y_pred_train = lr.predict(train)\n",
    "    y_pred_test = lr.predict(X_test)\n",
    "    train_accuracy.append(accuracy_score(y_train, y_pred_train))\n",
    "    test_accuracy.append(accuracy_score(y_test, y_pred_test))"
   ]
  },
  {
   "cell_type": "code",
   "execution_count": 57,
   "id": "9b4e9893",
   "metadata": {
    "scrolled": true
   },
   "outputs": [
    {
     "data": {
      "image/png": "[encoded data removed]",
      "text/plain": [
       "<Figure size 720x720 with 1 Axes>"
      ]
     },
     "metadata": {
      "needs_background": "light"
     },
     "output_type": "display_data"
    }
   ],
   "source": [
    "plt.figure(figsize=(10,10))  \n",
    "plt.hist(train_accuracy, bins = 25,\n",
    "             color = 'blue', edgecolor = 'black')\n",
    "plt.title('Train accuracy', size = 20)\n",
    "plt.xlabel('accuracy', size = 15)\n",
    "\n",
    "plt.show()"
   ]
  },
  {
   "cell_type": "code",
   "execution_count": 58,
   "id": "22159bdb",
   "metadata": {},
   "outputs": [
    {
     "name": "stdout",
     "output_type": "stream",
     "text": [
      "0.7427922077922078\n",
      "0.010905225041678294\n"
     ]
    }
   ],
   "source": [
    "print(np.mean(train_accuracy))\n",
    "print(np.std(train_accuracy))"
   ]
  },
  {
   "cell_type": "code",
   "execution_count": 59,
   "id": "61bff9f1",
   "metadata": {},
   "outputs": [
    {
     "data": {
      "image/png": "[encoded data removed]",
      "text/plain": [
       "<Figure size 720x720 with 1 Axes>"
      ]
     },
     "metadata": {
      "needs_background": "light"
     },
     "output_type": "display_data"
    }
   ],
   "source": [
    "plt.figure(figsize=(10,10))  \n",
    "plt.hist(test_accuracy, bins = 25,\n",
    "             color = 'blue', edgecolor = 'black')\n",
    "plt.title('test accuracy', size = 20)\n",
    "plt.xlabel('accuracy', size = 15)\n",
    "#plt.ylabel('Flights', size= 22)\n",
    "\n",
    "#plt.tight_layout()\n",
    "plt.show()"
   ]
  },
  {
   "cell_type": "code",
   "execution_count": 60,
   "id": "6a5a41cf",
   "metadata": {},
   "outputs": [
    {
     "name": "stdout",
     "output_type": "stream",
     "text": [
      "0.7431168831168832\n",
      "0.04362090016671322\n"
     ]
    }
   ],
   "source": [
    "print(np.mean(test_accuracy))\n",
    "print(np.std(test_accuracy))"
   ]
  },
  {
   "cell_type": "markdown",
   "id": "77617c7c",
   "metadata": {},
   "source": [
    "## title"
   ]
  },
  {
   "cell_type": "code",
   "execution_count": 61,
   "id": "7428b36b",
   "metadata": {},
   "outputs": [
    {
     "data": {
      "text/plain": [
       "0"
      ]
     },
     "execution_count": 61,
     "metadata": {},
     "output_type": "execute_result"
    }
   ],
   "source": [
    "df['meal_title'].isnull().sum()"
   ]
  },
  {
   "cell_type": "code",
   "execution_count": 62,
   "id": "af0d1e37",
   "metadata": {},
   "outputs": [],
   "source": [
    "df['meal_title'] = df['meal_title'].astype(str)"
   ]
  },
  {
   "cell_type": "code",
   "execution_count": 63,
   "id": "21ce221e",
   "metadata": {},
   "outputs": [],
   "source": [
    "df = df.dropna(axis=0, subset=['meal_title'])"
   ]
  },
  {
   "cell_type": "code",
   "execution_count": 64,
   "id": "80ff64e6",
   "metadata": {},
   "outputs": [
    {
     "data": {
      "text/plain": [
       "0"
      ]
     },
     "execution_count": 64,
     "metadata": {},
     "output_type": "execute_result"
    }
   ],
   "source": [
    "df['meal_title'].isnull().sum()"
   ]
  },
  {
   "cell_type": "code",
   "execution_count": 65,
   "id": "04559171",
   "metadata": {},
   "outputs": [],
   "source": [
    "meal_title = df.meal_title.apply(gensim.utils.simple_preprocess)"
   ]
  },
  {
   "cell_type": "code",
   "execution_count": 66,
   "id": "7aa61040",
   "metadata": {
    "scrolled": true
   },
   "outputs": [
    {
     "data": {
      "text/plain": [
       "0                     [salad, with, turkey, burger]\n",
       "1                [chicken, with, mixed, vegetables]\n",
       "2               [boiling, eggs, with, one, cracker]\n",
       "3                           [bagel, with, one, egg]\n",
       "4                                [coffee, and, egg]\n",
       "                           ...                     \n",
       "380                                    [nut, snack]\n",
       "381                                 [snack, treats]\n",
       "382                                [morning, snack]\n",
       "383                                         [water]\n",
       "384    [jerked, chicken, breast, and, chick, pease]\n",
       "Name: meal_title, Length: 385, dtype: object"
      ]
     },
     "execution_count": 66,
     "metadata": {},
     "output_type": "execute_result"
    }
   ],
   "source": [
    "meal_title"
   ]
  },
  {
   "cell_type": "code",
   "execution_count": 67,
   "id": "033d120e",
   "metadata": {},
   "outputs": [],
   "source": [
    "embeddings = gensim.models.Word2Vec(\n",
    "        window = 1,\n",
    "        min_count = 1,\n",
    "        workers = 1)\n",
    "\n",
    "embeddings.build_vocab(meal_title, progress_per = 100)\n",
    "\n",
    "embeddings.train(meal_title, total_examples = embeddings.corpus_count, epochs = 5)\n",
    "learned_words_meal_title = embeddings.wv.index_to_key"
   ]
  },
  {
   "cell_type": "code",
   "execution_count": 68,
   "id": "a66f1a47",
   "metadata": {},
   "outputs": [
    {
     "data": {
      "text/plain": [
       "['and',\n",
       " 'salad',\n",
       " 'with',\n",
       " 'chicken',\n",
       " 'rice',\n",
       " 'of',\n",
       " 'water',\n",
       " 'glucerna',\n",
       " 'bottle',\n",
       " 'steak',\n",
       " 'eggs',\n",
       " 'beans',\n",
       " 'yellow',\n",
       " 'fruit',\n",
       " 'egg',\n",
       " 'cheese',\n",
       " 'mixed',\n",
       " 'spinach',\n",
       " 'sandwich',\n",
       " 'shrimp',\n",
       " 'ham',\n",
       " 'soup',\n",
       " 'red',\n",
       " 'coffee',\n",
       " 'pork',\n",
       " 'cereal',\n",
       " 'ribs',\n",
       " 'breakfast',\n",
       " 'bbq',\n",
       " 'vegetables',\n",
       " 'banana',\n",
       " 'avocado',\n",
       " 'bread',\n",
       " 'meat',\n",
       " 'veggies',\n",
       " 'fish',\n",
       " 'on',\n",
       " 'oz',\n",
       " 'cheerios',\n",
       " 'sausage',\n",
       " 'salmon',\n",
       " 'for',\n",
       " 'gandules',\n",
       " 'dinner',\n",
       " 'caesar',\n",
       " 'apple',\n",
       " 'cabbage',\n",
       " 'cup',\n",
       " 'meal',\n",
       " 'wheat',\n",
       " 'potato',\n",
       " 'glass',\n",
       " 'burger',\n",
       " 'turkey',\n",
       " 'broccoli',\n",
       " 'test',\n",
       " 'peas',\n",
       " 'lettuce',\n",
       " 'the',\n",
       " 'stir',\n",
       " 'fry',\n",
       " 'whole',\n",
       " 'black',\n",
       " 'onions',\n",
       " 'white',\n",
       " 'potatoes',\n",
       " 'tomato',\n",
       " 'go',\n",
       " 'bacon',\n",
       " 'sugar',\n",
       " 'quinoa',\n",
       " 'grilled',\n",
       " 'veggie',\n",
       " 'half',\n",
       " 'pizza',\n",
       " 'one',\n",
       " 'chop',\n",
       " 'yogurt',\n",
       " 'meatballs',\n",
       " 'snack',\n",
       " 'bar',\n",
       " 'in',\n",
       " 'day',\n",
       " 'corn',\n",
       " 'beef',\n",
       " 'burritos',\n",
       " 'bagel',\n",
       " 'sweet',\n",
       " 'nd',\n",
       " 'roll',\n",
       " 'sprouts',\n",
       " 'frittata',\n",
       " 'tso',\n",
       " 'pasta',\n",
       " 'hotdogs',\n",
       " 'olives',\n",
       " 'gral',\n",
       " 'dunkin',\n",
       " 'tomatoes',\n",
       " 'my',\n",
       " 'quesadilla',\n",
       " 'food',\n",
       " 'cutlets',\n",
       " 'breast',\n",
       " 'lentil',\n",
       " 'champs',\n",
       " 'chops',\n",
       " 'pumpkin',\n",
       " 'carrots',\n",
       " 'brunch',\n",
       " 'garlic',\n",
       " 'lasagna',\n",
       " 'milk',\n",
       " 'swiss',\n",
       " 'macaroni',\n",
       " 'cracker',\n",
       " 'lite',\n",
       " 'oatmeal',\n",
       " 'sandwhich',\n",
       " 'pancakes',\n",
       " 'to',\n",
       " 'parmigiana',\n",
       " 'grapes',\n",
       " 'loaf',\n",
       " 'orange',\n",
       " 'mashed',\n",
       " 'yum',\n",
       " 'nite',\n",
       " 'crepe',\n",
       " 'sauce',\n",
       " 'wings',\n",
       " 'steamed',\n",
       " 'up',\n",
       " 'nuts',\n",
       " 'hi',\n",
       " 'fries',\n",
       " 'moes',\n",
       " 'han',\n",
       " 'brown',\n",
       " 'bowl',\n",
       " 'brussels',\n",
       " 'noodles',\n",
       " 'fruits',\n",
       " 'cookies',\n",
       " 'right',\n",
       " 'leftovers',\n",
       " 'hotdog',\n",
       " 'slice',\n",
       " 'general',\n",
       " 'snap',\n",
       " 'chips',\n",
       " 'vegetable',\n",
       " 'üçäturkey',\n",
       " 'cauliflower',\n",
       " 'wake',\n",
       " 'wrap',\n",
       " 'jerked',\n",
       " 'morning',\n",
       " 'rap',\n",
       " 'burrito',\n",
       " 'treats',\n",
       " 'nut',\n",
       " 'off',\n",
       " 'shells',\n",
       " 'health',\n",
       " 'boiling',\n",
       " 'start',\n",
       " 'week',\n",
       " 'stuffed',\n",
       " 'busy',\n",
       " 'warm',\n",
       " 'cornmeal',\n",
       " 'light',\n",
       " 'carb',\n",
       " 'travel',\n",
       " 'long',\n",
       " 'gatorade',\n",
       " 'tzo',\n",
       " 'sunday',\n",
       " 'else',\n",
       " 'someone',\n",
       " 'by',\n",
       " 'made',\n",
       " 'greys',\n",
       " 'papaya',\n",
       " 'easy',\n",
       " 'morn',\n",
       " 'omelette',\n",
       " 'sat',\n",
       " 'wed',\n",
       " 'waffel',\n",
       " 'non',\n",
       " 'roasted',\n",
       " 'mushroom',\n",
       " 'fat',\n",
       " 'portobella',\n",
       " 'eat',\n",
       " 'feel',\n",
       " 'new',\n",
       " 'way',\n",
       " 'pees',\n",
       " 'setting',\n",
       " 'goal',\n",
       " 'desert',\n",
       " 'lemonade',\n",
       " 'last',\n",
       " 'be',\n",
       " 'must',\n",
       " 'panda',\n",
       " 'thin',\n",
       " 'mini',\n",
       " 'cucumber',\n",
       " 'cut',\n",
       " 'night',\n",
       " 'late',\n",
       " 'reuben',\n",
       " 'changing',\n",
       " 'pamello',\n",
       " 'everything',\n",
       " 'cutting',\n",
       " 'subway',\n",
       " 'is',\n",
       " 'zucchini',\n",
       " 'tacos',\n",
       " 'coor',\n",
       " 'brkfst',\n",
       " 'usual',\n",
       " 'veal',\n",
       " 'hamburger',\n",
       " 'casear',\n",
       " 'flagel',\n",
       " 'crepes',\n",
       " 'option',\n",
       " 'dependable',\n",
       " 'at',\n",
       " 'bs',\n",
       " 'bel',\n",
       " 'baby',\n",
       " 'small',\n",
       " 'no',\n",
       " 'garbanzo',\n",
       " 'ny',\n",
       " 'oats',\n",
       " 'enery',\n",
       " 'shake',\n",
       " 'protein',\n",
       " 'energy',\n",
       " 'üåæ',\n",
       " 'sub',\n",
       " 'bologna',\n",
       " 'ususal',\n",
       " 'zero',\n",
       " 'sancocho',\n",
       " 'insalata',\n",
       " 'biscuits',\n",
       " 'rolls',\n",
       " 'icecream',\n",
       " 'cassava',\n",
       " 'wraps',\n",
       " 'fritatta',\n",
       " 'so',\n",
       " 'smoothie',\n",
       " 'strawberry',\n",
       " 'beet',\n",
       " 'carbs',\n",
       " 'many',\n",
       " 'too',\n",
       " 'sodium',\n",
       " 'low',\n",
       " 'pineapple',\n",
       " 'friend',\n",
       " 'sardines',\n",
       " 'mira',\n",
       " 'lunch',\n",
       " 'brussel',\n",
       " 'quiche',\n",
       " 'grilles',\n",
       " 'tuna',\n",
       " 'bertuccis',\n",
       " 'scrambled',\n",
       " 'flakes',\n",
       " 'tips',\n",
       " 'mushrooms',\n",
       " 'spam',\n",
       " 'peppers',\n",
       " 'chick',\n",
       " 'corned',\n",
       " 'mesa',\n",
       " 'de',\n",
       " 'pan',\n",
       " 'knots',\n",
       " 'nuggets',\n",
       " 'pepperoni',\n",
       " 'boiled',\n",
       " 'hard',\n",
       " 'garbanzos',\n",
       " 'dagwood',\n",
       " 'pea',\n",
       " 'split',\n",
       " 'roast',\n",
       " 'asparagus',\n",
       " 'fried',\n",
       " 'ritz',\n",
       " 'rim',\n",
       " 'hearty',\n",
       " 'lobster',\n",
       " 'alfredo',\n",
       " 'stew',\n",
       " 'okra',\n",
       " 'juice',\n",
       " 'cashews',\n",
       " 'oven',\n",
       " 'crab',\n",
       " 'cookie',\n",
       " 'soda',\n",
       " 'filet',\n",
       " 'pieces',\n",
       " 'vegan',\n",
       " 'vegtable',\n",
       " 'mangu',\n",
       " 'string',\n",
       " 'spaghetti',\n",
       " 'plantain',\n",
       " 'grill',\n",
       " 'rasin',\n",
       " 'penne',\n",
       " 'guandule',\n",
       " 'pigeun',\n",
       " 'green',\n",
       " 'broccolli',\n",
       " 'flower',\n",
       " 'call',\n",
       " 'pistachio',\n",
       " 'enchiladas',\n",
       " 'tart',\n",
       " 'pop',\n",
       " 'pease']"
      ]
     },
     "execution_count": 68,
     "metadata": {},
     "output_type": "execute_result"
    }
   ],
   "source": [
    "learned_words_meal_title"
   ]
  },
  {
   "cell_type": "code",
   "execution_count": 69,
   "id": "8c4df476",
   "metadata": {},
   "outputs": [],
   "source": [
    "words = []\n",
    "for i in meal_title:\n",
    "    temp = []\n",
    "    for j in i:\n",
    "        if j in learned_words_meal_title:\n",
    "            temp.append(j)\n",
    "        else:\n",
    "            print(i)\n",
    "    words.append(temp)"
   ]
  },
  {
   "cell_type": "code",
   "execution_count": 70,
   "id": "79a1ceda",
   "metadata": {},
   "outputs": [],
   "source": [
    "l = []\n",
    "for i in range(len(words)):\n",
    "        if len(words[i])>=1:\n",
    "            a = np.mean(embeddings.wv[words[i]], axis=0)\n",
    "            l.append(a)\n",
    "        else:\n",
    "            l.append(np.asarray(100 * [0]))"
   ]
  },
  {
   "cell_type": "code",
   "execution_count": 71,
   "id": "e2d28009",
   "metadata": {
    "scrolled": true
   },
   "outputs": [
    {
     "data": {
      "text/plain": [
       "(385,)"
      ]
     },
     "execution_count": 71,
     "metadata": {},
     "output_type": "execute_result"
    }
   ],
   "source": [
    "data_y = np.squeeze(data_y)\n",
    "data_y.shape"
   ]
  },
  {
   "cell_type": "code",
   "execution_count": 72,
   "id": "ca14a5e3",
   "metadata": {},
   "outputs": [
    {
     "data": {
      "text/plain": [
       "(385, 100)"
      ]
     },
     "execution_count": 72,
     "metadata": {},
     "output_type": "execute_result"
    }
   ],
   "source": [
    "data_X = pd.DataFrame(l)\n",
    "data_X.shape"
   ]
  },
  {
   "cell_type": "code",
   "execution_count": 73,
   "id": "ae08dd98",
   "metadata": {},
   "outputs": [],
   "source": [
    "train_accuracy = []\n",
    "test_accuracy = []\n",
    "for i in range(1000):\n",
    "    X_train, X_test, y_train, y_test = train_test_split(data_X, data_y, test_size=0.2, shuffle = True)\n",
    "#     tfidf = TfidfVectorizer(max_features=100, lowercase=True, analyzer='word',\n",
    "#                         stop_words= 'english',ngram_range=(1,3),dtype=np.float32)\n",
    "#     train = tfidf.fit_transform(X_train)\n",
    "#     test = tfidf.transform(X_test)\n",
    "    lr = LogisticRegression()\n",
    "    #scores = cross_val_score(lr, train, y_train, cv=3)\n",
    "    y_pred_train = cross_val_predict(lr, X_train, y_train, cv=3)\n",
    "    #y_pred_test = cross_val_predict(lr, test, y_test, cv=3)\n",
    "    lr.fit(X_train, y_train)\n",
    "    #y_pred_train = lr.predict(train)\n",
    "    y_pred_test = lr.predict(X_test)\n",
    "    train_accuracy.append(accuracy_score(y_train, y_pred_train))\n",
    "    test_accuracy.append(accuracy_score(y_test, y_pred_test))"
   ]
  },
  {
   "cell_type": "code",
   "execution_count": 74,
   "id": "9b4e9893",
   "metadata": {
    "scrolled": true
   },
   "outputs": [
    {
     "data": {
      "image/png": "[encoded data removed]",
      "text/plain": [
       "<Figure size 720x720 with 1 Axes>"
      ]
     },
     "metadata": {
      "needs_background": "light"
     },
     "output_type": "display_data"
    }
   ],
   "source": [
    "plt.figure(figsize=(10,10))  \n",
    "plt.hist(train_accuracy, bins = 25,\n",
    "             color = 'blue', edgecolor = 'black')\n",
    "plt.title('Train accuracy', size = 20)\n",
    "plt.xlabel('accuracy', size = 15)\n",
    "\n",
    "plt.show()"
   ]
  },
  {
   "cell_type": "code",
   "execution_count": 75,
   "id": "133ee6da",
   "metadata": {},
   "outputs": [
    {
     "name": "stdout",
     "output_type": "stream",
     "text": [
      "0.7431266233766235\n",
      "0.011110971676707986\n"
     ]
    }
   ],
   "source": [
    "print(np.mean(train_accuracy))\n",
    "print(np.std(train_accuracy))"
   ]
  },
  {
   "cell_type": "code",
   "execution_count": 76,
   "id": "61bff9f1",
   "metadata": {},
   "outputs": [
    {
     "data": {
      "image/png": "[encoded data removed]",
      "text/plain": [
       "<Figure size 720x720 with 1 Axes>"
      ]
     },
     "metadata": {
      "needs_background": "light"
     },
     "output_type": "display_data"
    }
   ],
   "source": [
    "plt.figure(figsize=(10,10))  \n",
    "plt.hist(test_accuracy, bins = 25,\n",
    "             color = 'blue', edgecolor = 'black')\n",
    "plt.title('test accuracy', size = 20)\n",
    "plt.xlabel('accuracy', size = 15)\n",
    "#plt.ylabel('Flights', size= 22)\n",
    "\n",
    "#plt.tight_layout()\n",
    "plt.show()"
   ]
  },
  {
   "cell_type": "code",
   "execution_count": 77,
   "id": "edf00c34",
   "metadata": {},
   "outputs": [
    {
     "name": "stdout",
     "output_type": "stream",
     "text": [
      "0.7417792207792206\n",
      "0.04444388670683197\n"
     ]
    }
   ],
   "source": [
    "print(np.mean(test_accuracy))\n",
    "print(np.std(test_accuracy))"
   ]
  },
  {
   "cell_type": "markdown",
   "id": "6114fa2a",
   "metadata": {},
   "source": [
    "## ingredients_and_title"
   ]
  },
  {
   "cell_type": "code",
   "execution_count": 78,
   "id": "cbe4e483",
   "metadata": {},
   "outputs": [],
   "source": [
    "df['ingredients_and_title'] = df['meal_ingredients'].astype(str) +' '+ df['meal_title'].astype(str)"
   ]
  },
  {
   "cell_type": "code",
   "execution_count": 79,
   "id": "0d89d8d5",
   "metadata": {},
   "outputs": [
    {
     "data": {
      "text/plain": [
       "0           Turkey burger salad Salad with turkey burger\n",
       "1            Chicken salad Chicken with mixed vegetables\n",
       "2              Boiling egg Boiling eggs with one cracker\n",
       "3                        Bagel egg 1/2bagel with one egg\n",
       "4                      Boiling egg coffee Coffee and egg\n",
       "                             ...                        \n",
       "380                  Blueberries Walnuts Water Nut Snack\n",
       "381      Walnuts Almonds Blackberries Water Snack Treats\n",
       "382                    Almonds Apple Water Morning Snack\n",
       "383                           Tangerine üçä Water Water\n",
       "384    Chicken Breast Chick Pease Jerked Seasoning Ol...\n",
       "Name: ingredients_and_title, Length: 385, dtype: object"
      ]
     },
     "execution_count": 79,
     "metadata": {},
     "output_type": "execute_result"
    }
   ],
   "source": [
    "df['ingredients_and_title']"
   ]
  },
  {
   "cell_type": "code",
   "execution_count": 80,
   "id": "2ba5e800",
   "metadata": {},
   "outputs": [],
   "source": [
    "meal_ingredients_title = df.ingredients_and_title.apply(gensim.utils.simple_preprocess)"
   ]
  },
  {
   "cell_type": "code",
   "execution_count": 81,
   "id": "c2430807",
   "metadata": {
    "scrolled": true
   },
   "outputs": [
    {
     "data": {
      "text/plain": [
       "0      [turkey, burger, salad, salad, with, turkey, b...\n",
       "1      [chicken, salad, chicken, with, mixed, vegetab...\n",
       "2      [boiling, egg, boiling, eggs, with, one, cracker]\n",
       "3                    [bagel, egg, bagel, with, one, egg]\n",
       "4               [boiling, egg, coffee, coffee, and, egg]\n",
       "                             ...                        \n",
       "380            [blueberries, walnuts, water, nut, snack]\n",
       "381    [walnuts, almonds, blackberries, water, snack,...\n",
       "382              [almonds, apple, water, morning, snack]\n",
       "383                       [tangerine, üçä, water, water]\n",
       "384    [chicken, breast, chick, pease, jerked, season...\n",
       "Name: ingredients_and_title, Length: 385, dtype: object"
      ]
     },
     "execution_count": 81,
     "metadata": {},
     "output_type": "execute_result"
    }
   ],
   "source": [
    "meal_ingredients_title"
   ]
  },
  {
   "cell_type": "code",
   "execution_count": 82,
   "id": "e3e653a0",
   "metadata": {},
   "outputs": [],
   "source": [
    "embeddings = gensim.models.Word2Vec(\n",
    "        window = 1,\n",
    "        min_count = 1,\n",
    "        workers = 1)\n",
    "\n",
    "embeddings.build_vocab(meal_ingredients_title, progress_per = 100)\n",
    "\n",
    "embeddings.train(meal_ingredients_title, total_examples = embeddings.corpus_count, epochs = 5)\n",
    "learned_words_meal_ingredients_title = embeddings.wv.index_to_key"
   ]
  },
  {
   "cell_type": "code",
   "execution_count": 83,
   "id": "f6de6d8c",
   "metadata": {},
   "outputs": [
    {
     "data": {
      "text/plain": [
       "['water',\n",
       " 'and',\n",
       " 'salad',\n",
       " 'chicken',\n",
       " 'oz',\n",
       " 'rice',\n",
       " 'egg',\n",
       " 'with',\n",
       " 'cheese',\n",
       " 'bottle',\n",
       " 'tomato',\n",
       " 'glucerna',\n",
       " 'steak',\n",
       " 'of',\n",
       " 'apple',\n",
       " 'lettuce',\n",
       " 'coffee',\n",
       " 'onion',\n",
       " 'spinach',\n",
       " 'yellow',\n",
       " 'eggs',\n",
       " 'beans',\n",
       " 'mixed',\n",
       " 'shrimp',\n",
       " 'red',\n",
       " 'one',\n",
       " 'small',\n",
       " 'bread',\n",
       " 'ham',\n",
       " 'potato',\n",
       " 'sausage',\n",
       " 'milk',\n",
       " 'pork',\n",
       " 'cabbage',\n",
       " 'banana',\n",
       " 'fruit',\n",
       " 'cup',\n",
       " 'soup',\n",
       " 'plus',\n",
       " 'sandwich',\n",
       " 'sauce',\n",
       " 'oil',\n",
       " 'green',\n",
       " 'wheat',\n",
       " 'bean',\n",
       " 'olive',\n",
       " 'pepper',\n",
       " 'whole',\n",
       " 'avocado',\n",
       " 'strawberry',\n",
       " 'cereal',\n",
       " 'bbq',\n",
       " 'tomatoes',\n",
       " 'turkey',\n",
       " 'cucumber',\n",
       " 'dressing',\n",
       " 'ribs',\n",
       " 'scrambled',\n",
       " 'meat',\n",
       " 'sugar',\n",
       " 'salmon',\n",
       " 'cheerios',\n",
       " 'orange',\n",
       " 'corn',\n",
       " 'low',\n",
       " 'fry',\n",
       " 'garlic',\n",
       " 'half',\n",
       " 'bacon',\n",
       " 'ketchup',\n",
       " 'carrots',\n",
       " 'slice',\n",
       " 'hot',\n",
       " 'black',\n",
       " 'onions',\n",
       " 'glass',\n",
       " 'gandules',\n",
       " 'broccoli',\n",
       " 'yogurt',\n",
       " 'burger',\n",
       " 'breakfast',\n",
       " 'roll',\n",
       " 'cherry',\n",
       " 'caesar',\n",
       " 'vegetables',\n",
       " 'mushroom',\n",
       " 'white',\n",
       " 'beef',\n",
       " 'sunflower',\n",
       " 'chop',\n",
       " 'brown',\n",
       " 'splenda',\n",
       " 'salt',\n",
       " 'oatmeal',\n",
       " 'bagel',\n",
       " 'sweet',\n",
       " 'peppers',\n",
       " 'pea',\n",
       " 'sprout',\n",
       " 'fat',\n",
       " 'fish',\n",
       " 'olives',\n",
       " 'seed',\n",
       " 'bowl',\n",
       " 'grilled',\n",
       " 'carb',\n",
       " 'hotdog',\n",
       " 'brussel',\n",
       " 'two',\n",
       " 'fried',\n",
       " 'veggies',\n",
       " 'stir',\n",
       " 'veggie',\n",
       " 'pumpkin',\n",
       " 'steamed',\n",
       " 'quinoa',\n",
       " 'juice',\n",
       " 'strawberries',\n",
       " 'protein',\n",
       " 'tuna',\n",
       " 'on',\n",
       " 'light',\n",
       " 'skirt',\n",
       " 'dinner',\n",
       " 'beet',\n",
       " 'roasted',\n",
       " 'vegetable',\n",
       " 'baby',\n",
       " 'diet',\n",
       " 'swiss',\n",
       " 'nuts',\n",
       " 'dried',\n",
       " 'the',\n",
       " 'cream',\n",
       " 'mayo',\n",
       " 'peas',\n",
       " 'for',\n",
       " 'vinegar',\n",
       " 'sodium',\n",
       " 'frittata',\n",
       " 'bar',\n",
       " 'meatballs',\n",
       " 'wrap',\n",
       " 'butter',\n",
       " 'parmigiana',\n",
       " 'meal',\n",
       " 'carrot',\n",
       " 'cucumbers',\n",
       " 'bun',\n",
       " 'cinnamon',\n",
       " 'pasta',\n",
       " 'pizza',\n",
       " 'macaroni',\n",
       " 'mashed',\n",
       " 'potatoes',\n",
       " 'mazola',\n",
       " 'breast',\n",
       " 'snap',\n",
       " 'tspn',\n",
       " 'tso',\n",
       " 'bell',\n",
       " 'balsamic',\n",
       " 'no',\n",
       " 'chips',\n",
       " 'nut',\n",
       " 'crepe',\n",
       " 'brussels',\n",
       " 'herb',\n",
       " 'burrito',\n",
       " 'general',\n",
       " 'piece',\n",
       " 'crab',\n",
       " 'loaf',\n",
       " 'chick',\n",
       " 'grape',\n",
       " 'cake',\n",
       " 'bologna',\n",
       " 'anchovy',\n",
       " 'peach',\n",
       " 'sprouts',\n",
       " 'go',\n",
       " 'greens',\n",
       " 'ranch',\n",
       " 'rib',\n",
       " 'chops',\n",
       " 'cranberry',\n",
       " 'parmesan',\n",
       " 'grapes',\n",
       " 'peanut',\n",
       " 'test',\n",
       " 'mustard',\n",
       " 'mini',\n",
       " 'lentil',\n",
       " 'cooky',\n",
       " 'blueberries',\n",
       " 'oats',\n",
       " 'lemon',\n",
       " 'boiled',\n",
       " 'portion',\n",
       " 'pop',\n",
       " 'cheddar',\n",
       " 'joe',\n",
       " 'cauliflower',\n",
       " 'ice',\n",
       " 'nite',\n",
       " 'energy',\n",
       " 'salsa',\n",
       " 'prepared',\n",
       " 'mushrooms',\n",
       " 'rye',\n",
       " 'flour',\n",
       " 'fries',\n",
       " 'day',\n",
       " 'italian',\n",
       " 'chip',\n",
       " 'coke',\n",
       " 'chocolate',\n",
       " 'cookie',\n",
       " 'greek',\n",
       " 'margarine',\n",
       " 'wing',\n",
       " 'wings',\n",
       " 'tortilla',\n",
       " 'trader',\n",
       " 'burritos',\n",
       " 'in',\n",
       " 'lasagna',\n",
       " 'thin',\n",
       " 'boiling',\n",
       " 'nd',\n",
       " 'noodles',\n",
       " 'leftovers',\n",
       " 'zucchini',\n",
       " 'asparagus',\n",
       " 'cutlets',\n",
       " 'celery',\n",
       " 'snack',\n",
       " 'sauteed',\n",
       " 'walnuts',\n",
       " 'dog',\n",
       " 'cracker',\n",
       " 'powder',\n",
       " 'pease',\n",
       " 'seeds',\n",
       " 'almonds',\n",
       " 'pineapple',\n",
       " 'raw',\n",
       " 'pear',\n",
       " 'carbs',\n",
       " 'biscuits',\n",
       " 'cob',\n",
       " 'rolls',\n",
       " 'stew',\n",
       " 'right',\n",
       " 'de',\n",
       " 'preserves',\n",
       " 'raspberry',\n",
       " 'taco',\n",
       " 'guandule',\n",
       " 'pepperoni',\n",
       " 'slaw',\n",
       " 'ball',\n",
       " 'platano',\n",
       " 'patty',\n",
       " 'gatorade',\n",
       " 'edamame',\n",
       " 'dash',\n",
       " 'to',\n",
       " 'stuffed',\n",
       " 'seasoning',\n",
       " 'shells',\n",
       " 'string',\n",
       " 'long',\n",
       " 'spaghetti',\n",
       " 'plantain',\n",
       " 'oven',\n",
       " 'brunch',\n",
       " 'free',\n",
       " 'grill',\n",
       " 'pie',\n",
       " 'penne',\n",
       " 'lite',\n",
       " 'papaya',\n",
       " 'pancakes',\n",
       " 'cashews',\n",
       " 'last',\n",
       " 'roast',\n",
       " 'avacado',\n",
       " 'cut',\n",
       " 'style',\n",
       " 'split',\n",
       " 'okra',\n",
       " 'dagwood',\n",
       " 'spam',\n",
       " 'garbanzos',\n",
       " 'hard',\n",
       " 'smoothie',\n",
       " 'corned',\n",
       " 'knots',\n",
       " 'syrup',\n",
       " 'dunkin',\n",
       " 'rasin',\n",
       " 'control',\n",
       " 'panera',\n",
       " 'my',\n",
       " 'weight',\n",
       " 'yum',\n",
       " 'alfredo',\n",
       " 'sandwhich',\n",
       " 'pancake',\n",
       " 'unsalted',\n",
       " 'grain',\n",
       " 'large',\n",
       " 'tart',\n",
       " 'hearty',\n",
       " 'ritz',\n",
       " 'champs',\n",
       " 'tea',\n",
       " 'fresh',\n",
       " 'cutlet',\n",
       " 'vegan',\n",
       " 'soy',\n",
       " 'herbs',\n",
       " 'tzo',\n",
       " 'food',\n",
       " 'usual',\n",
       " 'iced',\n",
       " 'äôs',\n",
       " 'ale',\n",
       " 'pickle',\n",
       " 'cookies',\n",
       " 'veal',\n",
       " 'basil',\n",
       " 'ginger',\n",
       " 'cornmeal',\n",
       " 'omelette',\n",
       " 'garbanzo',\n",
       " 'soda',\n",
       " 'blueberry',\n",
       " 'moes',\n",
       " 'up',\n",
       " 'fruits',\n",
       " 'cantaloupe',\n",
       " 'chives',\n",
       " 'baked',\n",
       " 'raisin',\n",
       " 'croutons',\n",
       " 'option',\n",
       " 'popcorn',\n",
       " 'drink',\n",
       " 'han',\n",
       " 'cesar',\n",
       " 'hi',\n",
       " 'unsweetened',\n",
       " 'spoon',\n",
       " 'jerked',\n",
       " 'honey',\n",
       " 'portobella',\n",
       " 'quiche',\n",
       " 'non',\n",
       " 'gral',\n",
       " 'crouton',\n",
       " 'quesadilla',\n",
       " 'waffel',\n",
       " 'filet',\n",
       " 'bel',\n",
       " 'pamello',\n",
       " 'table',\n",
       " 'made',\n",
       " 'blue',\n",
       " 'jalapeno',\n",
       " 'sauerkraut',\n",
       " 'hotdogs',\n",
       " 'almond',\n",
       " 'sardines',\n",
       " 'applesauce',\n",
       " 'jalape',\n",
       " 'craberries',\n",
       " 'noodle',\n",
       " 'veg',\n",
       " 'grapefruit',\n",
       " 'inch',\n",
       " 'kix',\n",
       " 'desert',\n",
       " 'pomella',\n",
       " 'puffin',\n",
       " 'blood',\n",
       " 'sunkist',\n",
       " 'chiken',\n",
       " 'üçö',\n",
       " 'os',\n",
       " 'üçä',\n",
       " 'tangerine',\n",
       " 'morning',\n",
       " 'treats',\n",
       " 'blackberries',\n",
       " 'off',\n",
       " 'üçäturkey',\n",
       " 'pepitas',\n",
       " 'lime',\n",
       " 'chill',\n",
       " 'cole',\n",
       " 'warm',\n",
       " 'busy',\n",
       " 'easy',\n",
       " 'chrissy',\n",
       " 'charged',\n",
       " 'clementine',\n",
       " 'lemonade',\n",
       " 'arugula',\n",
       " 'stevia',\n",
       " 'vegetale',\n",
       " 'mangu',\n",
       " 'nectaarine',\n",
       " 'pink',\n",
       " 'himalayan',\n",
       " 'cider',\n",
       " 'setting',\n",
       " 'goal',\n",
       " 'subway',\n",
       " 'wayer',\n",
       " 'meatless',\n",
       " 'matcha',\n",
       " 'chobani',\n",
       " 'siracha',\n",
       " 'lentils',\n",
       " 'kale',\n",
       " 'sat',\n",
       " 'morn',\n",
       " 'reuben',\n",
       " 'everything',\n",
       " 'cutting',\n",
       " 'way',\n",
       " 'new',\n",
       " 'french',\n",
       " 'is',\n",
       " 'tst',\n",
       " 'potatoe',\n",
       " 'feel',\n",
       " 'chorizo',\n",
       " 'marmalade',\n",
       " 'eat',\n",
       " 'saurerkraut',\n",
       " 'travel',\n",
       " 'pastrami',\n",
       " 'ceaser',\n",
       " 'instant',\n",
       " 'by',\n",
       " 'someone',\n",
       " 'pee',\n",
       " 'else',\n",
       " 'pees',\n",
       " 'sunday',\n",
       " 'start',\n",
       " 'obliges',\n",
       " 'let',\n",
       " 'season',\n",
       " 'pilaf',\n",
       " 'mac',\n",
       " 'hemp',\n",
       " 'quarter',\n",
       " 'leg',\n",
       " 'be',\n",
       " 'must',\n",
       " 'maple',\n",
       " 'pecan',\n",
       " 'waffle',\n",
       " 'greys',\n",
       " 'panda',\n",
       " 'jelly',\n",
       " 'glaze',\n",
       " 'dew',\n",
       " 'mountain',\n",
       " 'wake',\n",
       " 'mein',\n",
       " 'broc',\n",
       " 'lo',\n",
       " 'wed',\n",
       " 'night',\n",
       " 'late',\n",
       " 'pkgs',\n",
       " 'lobster',\n",
       " 'wter',\n",
       " 'changing',\n",
       " 'eater',\n",
       " 'flavored',\n",
       " 'squeeze',\n",
       " 'plain',\n",
       " 'health',\n",
       " 'center',\n",
       " 'week',\n",
       " 'cranberries',\n",
       " 'sub',\n",
       " 'tortillas',\n",
       " 'üåæ',\n",
       " 'dessert',\n",
       " 'üçê',\n",
       " 'melon',\n",
       " 'serving',\n",
       " 'cakes',\n",
       " 'watermelon',\n",
       " 'hazelnut',\n",
       " 'plum',\n",
       " 'shake',\n",
       " 'enery',\n",
       " 'oat',\n",
       " 'seaweed',\n",
       " 'squid',\n",
       " 'sesame',\n",
       " 'brie',\n",
       " 'gouda',\n",
       " 'scone',\n",
       " 'coleslaw',\n",
       " 'flakes',\n",
       " 'spicy',\n",
       " 'brownie',\n",
       " 'kettle',\n",
       " 'broiled',\n",
       " 'chex',\n",
       " 'dry',\n",
       " 'pieces',\n",
       " 'mira',\n",
       " 'raddicchio',\n",
       " 'restaurant',\n",
       " 'outback',\n",
       " 'foot',\n",
       " 'lunch',\n",
       " 'romaine',\n",
       " 'iceberg',\n",
       " 'creamer',\n",
       " 'paprika',\n",
       " 'tu',\n",
       " 'percent',\n",
       " 'tip',\n",
       " 'tips',\n",
       " 'slices',\n",
       " 'dough',\n",
       " 'rapps',\n",
       " 'ago',\n",
       " 'casear',\n",
       " 'hamburger',\n",
       " 'saltimboca',\n",
       " 'mozzarella',\n",
       " 'etc',\n",
       " 'least',\n",
       " 'brkfst',\n",
       " 'ususal',\n",
       " 'minute',\n",
       " 'dreamfields',\n",
       " 'ny',\n",
       " 'lots',\n",
       " 'wawa',\n",
       " 'coor',\n",
       " 'zero',\n",
       " 'apk',\n",
       " 'ox',\n",
       " 'left',\n",
       " 'insalata',\n",
       " 'bertuccis',\n",
       " 'sirloin',\n",
       " 'citrus',\n",
       " 'flagel',\n",
       " 'think',\n",
       " 'lorraine',\n",
       " 'strip',\n",
       " 'fajita',\n",
       " 'gkucerna',\n",
       " 'see',\n",
       " 'net',\n",
       " 'atkins',\n",
       " 'well',\n",
       " 'bs',\n",
       " 'chunk',\n",
       " 'at',\n",
       " 'blend',\n",
       " 'grilles',\n",
       " 'side',\n",
       " 'leftover',\n",
       " 'garlicky',\n",
       " 'steady',\n",
       " 'dependable',\n",
       " 'crepes',\n",
       " 'squash',\n",
       " 'manila',\n",
       " 'vegtable',\n",
       " 'rim',\n",
       " 'hash',\n",
       " 'teaspoon',\n",
       " 'cherrios',\n",
       " 'feta',\n",
       " 'wraps',\n",
       " 'tarts',\n",
       " 'skinny',\n",
       " 'fritatta',\n",
       " 'pt',\n",
       " 'dumpling',\n",
       " 'jello',\n",
       " 'so',\n",
       " 'skim',\n",
       " 'xslices',\n",
       " 'nugget',\n",
       " 'nuggets',\n",
       " 'always',\n",
       " 'as',\n",
       " 'flounder',\n",
       " 'pan',\n",
       " 'cassava',\n",
       " 'raisins',\n",
       " 'vanilla',\n",
       " 'wall',\n",
       " 'rap',\n",
       " 'sharp',\n",
       " 'shredded',\n",
       " 'grits',\n",
       " 'platanos',\n",
       " 'sheds',\n",
       " 'chunky',\n",
       " 'smoked',\n",
       " 'cornbread',\n",
       " 'ravioli',\n",
       " 'pico',\n",
       " 'gallo',\n",
       " 'tacos',\n",
       " 'sancocho',\n",
       " 'figs',\n",
       " 'pecans',\n",
       " 'tartar',\n",
       " 'icecream',\n",
       " 'hazel',\n",
       " 'mesa',\n",
       " 'brolied',\n",
       " 'many',\n",
       " 'tomoat',\n",
       " 'dice',\n",
       " 'enchiladas',\n",
       " 'canadian',\n",
       " 'pistachio',\n",
       " 'none',\n",
       " 'call',\n",
       " 'flower',\n",
       " 'broccolli',\n",
       " 'cups',\n",
       " 'goya',\n",
       " 'paguen',\n",
       " 'pigeun',\n",
       " 'chayote',\n",
       " 'toast',\n",
       " 'witg',\n",
       " 'cumin',\n",
       " 'amd',\n",
       " 'sirlion',\n",
       " 'peruvian',\n",
       " 'ground',\n",
       " 'friend',\n",
       " 'spring',\n",
       " 'four',\n",
       " 'leafy',\n",
       " 'spanish',\n",
       " 'reg',\n",
       " 'mix',\n",
       " 'too',\n",
       " 'organic',\n",
       " 'au',\n",
       " 'bu',\n",
       " 'pon',\n",
       " 'strwaberries',\n",
       " 'lucerne',\n",
       " 'packet',\n",
       " 'fuck',\n",
       " 'plate',\n",
       " 'arizona',\n",
       " 'marble',\n",
       " 'pound',\n",
       " 'frank',\n",
       " 'cofffe',\n",
       " 'chopped']"
      ]
     },
     "execution_count": 83,
     "metadata": {},
     "output_type": "execute_result"
    }
   ],
   "source": [
    "learned_words_meal_ingredients_title"
   ]
  },
  {
   "cell_type": "code",
   "execution_count": 84,
   "id": "503b9656",
   "metadata": {},
   "outputs": [],
   "source": [
    "words = []\n",
    "for i in meal_ingredients_title:\n",
    "    temp = []\n",
    "    for j in i:\n",
    "        if j in learned_words_meal_ingredients_title:\n",
    "            temp.append(j)\n",
    "        else:\n",
    "            print(i)\n",
    "    words.append(temp)"
   ]
  },
  {
   "cell_type": "code",
   "execution_count": 85,
   "id": "00c8c6a0",
   "metadata": {},
   "outputs": [],
   "source": [
    "l = []\n",
    "for i in range(len(words)):\n",
    "        if len(words[i])>=1:\n",
    "            a = np.mean(embeddings.wv[words[i]], axis=0)\n",
    "            l.append(a)\n",
    "        else:\n",
    "            l.append(np.asarray(100 * [0]))"
   ]
  },
  {
   "cell_type": "code",
   "execution_count": 86,
   "id": "e5085d5d",
   "metadata": {
    "scrolled": true
   },
   "outputs": [
    {
     "data": {
      "text/plain": [
       "(385,)"
      ]
     },
     "execution_count": 86,
     "metadata": {},
     "output_type": "execute_result"
    }
   ],
   "source": [
    "data_y = np.squeeze(data_y)\n",
    "data_y.shape"
   ]
  },
  {
   "cell_type": "code",
   "execution_count": 87,
   "id": "df00e118",
   "metadata": {},
   "outputs": [
    {
     "data": {
      "text/plain": [
       "(385, 100)"
      ]
     },
     "execution_count": 87,
     "metadata": {},
     "output_type": "execute_result"
    }
   ],
   "source": [
    "data_X = pd.DataFrame(l)\n",
    "data_X.shape"
   ]
  },
  {
   "cell_type": "code",
   "execution_count": 88,
   "id": "10675234",
   "metadata": {},
   "outputs": [],
   "source": [
    "train_accuracy = []\n",
    "test_accuracy = []\n",
    "for i in range(1000):\n",
    "    X_train, X_test, y_train, y_test = train_test_split(data_X, data_y, test_size=0.2, shuffle = True)\n",
    "#     tfidf = TfidfVectorizer(max_features=100, lowercase=True, analyzer='word',\n",
    "#                         stop_words= 'english',ngram_range=(1,3),dtype=np.float32)\n",
    "#     train = tfidf.fit_transform(X_train)\n",
    "#     test = tfidf.transform(X_test)\n",
    "    lr = LogisticRegression()\n",
    "    #scores = cross_val_score(lr, train, y_train, cv=3)\n",
    "    y_pred_train = cross_val_predict(lr, X_train, y_train, cv=3)\n",
    "    #y_pred_test = cross_val_predict(lr, test, y_test, cv=3)\n",
    "    lr.fit(X_train, y_train)\n",
    "    #y_pred_train = lr.predict(train)\n",
    "    y_pred_test = lr.predict(X_test)\n",
    "    train_accuracy.append(accuracy_score(y_train, y_pred_train))\n",
    "    test_accuracy.append(accuracy_score(y_test, y_pred_test))"
   ]
  },
  {
   "cell_type": "code",
   "execution_count": 89,
   "id": "9b4e9893",
   "metadata": {
    "scrolled": true
   },
   "outputs": [
    {
     "data": {
      "image/png": "[encoded data removed]",
      "text/plain": [
       "<Figure size 720x720 with 1 Axes>"
      ]
     },
     "metadata": {
      "needs_background": "light"
     },
     "output_type": "display_data"
    }
   ],
   "source": [
    "plt.figure(figsize=(10,10))  \n",
    "plt.hist(train_accuracy, bins = 25,\n",
    "             color = 'blue', edgecolor = 'black')\n",
    "plt.title('Train accuracy', size = 20)\n",
    "plt.xlabel('accuracy', size = 15)\n",
    "\n",
    "plt.show()"
   ]
  },
  {
   "cell_type": "code",
   "execution_count": 90,
   "id": "f2ffe6e8",
   "metadata": {},
   "outputs": [
    {
     "name": "stdout",
     "output_type": "stream",
     "text": [
      "0.7433571428571429\n",
      "0.011241403829625478\n"
     ]
    }
   ],
   "source": [
    "print(np.mean(train_accuracy))\n",
    "print(np.std(train_accuracy))"
   ]
  },
  {
   "cell_type": "code",
   "execution_count": 91,
   "id": "61bff9f1",
   "metadata": {},
   "outputs": [
    {
     "data": {
      "image/png": "[encoded data removed]",
      "text/plain": [
       "<Figure size 720x720 with 1 Axes>"
      ]
     },
     "metadata": {
      "needs_background": "light"
     },
     "output_type": "display_data"
    }
   ],
   "source": [
    "plt.figure(figsize=(10,10))  \n",
    "plt.hist(test_accuracy, bins = 25,\n",
    "             color = 'blue', edgecolor = 'black')\n",
    "plt.title('test accuracy', size = 20)\n",
    "plt.xlabel('accuracy', size = 15)\n",
    "#plt.ylabel('Flights', size= 22)\n",
    "\n",
    "#plt.tight_layout()\n",
    "plt.show()"
   ]
  },
  {
   "cell_type": "code",
   "execution_count": 92,
   "id": "00dfa3b2",
   "metadata": {},
   "outputs": [
    {
     "name": "stdout",
     "output_type": "stream",
     "text": [
      "0.7408571428571428\n",
      "0.04496561531850195\n"
     ]
    }
   ],
   "source": [
    "print(np.mean(test_accuracy))\n",
    "print(np.std(test_accuracy))"
   ]
  },
  {
   "cell_type": "code",
   "execution_count": null,
   "id": "edef7f46",
   "metadata": {},
   "outputs": [],
   "source": []
  },
  {
   "cell_type": "code",
   "execution_count": null,
   "id": "31782175",
   "metadata": {},
   "outputs": [],
   "source": []
  },
  {
   "cell_type": "code",
   "execution_count": null,
   "id": "cad95200",
   "metadata": {},
   "outputs": [],
   "source": []
  },
  {
   "cell_type": "code",
   "execution_count": null,
   "id": "4f3e586b",
   "metadata": {},
   "outputs": [],
   "source": []
  },
  {
   "cell_type": "code",
   "execution_count": null,
   "id": "eb495987",
   "metadata": {},
   "outputs": [],
   "source": []
  },
  {
   "cell_type": "code",
   "execution_count": null,
   "id": "e1e6e24d",
   "metadata": {},
   "outputs": [],
   "source": []
  },
  {
   "cell_type": "code",
   "execution_count": null,
   "id": "4de7ed6f",
   "metadata": {},
   "outputs": [],
   "source": []
  },
  {
   "cell_type": "code",
   "execution_count": null,
   "id": "a9ae346a",
   "metadata": {},
   "outputs": [],
   "source": []
  },
  {
   "cell_type": "code",
   "execution_count": null,
   "id": "d52e2b9c",
   "metadata": {},
   "outputs": [],
   "source": []
  },
  {
   "cell_type": "code",
   "execution_count": null,
   "id": "cf0ff6e5",
   "metadata": {},
   "outputs": [],
   "source": []
  },
  {
   "cell_type": "code",
   "execution_count": null,
   "id": "7a932b4c",
   "metadata": {},
   "outputs": [],
   "source": []
  },
  {
   "cell_type": "code",
   "execution_count": null,
   "id": "fed8843c",
   "metadata": {},
   "outputs": [],
   "source": []
  },
  {
   "cell_type": "code",
   "execution_count": null,
   "id": "75723f34",
   "metadata": {},
   "outputs": [],
   "source": []
  },
  {
   "cell_type": "code",
   "execution_count": null,
   "id": "b16b1f16",
   "metadata": {},
   "outputs": [],
   "source": []
  },
  {
   "cell_type": "code",
   "execution_count": null,
   "id": "414dabcd",
   "metadata": {},
   "outputs": [],
   "source": []
  },
  {
   "cell_type": "code",
   "execution_count": null,
   "id": "f64e828b",
   "metadata": {},
   "outputs": [],
   "source": []
  },
  {
   "cell_type": "code",
   "execution_count": null,
   "id": "bcec7ae4",
   "metadata": {},
   "outputs": [],
   "source": []
  },
  {
   "cell_type": "code",
   "execution_count": null,
   "id": "32730a2e",
   "metadata": {},
   "outputs": [],
   "source": []
  },
  {
   "cell_type": "code",
   "execution_count": null,
   "id": "1bbd1685",
   "metadata": {},
   "outputs": [],
   "source": []
  },
  {
   "cell_type": "code",
   "execution_count": null,
   "id": "795368b1",
   "metadata": {},
   "outputs": [],
   "source": []
  },
  {
   "cell_type": "code",
   "execution_count": null,
   "id": "c7fdf1da",
   "metadata": {},
   "outputs": [],
   "source": []
  },
  {
   "cell_type": "code",
   "execution_count": null,
   "id": "56cd6167",
   "metadata": {},
   "outputs": [],
   "source": []
  },
  {
   "cell_type": "code",
   "execution_count": null,
   "id": "9bbf107f",
   "metadata": {},
   "outputs": [],
   "source": []
  },
  {
   "cell_type": "code",
   "execution_count": null,
   "id": "4d9c5b08",
   "metadata": {},
   "outputs": [],
   "source": []
  },
  {
   "cell_type": "code",
   "execution_count": null,
   "id": "c5fe5ad8",
   "metadata": {},
   "outputs": [],
   "source": []
  },
  {
   "cell_type": "code",
   "execution_count": null,
   "id": "692f5d0c",
   "metadata": {},
   "outputs": [],
   "source": []
  },
  {
   "cell_type": "code",
   "execution_count": null,
   "id": "6d2fb5d9",
   "metadata": {},
   "outputs": [],
   "source": []
  },
  {
   "cell_type": "code",
   "execution_count": null,
   "id": "72ede2cd",
   "metadata": {},
   "outputs": [],
   "source": []
  },
  {
   "cell_type": "code",
   "execution_count": null,
   "id": "36d9e3aa",
   "metadata": {},
   "outputs": [],
   "source": []
  },
  {
   "cell_type": "code",
   "execution_count": null,
   "id": "57ea3aea",
   "metadata": {},
   "outputs": [],
   "source": []
  },
  {
   "cell_type": "code",
   "execution_count": null,
   "id": "d79901d4",
   "metadata": {},
   "outputs": [],
   "source": []
  },
  {
   "cell_type": "code",
   "execution_count": null,
   "id": "79229ede",
   "metadata": {},
   "outputs": [],
   "source": []
  },
  {
   "cell_type": "code",
   "execution_count": null,
   "id": "6a4488b6",
   "metadata": {},
   "outputs": [],
   "source": []
  },
  {
   "cell_type": "code",
   "execution_count": null,
   "id": "8adb9eb6",
   "metadata": {},
   "outputs": [],
   "source": []
  },
  {
   "cell_type": "code",
   "execution_count": null,
   "id": "a942d52b",
   "metadata": {},
   "outputs": [],
   "source": []
  }
 ],
 "metadata": {
  "kernelspec": {
   "display_name": "Python 3.9 (tensorflow)",
   "language": "python",
   "name": "tensorflow"
  },
  "language_info": {
   "codemirror_mode": {
    "name": "ipython",
    "version": 3
   },
   "file_extension": ".py",
   "mimetype": "text/x-python",
   "name": "python",
   "nbconvert_exporter": "python",
   "pygments_lexer": "ipython3",
   "version": "3.9.7"
  }
 },
 "nbformat": 4,
 "nbformat_minor": 5
}
